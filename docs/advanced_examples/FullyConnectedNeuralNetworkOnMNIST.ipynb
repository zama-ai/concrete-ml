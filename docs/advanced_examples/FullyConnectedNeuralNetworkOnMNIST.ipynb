{
 "cells": [
  {
   "attachments": {},
   "cell_type": "markdown",
   "metadata": {},
   "source": [
    "# Built-In Fully Connected Neural Network on MNIST \n",
    "\n",
    "In this notebook, we show how to train and evaluate a fully connected neural network on the MNIST classification problem using the Concrete ML library, our open-source privacy-preserving machine learning framework based on fully homomorphic encryption (FHE).\n",
    "\n",
    "Using a built-in model, this example emphasizes on the API's ease-of-use by illustrating the few main steps needed to create an efficient inference-secured Neural Network classifier. Thanks to the internal implementation of Quantize Aware Training (QAT) techniques, this Concrete ML `NeuralNetClassifier` model reaches a high accuracy score. More information about QAT is available in the [QAT notebook](QuantizationAwareTraining.ipynb).\n",
    "\n",
    "More precisely, the model is trained on clear data and its accuracy score is computed using FHE simulation, which is expected to be the same as if it was done in FHE. Then, the inference is executed in FHE on a few samples.\n"
   ]
  },
  {
   "cell_type": "markdown",
   "metadata": {},
   "source": [
    "### Import libraries\n",
    "\n",
    "We import the required packages."
   ]
  },
  {
   "cell_type": "code",
   "execution_count": 1,
   "metadata": {},
   "outputs": [],
   "source": [
    "import time\n",
    "\n",
    "import matplotlib.pyplot as plt\n",
    "import numpy as np\n",
    "from joblib import Memory\n",
    "from sklearn.datasets import fetch_openml\n",
    "from sklearn.metrics import accuracy_score\n",
    "from sklearn.model_selection import train_test_split\n",
    "from torch import nn\n",
    "\n",
    "from concrete.ml.sklearn import NeuralNetClassifier"
   ]
  },
  {
   "cell_type": "markdown",
   "metadata": {},
   "source": [
    "### Load the data\n",
    "\n",
    "We download the train and test data-sets from OpenML. "
   ]
  },
  {
   "cell_type": "code",
   "execution_count": 2,
   "metadata": {},
   "outputs": [
    {
     "name": "stdout",
     "output_type": "stream",
     "text": [
      "________________________________________________________________________________\n",
      "[Memory] Calling sklearn.datasets._openml.fetch_openml...\n",
      "fetch_openml('mnist_784')\n"
     ]
    },
    {
     "name": "stdout",
     "output_type": "stream",
     "text": [
      "____________________________________________________fetch_openml - 81.4s, 1.4min\n"
     ]
    }
   ],
   "source": [
    "# scikit-learn's fetch_openml method doesn't handle local cache:\n",
    "# https://github.com/scikit-learn/scikit-learn/issues/18783#issuecomment-723471498\n",
    "# This is a workaround that prevents downloading the data every time the notebook is ran\n",
    "memory = Memory(\"./data/MNIST\")\n",
    "fetch_openml_cached = memory.cache(fetch_openml)\n",
    "\n",
    "# Fetch the MNIST data-set, with inputs already flattened\n",
    "mnist_dataset = fetch_openml_cached(\"mnist_784\")"
   ]
  },
  {
   "attachments": {},
   "cell_type": "markdown",
   "metadata": {},
   "source": [
    "We now need to normalize the values and split the inputs and targets into a test and train data-set. "
   ]
  },
  {
   "cell_type": "code",
   "execution_count": 3,
   "metadata": {},
   "outputs": [],
   "source": [
    "# Define max, mean and std values for the MNIST data-set\n",
    "max_value = 255\n",
    "mean = 0.1307\n",
    "std = 0.3081\n",
    "\n",
    "# Normalize the training data\n",
    "data = (mnist_dataset.data) / max_value\n",
    "data = ((data - mean) / std).round(decimals=4)\n",
    "\n",
    "# Concrete ML's NNs do not support: category, str, object types\n",
    "# FIXME: https://github.com/zama-ai/concrete-ml-internal/issues/2990\n",
    "target = mnist_dataset.target.astype(\"int\")"
   ]
  },
  {
   "cell_type": "code",
   "execution_count": 4,
   "metadata": {},
   "outputs": [],
   "source": [
    "test_size = 10000\n",
    "x_train, x_test, y_train, y_test = train_test_split(\n",
    "    data, target, test_size=test_size, random_state=0\n",
    ")"
   ]
  },
  {
   "attachments": {},
   "cell_type": "markdown",
   "metadata": {},
   "source": [
    "Let's plot the first images from the train data."
   ]
  },
  {
   "cell_type": "code",
   "execution_count": 5,
   "metadata": {},
   "outputs": [],
   "source": [
    "def plot_samples(data, targets, n_samples=5, title=\"Train target\"):\n",
    "    # MNIST images are originally of shape 28x28 with grayscale values\n",
    "    samples_to_plot = np.array(data)[:n_samples].reshape((n_samples, 28, 28))\n",
    "\n",
    "    fig = plt.figure(figsize=(30, 30))\n",
    "\n",
    "    for i in range(n_samples):\n",
    "        subplot = fig.add_subplot(1, n_samples, i + 1)\n",
    "        subplot.set_title(f\"{title}: {np.array(targets)[i]}\", fontsize=15)\n",
    "        subplot.imshow(samples_to_plot[i], cmap=\"gray\", interpolation=\"nearest\")"
   ]
  },
  {
   "cell_type": "code",
   "execution_count": 6,
   "metadata": {},
   "outputs": [
    {
     "data": {
      "image/png": "[encoded data removed]",
      "text/plain": [
       "<Figure size 3000x3000 with 5 Axes>"
      ]
     },
     "metadata": {},
     "output_type": "display_data"
    }
   ],
   "source": [
    "plot_samples(x_train, y_train)"
   ]
  },
  {
   "cell_type": "markdown",
   "metadata": {},
   "source": [
    "### Instantiate the model\n",
    "\n",
    "This step is easy to achieve as we use a built-in Fully Connected Neural Network. Only a few input parameters are needed:\n",
    "- `module__n_layers`: number of Fully Connected layers to use in the model\n",
    "- `module__n_w_bits` and `module__n_a_bits`: respectively the number of bits to use for quantizing the weight and input/activation values as the FHE can currently only compute integers. These numbers should not become too large as it can cause the compilation step to fail (see Compile section below)\n",
    "- `module__n_accum_bits`: The maximal allowed bit-width to target for intermediate accumulators. It is currently set to 15 as the actual maximum bit width reached during compilation can be up to one bit higher than this targeted value, in this case 16, which is the maximal value that Concrete ML currently supports.\n",
    "- `module__n_hidden_neurons_multiplier`: A factor that is multiplied by the maximal number of active (non-zero weight) neurons for every layer. Default to 4 but set to 1 here in order to speed up all executions without changing the test accuracy by much. More detail in the qqn documentation. \n",
    "- `module__activation_function`: The activation function to use\n",
    "- `max_epochs`: The number of epochs to consider"
   ]
  },
  {
   "cell_type": "code",
   "execution_count": 7,
   "metadata": {},
   "outputs": [],
   "source": [
    "params = {\n",
    "    \"module__n_layers\": 2,\n",
    "    \"module__n_w_bits\": 4,\n",
    "    \"module__n_a_bits\": 4,\n",
    "    \"module__n_hidden_neurons_multiplier\": 0.5,\n",
    "    \"module__activation_function\": nn.ReLU,\n",
    "    \"max_epochs\": 7,\n",
    "}\n",
    "\n",
    "model = NeuralNetClassifier(**params)"
   ]
  },
  {
   "cell_type": "markdown",
   "metadata": {},
   "source": [
    "### Train the model\n",
    "\n",
    "The fit method handles Pandas DataFrame as inputs."
   ]
  },
  {
   "cell_type": "code",
   "execution_count": 8,
   "metadata": {},
   "outputs": [
    {
     "name": "stdout",
     "output_type": "stream",
     "text": [
      "  epoch    train_loss    valid_acc    valid_loss     dur\n",
      "-------  ------------  -----------  ------------  ------\n",
      "      1        \u001b[36m0.3990\u001b[0m       \u001b[32m0.9176\u001b[0m        \u001b[35m0.2609\u001b[0m  4.9918\n"
     ]
    },
    {
     "name": "stdout",
     "output_type": "stream",
     "text": [
      "      2        \u001b[36m0.2154\u001b[0m       \u001b[32m0.9383\u001b[0m        \u001b[35m0.2075\u001b[0m  5.1477\n"
     ]
    },
    {
     "name": "stdout",
     "output_type": "stream",
     "text": [
      "      3        \u001b[36m0.2120\u001b[0m       \u001b[32m0.9444\u001b[0m        0.2136  5.5267\n"
     ]
    },
    {
     "name": "stdout",
     "output_type": "stream",
     "text": [
      "      4        \u001b[36m0.1955\u001b[0m       \u001b[32m0.9470\u001b[0m        0.2116  5.4835\n"
     ]
    },
    {
     "name": "stdout",
     "output_type": "stream",
     "text": [
      "      5        \u001b[36m0.1888\u001b[0m       0.9445        0.2154  5.2513\n"
     ]
    },
    {
     "name": "stdout",
     "output_type": "stream",
     "text": [
      "      6        \u001b[36m0.1747\u001b[0m       \u001b[32m0.9471\u001b[0m        0.2127  5.2479\n"
     ]
    },
    {
     "name": "stdout",
     "output_type": "stream",
     "text": [
      "      7        \u001b[36m0.1626\u001b[0m       0.9460        0.2088  5.3188\n"
     ]
    }
   ],
   "source": [
    "model.fit(X=x_train, y=y_train);"
   ]
  },
  {
   "cell_type": "markdown",
   "metadata": {},
   "source": [
    "### Compute predictions in the clear\n",
    "\n",
    "We then compute the accuracy score reached by the model when executed in the clear. It is important to understand that no FHE computations are done here. This step is not necessary but helps illustrate what results should we expect from the model. It is therefore used to demonstrate that FHE computations are exact, meaning the FHE accuracy score will exactly match this very one."
   ]
  },
  {
   "cell_type": "code",
   "execution_count": 9,
   "metadata": {},
   "outputs": [
    {
     "name": "stdout",
     "output_type": "stream",
     "text": [
      "The test accuracy of the clear model is 0.94\n"
     ]
    }
   ],
   "source": [
    "y_preds_clear = model.predict(x_test, fhe=\"disable\")\n",
    "\n",
    "print(f\"The test accuracy of the clear model is {accuracy_score(y_test, y_preds_clear):.2f}\")"
   ]
  },
  {
   "attachments": {},
   "cell_type": "markdown",
   "metadata": {},
   "source": [
    "### Compile the model\n",
    "\n",
    "A Concrete ML model needs to be compiled on an input-set, usually the train set or one of its sub-set, before being able to predict. This step creates an FHE circuit, which essentially saves elements found in the model's inference (graph of operations, shapes, bit-width precisions, etc.) needed for the compiler when executing the predictions in FHE during the `predict` method. \n",
    "\n",
    "The maximum bit-width that can be reached by any values (inputs, weights, accumulators) in this circuit is currently 16-bits. If this limit is exceeded, the compilation fails and the user needs to change some of the model's parameters (e.g., decrease the number of quantization bits or decrease `module__n_accum_bits`). \n"
   ]
  },
  {
   "cell_type": "code",
   "execution_count": 10,
   "metadata": {},
   "outputs": [
    {
     "name": "stdout",
     "output_type": "stream",
     "text": [
      "Circuit of 12-bits (FHE simulation)\n"
     ]
    }
   ],
   "source": [
    "# Reduce the input-set's length to make the compilation time faster\n",
    "# The input-set should be large enough to be representative of the input data\n",
    "inputset = x_train.head(1000)\n",
    "simulated_fhe_circuit = model.compile(inputset)\n",
    "\n",
    "# Print the circuit's maximum bit-width reached during compilation\n",
    "print(f\"Circuit of {simulated_fhe_circuit.graph.maximum_integer_bit_width()}-bits (FHE simulation)\")"
   ]
  },
  {
   "attachments": {},
   "cell_type": "markdown",
   "metadata": {},
   "source": [
    "### Compute the accuracy score with FHE simulation\n",
    "\n",
    "Now, we compute the accuracy score reached by the FHE model with FHE simulation. The accuracy score obtained by simulation, which is faster, is expected to be the same as the one obtained in FHE."
   ]
  },
  {
   "cell_type": "code",
   "execution_count": 11,
   "metadata": {},
   "outputs": [
    {
     "name": "stdout",
     "output_type": "stream",
     "text": [
      "The test accuracy (with FHE simulation) of the FHE model is 0.94\n"
     ]
    }
   ],
   "source": [
    "# Evaluate the model using simulation\n",
    "y_preds_simulated = model.predict(x_test, fhe=\"simulate\")\n",
    "\n",
    "print(\n",
    "    \"The test accuracy (with FHE simulation) of the FHE model is \"\n",
    "    f\"{accuracy_score(y_test, y_preds_simulated):.2f}\"\n",
    ")"
   ]
  },
  {
   "cell_type": "markdown",
   "metadata": {},
   "source": [
    "### Measure FHE inference time\n",
    "\n",
    "\n",
    "Now, let's compute some predictions in FHE. In order to make the computations faster, we will consider a sample of the original test set and compare these results to the expected values.\n",
    "\n",
    "We execute the key generation separately from the predictions in order to be able to measure its execution time."
   ]
  },
  {
   "cell_type": "code",
   "execution_count": 12,
   "metadata": {},
   "outputs": [
    {
     "name": "stdout",
     "output_type": "stream",
     "text": [
      "FHE circuit of 12-bits\n",
      "Key generation time: 1.42 seconds\n"
     ]
    }
   ],
   "source": [
    "# Print the circuit's maximum bit-width reached during compilation\n",
    "print(f\"FHE circuit of {model.fhe_circuit.graph.maximum_integer_bit_width()}-bits\")\n",
    "\n",
    "time_begin = time.time()\n",
    "model.fhe_circuit.client.keygen(force=True)\n",
    "print(f\"Key generation time: {time.time() - time_begin:.2f} seconds\")"
   ]
  },
  {
   "cell_type": "code",
   "execution_count": 13,
   "metadata": {},
   "outputs": [
    {
     "name": "stdout",
     "output_type": "stream",
     "text": [
      "Execution time in FHE: 5.56 seconds per sample\n",
      "\n",
      "Expected values: [0, 4, 1]\n",
      "Simulated prediction values: [0 4 1]\n",
      "FHE prediction values: [0 4 1]\n"
     ]
    }
   ],
   "source": [
    "# Reduce the test set\n",
    "n_samples = 3\n",
    "x_test_sample = x_test.head(n_samples)\n",
    "y_test_sample = y_test.head(n_samples)\n",
    "\n",
    "# Execute the predictions using FHE simulation on a few samples\n",
    "simulated_fhe_predictions = model.predict(x_test_sample, fhe=\"simulate\")\n",
    "\n",
    "time_begin = time.time()\n",
    "fhe_predictions = model.predict(x_test_sample, fhe=\"execute\")\n",
    "seconds_per_sample = (time.time() - time_begin) / len(x_test_sample)\n",
    "print(f\"Execution time in FHE: {seconds_per_sample:.2f} seconds per sample\\n\")\n",
    "\n",
    "print(\"Expected values:\", y_test_sample.tolist())\n",
    "print(\"Simulated prediction values:\", simulated_fhe_predictions)\n",
    "print(\"FHE prediction values:\", fhe_predictions)"
   ]
  },
  {
   "attachments": {},
   "cell_type": "markdown",
   "metadata": {},
   "source": [
    "## Conclusion\n",
    "\n",
    "In this notebook, we showed how to use a built-in Fully Connected Neural Network classifier on the MNIST data-set using the Concrete ML library in order to make its inference completely secure.\n",
    "\n",
    "Training, compiling and evaluation such a model is intuitive as our API follows most common Machine Learning APIs. In fact, only a few additional parameters related to quantization are requested, such as `module__n_w_bits`, `module__n_a_bits` or `module__n_accum_bits`. Thanks to the internal implementation of Quantize Aware Training (QAT) techniques, the Concrete ML `NeuralNetCLassifier` model reached a high accuracy score.\n",
    "\n",
    "A single FHE execution using the initial model takes several minutes on a multi-core machine. "
   ]
  }
 ],
 "metadata": {
  "execution": {
   "timeout": 10800
  }
 },
 "nbformat": 4,
 "nbformat_minor": 2
}
