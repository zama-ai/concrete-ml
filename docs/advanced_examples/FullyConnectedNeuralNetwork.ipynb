{
 "cells": [
  {
   "cell_type": "markdown",
   "metadata": {},
   "source": [
    "# Fully Connected Neural Network\n",
    "\n",
    "In this example, we show how one can train a neural network on a specific task (here, Iris Classification) and convert it to its FHE counterpart such that it runs over encrypted data."
   ]
  },
  {
   "cell_type": "code",
   "execution_count": 1,
   "metadata": {},
   "outputs": [],
   "source": [
    "import time\n",
    "\n",
    "import numpy as np\n",
    "from matplotlib import pyplot as plt\n",
    "from sklearn.datasets import load_iris\n",
    "from sklearn.decomposition import PCA\n",
    "from sklearn.metrics import accuracy_score\n",
    "from sklearn.model_selection import train_test_split\n",
    "from torch import nn\n",
    "from tqdm import tqdm\n",
    "\n",
    "from concrete.ml.sklearn import NeuralNetClassifier"
   ]
  },
  {
   "cell_type": "markdown",
   "metadata": {},
   "source": [
    "### Define all required variables to train the model"
   ]
  },
  {
   "cell_type": "code",
   "execution_count": 2,
   "metadata": {},
   "outputs": [],
   "source": [
    "# Get iris data-set\n",
    "\n",
    "X, y = load_iris(return_X_y=True)\n",
    "\n",
    "# Split into train and test\n",
    "X_train, X_test, y_train, y_test = train_test_split(X, y, test_size=0.25, random_state=42)\n",
    "\n",
    "# Scikit-Learn and Concrete ML neural networks only handle float32 input values\n",
    "X_train, X_test = X_train.astype(\"float32\"), X_test.astype(\"float32\")"
   ]
  },
  {
   "cell_type": "markdown",
   "metadata": {},
   "source": [
    "## Model training and evaluation"
   ]
  },
  {
   "cell_type": "code",
   "execution_count": 3,
   "metadata": {},
   "outputs": [],
   "source": [
    "params = {\n",
    "    \"module__n_layers\": 3,\n",
    "    \"module__activation_function\": nn.ReLU,\n",
    "    \"max_epochs\": 1000,\n",
    "    \"verbose\": 0,\n",
    "}\n",
    "model = NeuralNetClassifier(**params)"
   ]
  },
  {
   "cell_type": "code",
   "execution_count": 4,
   "metadata": {},
   "outputs": [],
   "source": [
    "model, sklearn_model = model.fit_benchmark(X=X_train, y=y_train)"
   ]
  },
  {
   "cell_type": "code",
   "execution_count": 5,
   "metadata": {},
   "outputs": [
    {
     "name": "stdout",
     "output_type": "stream",
     "text": [
      "The test accuracy of the trained scikit-learn model is 100.00%\n"
     ]
    }
   ],
   "source": [
    "# Evaluate the sklearn model, which needs to specifically be of type float32\n",
    "y_pred_sklearn = sklearn_model.predict(X_test)\n",
    "\n",
    "sklearn_accuracy = accuracy_score(y_test, y_pred_sklearn) * 100\n",
    "print(f\"The test accuracy of the trained scikit-learn model is {sklearn_accuracy:.2f}%\")"
   ]
  },
  {
   "cell_type": "code",
   "execution_count": 6,
   "metadata": {},
   "outputs": [
    {
     "name": "stdout",
     "output_type": "stream",
     "text": [
      "The test accuracy of the trained Concrete ML simulated model is 81.58%\n"
     ]
    }
   ],
   "source": [
    "# Evaluate the Concrete ML model in the clear\n",
    "y_pred_simulated = model.predict(X_test)\n",
    "\n",
    "simulated_accuracy = accuracy_score(y_test, y_pred_simulated) * 100\n",
    "print(f\"The test accuracy of the trained Concrete ML simulated model is {simulated_accuracy:.2f}%\")"
   ]
  },
  {
   "cell_type": "markdown",
   "metadata": {},
   "source": [
    "## FHE Inference"
   ]
  },
  {
   "cell_type": "code",
   "execution_count": 7,
   "metadata": {},
   "outputs": [],
   "source": [
    "# Compile the model to have before\n",
    "fhe_circuit = model.compile(X_train)"
   ]
  },
  {
   "cell_type": "markdown",
   "metadata": {},
   "source": [
    "### Generate the key"
   ]
  },
  {
   "cell_type": "code",
   "execution_count": 8,
   "metadata": {},
   "outputs": [
    {
     "name": "stdout",
     "output_type": "stream",
     "text": [
      "Generating a key for a 9-bit circuit\n"
     ]
    }
   ],
   "source": [
    "print(\"Generating a key for a \" f\"{fhe_circuit.graph.maximum_integer_bit_width()}-bit circuit\")"
   ]
  },
  {
   "cell_type": "code",
   "execution_count": 9,
   "metadata": {},
   "outputs": [
    {
     "name": "stdout",
     "output_type": "stream",
     "text": [
      "Key generation time: 1.65 seconds\n"
     ]
    }
   ],
   "source": [
    "time_begin = time.time()\n",
    "fhe_circuit.client.keygen(force=True)\n",
    "print(f\"Key generation time: {time.time() - time_begin:.2f} seconds\")"
   ]
  },
  {
   "cell_type": "markdown",
   "metadata": {},
   "source": [
    "### Predict in FHE"
   ]
  },
  {
   "cell_type": "code",
   "execution_count": 10,
   "metadata": {},
   "outputs": [
    {
     "name": "stderr",
     "output_type": "stream",
     "text": [
      "\r",
      "  0%|          | 0/38 [00:00<?, ?it/s]"
     ]
    },
    {
     "name": "stderr",
     "output_type": "stream",
     "text": [
      "\r",
      "  3%|▎         | 1/38 [00:01<01:05,  1.76s/it]"
     ]
    },
    {
     "name": "stderr",
     "output_type": "stream",
     "text": [
      "\r",
      "  5%|▌         | 2/38 [00:02<00:48,  1.34s/it]"
     ]
    },
    {
     "name": "stderr",
     "output_type": "stream",
     "text": [
      "\r",
      "  8%|▊         | 3/38 [00:03<00:40,  1.17s/it]"
     ]
    },
    {
     "name": "stderr",
     "output_type": "stream",
     "text": [
      "\r",
      " 11%|█         | 4/38 [00:04<00:36,  1.07s/it]"
     ]
    },
    {
     "name": "stderr",
     "output_type": "stream",
     "text": [
      "\r",
      " 13%|█▎        | 5/38 [00:05<00:33,  1.01s/it]"
     ]
    },
    {
     "name": "stderr",
     "output_type": "stream",
     "text": [
      "\r",
      " 16%|█▌        | 6/38 [00:06<00:30,  1.05it/s]"
     ]
    },
    {
     "name": "stderr",
     "output_type": "stream",
     "text": [
      "\r",
      " 18%|█▊        | 7/38 [00:07<00:28,  1.09it/s]"
     ]
    },
    {
     "name": "stderr",
     "output_type": "stream",
     "text": [
      "\r",
      " 21%|██        | 8/38 [00:08<00:26,  1.13it/s]"
     ]
    },
    {
     "name": "stderr",
     "output_type": "stream",
     "text": [
      "\r",
      " 24%|██▎       | 9/38 [00:09<00:28,  1.00it/s]"
     ]
    },
    {
     "name": "stderr",
     "output_type": "stream",
     "text": [
      "\r",
      " 26%|██▋       | 10/38 [00:10<00:27,  1.03it/s]"
     ]
    },
    {
     "name": "stderr",
     "output_type": "stream",
     "text": [
      "\r",
      " 29%|██▉       | 11/38 [00:11<00:29,  1.09s/it]"
     ]
    },
    {
     "name": "stderr",
     "output_type": "stream",
     "text": [
      "\r",
      " 32%|███▏      | 12/38 [00:12<00:28,  1.11s/it]"
     ]
    },
    {
     "name": "stderr",
     "output_type": "stream",
     "text": [
      "\r",
      " 34%|███▍      | 13/38 [00:14<00:31,  1.27s/it]"
     ]
    },
    {
     "name": "stderr",
     "output_type": "stream",
     "text": [
      "\r",
      " 37%|███▋      | 14/38 [00:15<00:32,  1.35s/it]"
     ]
    },
    {
     "name": "stderr",
     "output_type": "stream",
     "text": [
      "\r",
      " 39%|███▉      | 15/38 [00:17<00:33,  1.45s/it]"
     ]
    },
    {
     "name": "stderr",
     "output_type": "stream",
     "text": [
      "\r",
      " 42%|████▏     | 16/38 [00:19<00:32,  1.50s/it]"
     ]
    },
    {
     "name": "stderr",
     "output_type": "stream",
     "text": [
      "\r",
      " 45%|████▍     | 17/38 [00:20<00:27,  1.32s/it]"
     ]
    },
    {
     "name": "stderr",
     "output_type": "stream",
     "text": [
      "\r",
      " 47%|████▋     | 18/38 [00:21<00:24,  1.23s/it]"
     ]
    },
    {
     "name": "stderr",
     "output_type": "stream",
     "text": [
      "\r",
      " 50%|█████     | 19/38 [00:21<00:21,  1.11s/it]"
     ]
    },
    {
     "name": "stderr",
     "output_type": "stream",
     "text": [
      "\r",
      " 53%|█████▎    | 20/38 [00:22<00:18,  1.04s/it]"
     ]
    },
    {
     "name": "stderr",
     "output_type": "stream",
     "text": [
      "\r",
      " 55%|█████▌    | 21/38 [00:23<00:16,  1.02it/s]"
     ]
    },
    {
     "name": "stderr",
     "output_type": "stream",
     "text": [
      "\r",
      " 58%|█████▊    | 22/38 [00:24<00:15,  1.05it/s]"
     ]
    },
    {
     "name": "stderr",
     "output_type": "stream",
     "text": [
      "\r",
      " 61%|██████    | 23/38 [00:25<00:13,  1.08it/s]"
     ]
    },
    {
     "name": "stderr",
     "output_type": "stream",
     "text": [
      "\r",
      " 63%|██████▎   | 24/38 [00:26<00:12,  1.11it/s]"
     ]
    },
    {
     "name": "stderr",
     "output_type": "stream",
     "text": [
      "\r",
      " 66%|██████▌   | 25/38 [00:27<00:11,  1.13it/s]"
     ]
    },
    {
     "name": "stderr",
     "output_type": "stream",
     "text": [
      "\r",
      " 68%|██████▊   | 26/38 [00:28<00:10,  1.13it/s]"
     ]
    },
    {
     "name": "stderr",
     "output_type": "stream",
     "text": [
      "\r",
      " 71%|███████   | 27/38 [00:29<00:11,  1.02s/it]"
     ]
    },
    {
     "name": "stderr",
     "output_type": "stream",
     "text": [
      "\r",
      " 74%|███████▎  | 28/38 [00:30<00:10,  1.07s/it]"
     ]
    },
    {
     "name": "stderr",
     "output_type": "stream",
     "text": [
      "\r",
      " 76%|███████▋  | 29/38 [00:31<00:08,  1.03it/s]"
     ]
    },
    {
     "name": "stderr",
     "output_type": "stream",
     "text": [
      "\r",
      " 79%|███████▉  | 30/38 [00:32<00:07,  1.10it/s]"
     ]
    },
    {
     "name": "stderr",
     "output_type": "stream",
     "text": [
      "\r",
      " 82%|████████▏ | 31/38 [00:32<00:06,  1.13it/s]"
     ]
    },
    {
     "name": "stderr",
     "output_type": "stream",
     "text": [
      "\r",
      " 84%|████████▍ | 32/38 [00:33<00:05,  1.15it/s]"
     ]
    },
    {
     "name": "stderr",
     "output_type": "stream",
     "text": [
      "\r",
      " 87%|████████▋ | 33/38 [00:34<00:04,  1.04it/s]"
     ]
    },
    {
     "name": "stderr",
     "output_type": "stream",
     "text": [
      "\r",
      " 89%|████████▉ | 34/38 [00:35<00:03,  1.05it/s]"
     ]
    },
    {
     "name": "stderr",
     "output_type": "stream",
     "text": [
      "\r",
      " 92%|█████████▏| 35/38 [00:36<00:02,  1.09it/s]"
     ]
    },
    {
     "name": "stderr",
     "output_type": "stream",
     "text": [
      "\r",
      " 95%|█████████▍| 36/38 [00:37<00:01,  1.15it/s]"
     ]
    },
    {
     "name": "stderr",
     "output_type": "stream",
     "text": [
      "\r",
      " 97%|█████████▋| 37/38 [00:38<00:00,  1.20it/s]"
     ]
    },
    {
     "name": "stderr",
     "output_type": "stream",
     "text": [
      "\r",
      "100%|██████████| 38/38 [00:38<00:00,  1.24it/s]"
     ]
    },
    {
     "name": "stderr",
     "output_type": "stream",
     "text": [
      "\r",
      "100%|██████████| 38/38 [00:38<00:00,  1.02s/it]"
     ]
    },
    {
     "name": "stdout",
     "output_type": "stream",
     "text": [
      "Execution time: 1.02 seconds per sample\n"
     ]
    },
    {
     "name": "stderr",
     "output_type": "stream",
     "text": [
      "\n"
     ]
    }
   ],
   "source": [
    "fhe_predictions = []\n",
    "time_begin = time.time()\n",
    "for x in tqdm(X_test):\n",
    "    y_ = model.predict(np.array([x]), fhe=\"execute\")[0]\n",
    "    fhe_predictions.append(y_)\n",
    "\n",
    "print(f\"Execution time: {(time.time() - time_begin) / len(X_test):.2f} seconds per sample\")"
   ]
  },
  {
   "cell_type": "markdown",
   "metadata": {},
   "source": [
    "### Compare the accuracy scores"
   ]
  },
  {
   "cell_type": "code",
   "execution_count": 11,
   "metadata": {},
   "outputs": [
    {
     "name": "stdout",
     "output_type": "stream",
     "text": [
      "Test accuracy using the sklearn model: 100.00%\n",
      "Test accuracy using the Concrete ML simulated model: 81.58%\n",
      "Test accuracy using the Concrete ML FHE model: 81.58%\n"
     ]
    }
   ],
   "source": [
    "fhe_accuracy = accuracy_score(y_test, fhe_predictions) * 100\n",
    "\n",
    "print(f\"Test accuracy using the sklearn model: {sklearn_accuracy:.2f}%\")\n",
    "print(f\"Test accuracy using the Concrete ML simulated model: {simulated_accuracy:.2f}%\")\n",
    "print(f\"Test accuracy using the Concrete ML FHE model: {fhe_accuracy:.2f}%\")"
   ]
  },
  {
   "attachments": {},
   "cell_type": "markdown",
   "metadata": {},
   "source": [
    "### Plot the predicted boundaries"
   ]
  },
  {
   "cell_type": "markdown",
   "metadata": {},
   "source": [
    "Although we executed the predictions on encrypted data when testing our model's performance, here the boundaries are predictions made over clear data points using simulated FHE, making this notebook faster to run. Predictions in FHE are expected to equivalent to these, as we showed above."
   ]
  },
  {
   "cell_type": "code",
   "execution_count": 12,
   "metadata": {},
   "outputs": [],
   "source": [
    "# Create a 2D grid in order to visualize predictions and contours for both models\n",
    "pca = PCA(n_components=2, random_state=np.random.randint(0, 2**15))\n",
    "X_test_2d = pca.fit_transform(X_test)\n",
    "\n",
    "b_min = np.min(X_test_2d, axis=0)\n",
    "b_max = np.max(X_test_2d, axis=0)\n",
    "\n",
    "grid_dims = tuple(\n",
    "    np.linspace(b_min[i], b_max[i], 512, dtype=X_test.dtype) for i in range(X_test_2d.shape[1])\n",
    ")\n",
    "ndgrid_tuple = np.meshgrid(*grid_dims)\n",
    "grid_2d = np.vstack([g.ravel() for g in ndgrid_tuple]).transpose()\n",
    "\n",
    "grid_test = pca.inverse_transform(grid_2d)\n",
    "\n",
    "# Evaluate the predicted classes using the sklearn model\n",
    "grid_pred_sklearn = sklearn_model.predict_proba(grid_test)\n",
    "pred_sklearn_classes = np.argmax(grid_pred_sklearn, axis=1)\n",
    "\n",
    "# Evaluate the predicted classes using the Concrete ML simulated model\n",
    "# Pylint is disabled because it does not seem to be able to understand that `model` is a\n",
    "# NeuralClassifier instance and support the predict_proba method. This may be solved by removing\n",
    "# Skorch and Sklearn inheritance\n",
    "# FIXME: https://github.com/zama-ai/concrete-ml-internal/issues/3373\n",
    "grid_pred_fhe = model.predict_proba(grid_test)  # pylint: disable=no-member\n",
    "pred_fhe_classes = np.argmax(grid_pred_fhe, axis=1)"
   ]
  },
  {
   "cell_type": "code",
   "execution_count": 13,
   "metadata": {},
   "outputs": [
    {
     "data": {
      "image/png": "[encoded data removed]",
      "text/plain": [
       "<Figure size 1600x600 with 2 Axes>"
      ]
     },
     "metadata": {},
     "output_type": "display_data"
    }
   ],
   "source": [
    "%matplotlib inline\n",
    "\n",
    "cmap = \"autumn\"\n",
    "\n",
    "classes_to_plot = [\n",
    "    (pred_sklearn_classes, \"Clear Inference (Sklearn)\", sklearn_accuracy),\n",
    "    (pred_fhe_classes, \"FHE Inference (Concrete ML)\", simulated_accuracy),\n",
    "]\n",
    "\n",
    "fig, axes = plt.subplots(1, 2, figsize=(16, 6))\n",
    "\n",
    "for i, (classes, title, accuracy) in enumerate(classes_to_plot):\n",
    "    ax = axes[i]\n",
    "\n",
    "    # Plot contours based on the predicted classes\n",
    "    ax.contourf(\n",
    "        ndgrid_tuple[0],\n",
    "        ndgrid_tuple[1],\n",
    "        classes.reshape(ndgrid_tuple[0].shape),\n",
    "        cmap=cmap,\n",
    "        label=\"ookko\",\n",
    "    )\n",
    "\n",
    "    # Set the title and legend text\n",
    "    ax.set_title(title)\n",
    "    ax.text(1.6, 1, f\"accuracy: {accuracy:.2f}\", size=12)\n",
    "\n",
    "    # Plot the test data as a scatter with marker borders\n",
    "    ax.scatter(X_test_2d[:, 0], X_test_2d[:, 1], c=y_test, s=50, edgecolors=\"k\", cmap=cmap)\n",
    "\n",
    "fig.suptitle(\"Decision boundaries\", size=15)\n",
    "plt.show()"
   ]
  },
  {
   "cell_type": "markdown",
   "metadata": {},
   "source": [
    "## Conclusion\n",
    "\n",
    "In this notebook, we presented a NeuralNetworkClassifier model built with:\n",
    "\n",
    "- [Skorch](https://github.com/skorch-dev/skorch) to have a scikit-learn like API wrapped around [Torch](https://github.com/pytorch/pytorch). \n",
    "- [Brevitas](https://github.com/Xilinx/brevitas) which provides low-bit Quantization Aware Training functionality to Torch.\n",
    "\n",
    "The final accuracy of the model in clear can then be expected in FHE (which is what we observe here).\n"
   ]
  }
 ],
 "metadata": {
  "execution": {
   "timeout": 10800
  }
 },
 "nbformat": 4,
 "nbformat_minor": 2
}
