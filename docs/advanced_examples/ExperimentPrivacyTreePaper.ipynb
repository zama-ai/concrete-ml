{
 "cells": [
  {
   "cell_type": "markdown",
   "metadata": {},
   "source": [
    "## Experimentation with Privacy Tree: Reproducing Results from the Paper\n",
    "\n",
    "\n",
    "This notebook provides a way to reproduce the experiment described in the paper [Privacy-Preserving Tree-Based Inference with Fully Homomorphic Encryption](https://arxiv.org/pdf/2303.01254.pdf). By following the instructions in this notebook, users can run the experiment themselves and verify the results reported in the paper."
   ]
  },
  {
   "cell_type": "code",
   "execution_count": 1,
   "metadata": {},
   "outputs": [],
   "source": [
    "# Importing necessary libraries and modules\n",
    "\n",
    "import time\n",
    "\n",
    "import numpy as np\n",
    "from IPython.display import display\n",
    "from onnx import numpy_helper\n",
    "from sklearn.datasets import fetch_openml\n",
    "from sklearn.metrics import (\n",
    "    accuracy_score,\n",
    "    average_precision_score,\n",
    "    f1_score,\n",
    "    precision_score,\n",
    "    recall_score,\n",
    ")\n",
    "from sklearn.model_selection import RepeatedKFold\n",
    "from sklearn.preprocessing import LabelBinarizer, OrdinalEncoder\n",
    "\n",
    "from concrete.ml.sklearn import DecisionTreeClassifier, RandomForestClassifier, XGBClassifier\n",
    "\n",
    "\n",
    "def basic_preprocessing(df, target_column):\n",
    "    \"\"\"\n",
    "    Convert categorical columns to their corresponding code values\n",
    "    and binarize the target column.\n",
    "\n",
    "    Parameters:\n",
    "        df (pandas.DataFrame): Input dataframe to preprocess.\n",
    "        target_column (str): Name of the target column to be binarized.\n",
    "\n",
    "    Returns:\n",
    "        pandas.DataFrame: Preprocessed dataframe.\n",
    "    \"\"\"\n",
    "\n",
    "    for col in df.columns:\n",
    "        if df[col].dtype == \"object\":\n",
    "            df[col] = df[col].astype(\"category\")\n",
    "            df[col] = df[col].cat.codes\n",
    "        elif df[col].dtype == \"category\":\n",
    "            df[col] = df[col].cat.codes\n",
    "    df[target_column] = LabelBinarizer().fit_transform(df[target_column])\n",
    "\n",
    "    return df"
   ]
  },
  {
   "cell_type": "code",
   "execution_count": 2,
   "metadata": {},
   "outputs": [
    {
     "name": "stdout",
     "output_type": "stream",
     "text": [
      "Loading spambase\n",
      "Loading wine\n"
     ]
    },
    {
     "name": "stdout",
     "output_type": "stream",
     "text": [
      "Loading heart-h\n"
     ]
    },
    {
     "name": "stdout",
     "output_type": "stream",
     "text": [
      "Loading wdbc\n"
     ]
    },
    {
     "name": "stdout",
     "output_type": "stream",
     "text": [
      "Loading adult\n"
     ]
    },
    {
     "name": "stdout",
     "output_type": "stream",
     "text": [
      "Loading steel\n"
     ]
    }
   ],
   "source": [
    "# Set up dataset names and their respective IDs for fetching from OpenML\n",
    "dataset_names = {\n",
    "    \"spambase\": 44,\n",
    "    \"wine\": None,\n",
    "    \"heart-h\": 1565,\n",
    "    \"wdbc\": 1510,\n",
    "    \"adult\": None,\n",
    "    \"steel\": 1504,\n",
    "}\n",
    "\n",
    "datasets = {}\n",
    "\n",
    "\n",
    "def load_dataset(name, data_id=None):\n",
    "    \"\"\"Load dataset from OpenML by name or by ID.\n",
    "\n",
    "    Args:\n",
    "        name (str): Name of the dataset.\n",
    "        data_id (int, optional): The ID of the dataset on OpenML.\n",
    "            If provided, the dataset is loaded by ID.\n",
    "\n",
    "    Returns:\n",
    "        X (np.array): Features of the dataset.\n",
    "        y (np.array): Target labels of the dataset.\n",
    "    \"\"\"\n",
    "    if data_id is not None:\n",
    "        X, y = fetch_openml(data_id=data_id, as_frame=False, cache=True, return_X_y=True)\n",
    "    else:\n",
    "        X, y = fetch_openml(name=name, as_frame=False, cache=True, return_X_y=True)\n",
    "    return X, y\n",
    "\n",
    "\n",
    "for ds_name, ds_id in dataset_names.items():\n",
    "    print(f\"Loading {ds_name}\")\n",
    "\n",
    "    X, y = load_dataset(ds_name, ds_id)\n",
    "\n",
    "    # Remove rows with NaN values\n",
    "    not_nan_idx = np.where(~np.isnan(X).any(axis=1))\n",
    "    X = X[not_nan_idx]\n",
    "    y = y[not_nan_idx]\n",
    "\n",
    "    # Convert non-integer target labels to integers\n",
    "    if not y.dtype == np.int64:\n",
    "        encoder = OrdinalEncoder()\n",
    "        y = encoder.fit_transform(y.reshape(-1, 1)).astype(np.int32).squeeze()\n",
    "\n",
    "    datasets[ds_name] = {\"X\": X, \"y\": y}"
   ]
  },
  {
   "cell_type": "code",
   "execution_count": 3,
   "metadata": {},
   "outputs": [],
   "source": [
    "# Setting a random seed for reproducibility across all models and operations\n",
    "random_seed = 42\n",
    "\n",
    "# Models with their hyper-parameters\n",
    "model_hyperparameters = {\n",
    "    DecisionTreeClassifier: {\"max_depth\": 5, \"random_state\": random_seed},\n",
    "    XGBClassifier: {\"max_depth\": 3, \"n_estimators\": 50, \"random_state\": random_seed},\n",
    "    RandomForestClassifier: {\"n_estimators\": 50, \"random_state\": random_seed},\n",
    "}\n",
    "\n",
    "decision_tree_comparison_params = {\n",
    "    \"spam\": {\"max_leaf_nodes\": 58, \"max_depth\": 17},\n",
    "    \"heart-h\": {\"max_leaf_nodes\": 5, \"max_depth\": 3},\n",
    "    \"steel\": {\"max_leaf_nodes\": None, \"max_depth\": 5},\n",
    "    \"wdbc\": {\"max_leaf_nodes\": None, \"max_depth\": 10},\n",
    "}\n",
    "\n",
    "# List of bit-width used for quantization\n",
    "n_bits_list = list(range(1, 10))"
   ]
  },
  {
   "cell_type": "code",
   "execution_count": 4,
   "metadata": {},
   "outputs": [],
   "source": [
    "def analyze_gemm_computation(concrete_classifier):\n",
    "    \"\"\"Analyze the GEMM (General Matrix Multiply) operations in the given ONNX model.\n",
    "\n",
    "    Args:\n",
    "        concrete_classifier (object): Classifier that contains an ONNX model representation.\n",
    "        x_train (np.array): Training dataset.\n",
    "\n",
    "    Returns:\n",
    "        tuple: Shapes of the matrices involved in GEMM operations.\n",
    "    \"\"\"\n",
    "\n",
    "    # Extract weights and biases from the ONNX model graph\n",
    "    quant_params = {\n",
    "        onnx_init.name: numpy_helper.to_array(onnx_init)\n",
    "        for onnx_init in concrete_classifier.onnx_model.graph.initializer\n",
    "        if \"weight\" in onnx_init.name or \"bias\" in onnx_init.name\n",
    "    }\n",
    "\n",
    "    # Extract the shapes of matrices used in GEMM operations\n",
    "    matrix_shapes = []\n",
    "    for i in range(1, 4):\n",
    "        key = [key for key in quant_params.keys() if f\"_{i}\" in key and \"weight\" in key][0]\n",
    "        matrix_shapes.append(quant_params[key].shape)\n",
    "\n",
    "    return tuple(matrix_shapes)"
   ]
  },
  {
   "cell_type": "markdown",
   "metadata": {},
   "source": [
    "# Experiments for table 1"
   ]
  },
  {
   "cell_type": "code",
   "execution_count": 5,
   "metadata": {},
   "outputs": [
    {
     "name": "stdout",
     "output_type": "stream",
     "text": [
      "DecisionTreeClassifier on spambase (#features: 57) -> Acc: 0.9103, Acc (fp32): 0.9035, FHE inference time: 0.91s\n"
     ]
    },
    {
     "name": "stdout",
     "output_type": "stream",
     "text": [
      "XGBClassifier on spambase (#features: 57) -> Acc: 0.9448, Acc (fp32): 0.9497, FHE inference time: 0.92s\n"
     ]
    },
    {
     "name": "stdout",
     "output_type": "stream",
     "text": [
      "RandomForestClassifier on spambase (#features: 57) -> Acc: 0.9089, Acc (fp32): 0.9184, FHE inference time: 1.60s\n"
     ]
    },
    {
     "name": "stdout",
     "output_type": "stream",
     "text": [
      "DecisionTreeClassifier on wine (#features: 13) -> Acc: 0.9083, Acc (fp32): 0.9046, FHE inference time: 0.33s\n"
     ]
    },
    {
     "name": "stdout",
     "output_type": "stream",
     "text": [
      "XGBClassifier on wine (#features: 13) -> Acc: 0.9699, Acc (fp32): 0.9624, FHE inference time: 1.58s\n"
     ]
    },
    {
     "name": "stdout",
     "output_type": "stream",
     "text": [
      "RandomForestClassifier on wine (#features: 13) -> Acc: 0.9850, Acc (fp32): 0.9813, FHE inference time: 1.02s\n"
     ]
    },
    {
     "name": "stdout",
     "output_type": "stream",
     "text": [
      "DecisionTreeClassifier on heart-h (#features: 13) -> Acc: 0.6100, Acc (fp32): 0.5998, FHE inference time: 0.35s\n"
     ]
    },
    {
     "name": "stdout",
     "output_type": "stream",
     "text": [
      "XGBClassifier on heart-h (#features: 13) -> Acc: 0.6543, Acc (fp32): 0.6463, FHE inference time: 5.13s\n"
     ]
    },
    {
     "name": "stdout",
     "output_type": "stream",
     "text": [
      "RandomForestClassifier on heart-h (#features: 13) -> Acc: 0.6679, Acc (fp32): 0.6644, FHE inference time: 1.49s\n"
     ]
    },
    {
     "name": "stdout",
     "output_type": "stream",
     "text": [
      "DecisionTreeClassifier on wdbc (#features: 30) -> Acc: 0.9420, Acc (fp32): 0.9391, FHE inference time: 0.48s\n"
     ]
    },
    {
     "name": "stdout",
     "output_type": "stream",
     "text": [
      "XGBClassifier on wdbc (#features: 30) -> Acc: 0.9678, Acc (fp32): 0.9649, FHE inference time: 0.72s\n"
     ]
    },
    {
     "name": "stdout",
     "output_type": "stream",
     "text": [
      "RandomForestClassifier on wdbc (#features: 30) -> Acc: 0.9561, Acc (fp32): 0.9526, FHE inference time: 1.36s\n"
     ]
    },
    {
     "name": "stdout",
     "output_type": "stream",
     "text": [
      "DecisionTreeClassifier on adult (#features: 14) -> Acc: 0.8364, Acc (fp32): 0.8364, FHE inference time: 0.41s\n"
     ]
    },
    {
     "name": "stdout",
     "output_type": "stream",
     "text": [
      "XGBClassifier on adult (#features: 14) -> Acc: 0.8535, Acc (fp32): 0.8543, FHE inference time: 2.24s\n"
     ]
    },
    {
     "name": "stdout",
     "output_type": "stream",
     "text": [
      "RandomForestClassifier on adult (#features: 14) -> Acc: 0.8341, Acc (fp32): 0.8341, FHE inference time: 1.62s\n"
     ]
    },
    {
     "name": "stdout",
     "output_type": "stream",
     "text": [
      "DecisionTreeClassifier on steel (#features: 33) -> Acc: 0.9717, Acc (fp32): 0.9717, FHE inference time: 0.41s\n"
     ]
    },
    {
     "name": "stdout",
     "output_type": "stream",
     "text": [
      "XGBClassifier on steel (#features: 33) -> Acc: 1.0000, Acc (fp32): 1.0000, FHE inference time: 0.51s\n"
     ]
    },
    {
     "name": "stdout",
     "output_type": "stream",
     "text": [
      "RandomForestClassifier on steel (#features: 33) -> Acc: 0.9687, Acc (fp32): 0.9586, FHE inference time: 1.30s\n"
     ]
    }
   ],
   "source": [
    "def benchmark_model(X, y, model, model_params, n_bits, rkf):\n",
    "    \"\"\"Benchmark a given model and return its evaluation scores.\"\"\"\n",
    "    scores = {\n",
    "        \"precision\": [],\n",
    "        \"recall\": [],\n",
    "        \"accuracy\": [],\n",
    "        \"f1\": [],\n",
    "        \"average_precision\": [],\n",
    "        \"nodes\": None,\n",
    "    }\n",
    "    scores_fp32 = {\"precision\": [], \"recall\": [], \"accuracy\": [], \"f1\": [], \"average_precision\": []}\n",
    "\n",
    "    metric_func_to_key = {\n",
    "        \"precision_score\": \"precision\",\n",
    "        \"recall_score\": \"recall\",\n",
    "        \"f1_score\": \"f1\",\n",
    "        \"average_precision_score\": \"average_precision\",\n",
    "    }\n",
    "\n",
    "    for train_index, test_index in rkf.split(X):\n",
    "        X_train, X_test = X[train_index], X[test_index]\n",
    "        y_train, y_test = y[train_index], y[test_index]\n",
    "\n",
    "        concrete_model, sklearn_model = model(n_bits=n_bits, **model_params).fit_benchmark(\n",
    "            X_train, y_train\n",
    "        )\n",
    "\n",
    "        y_pred = concrete_model.predict(X_test)\n",
    "        if len(set(y_test)) == 2:\n",
    "            for metric_func in [precision_score, recall_score, average_precision_score, f1_score]:\n",
    "                scores_key = metric_func_to_key[metric_func.__name__]\n",
    "                scores[scores_key].append(metric_func(y_test, y_pred))\n",
    "        scores[\"accuracy\"].append(accuracy_score(y_test, y_pred))\n",
    "\n",
    "        y_pred_fp32 = sklearn_model.predict(X_test)\n",
    "        if len(set(y_test)) == 2:\n",
    "            for metric_func in [precision_score, recall_score, average_precision_score, f1_score]:\n",
    "                scores_key = metric_func_to_key[metric_func.__name__]\n",
    "                scores_fp32[scores_key].append(metric_func(y_test, y_pred_fp32))\n",
    "        scores_fp32[\"accuracy\"].append(accuracy_score(y_test, y_pred_fp32))\n",
    "\n",
    "        shapes = analyze_gemm_computation(concrete_model)\n",
    "        scores[\"nodes\"] = shapes[0][0]\n",
    "\n",
    "    # Calculate inference time\n",
    "    concrete_model.compile(X_train)\n",
    "    concrete_model.fhe_circuit.keygen(force=False)\n",
    "\n",
    "    start = time.time()\n",
    "    concrete_model.predict(X_test[:1], fhe=\"execute\")\n",
    "    end = time.time()\n",
    "    scores[\"inference_time\"] = end - start\n",
    "\n",
    "    start = time.time()\n",
    "    concrete_model.predict(X_test[:1])\n",
    "    end = time.time()\n",
    "    scores_fp32[\"inference_time\"] = end - start\n",
    "\n",
    "    return scores, scores_fp32\n",
    "\n",
    "\n",
    "n_bits = 6\n",
    "scores_global = {}\n",
    "\n",
    "rkf = RepeatedKFold(n_splits=5, n_repeats=3, random_state=0)\n",
    "\n",
    "for dataset_name, dataset_data in datasets.items():\n",
    "    X, y = dataset_data[\"X\"].astype(np.float32), dataset_data[\"y\"]\n",
    "    assert len(set(y)) >= 2\n",
    "    if y.dtype not in [np.int32, np.bool]:\n",
    "        print(f\"Unexpected datatype for y in dataset {dataset_name}: {y.dtype}\")\n",
    "\n",
    "    key_dataset = f\"{dataset_name} (#features: {X.shape[1]})\"\n",
    "    scores_global[key_dataset] = {}\n",
    "\n",
    "    for cls, model_params in model_hyperparameters.items():\n",
    "        scores, scores_fp32 = benchmark_model(X, y, cls, model_params, n_bits, rkf)\n",
    "\n",
    "        scores_global[key_dataset][cls.__name__ + \"_concrete\"] = scores\n",
    "        scores_global[key_dataset][cls.__name__ + \"_fp32\"] = scores_fp32\n",
    "\n",
    "        print(\n",
    "            f\"{cls.__name__} on {key_dataset} -> Acc: {np.mean(scores['accuracy']):.4f}, \"\n",
    "            f\"Acc (fp32): {np.mean(scores_fp32['accuracy']):.4f}, \"\n",
    "            f\"FHE inference time: {scores['inference_time']:.2f}s\"\n",
    "        )"
   ]
  },
  {
   "cell_type": "code",
   "execution_count": 6,
   "metadata": {},
   "outputs": [
    {
     "data": {
      "text/html": [
       "<div>\n",
       "<style scoped>\n",
       "    .dataframe tbody tr th:only-of-type {\n",
       "        vertical-align: middle;\n",
       "    }\n",
       "\n",
       "    .dataframe tbody tr th {\n",
       "        vertical-align: top;\n",
       "    }\n",
       "\n",
       "    .dataframe thead th {\n",
       "        text-align: right;\n",
       "    }\n",
       "</style>\n",
       "<table border=\"1\" class=\"dataframe\">\n",
       "  <thead>\n",
       "    <tr style=\"text-align: right;\">\n",
       "      <th></th>\n",
       "      <th></th>\n",
       "      <th>accuracy</th>\n",
       "      <th>f1</th>\n",
       "      <th>AP</th>\n",
       "      <th>nodes</th>\n",
       "      <th>Time (s)</th>\n",
       "      <th>FHE/Clear ratio</th>\n",
       "    </tr>\n",
       "  </thead>\n",
       "  <tbody>\n",
       "    <tr>\n",
       "      <th rowspan=\"6\" valign=\"top\">spambase (#features: 57)</th>\n",
       "      <th>FHE-DT</th>\n",
       "      <td>91.0\\% ± 1.0\\%</td>\n",
       "      <td>88.0\\% ± 1.3\\%</td>\n",
       "      <td>84.3\\% ± 1.7\\%</td>\n",
       "      <td>23.000</td>\n",
       "      <td>0.913</td>\n",
       "      <td>419x</td>\n",
       "    </tr>\n",
       "    <tr>\n",
       "      <th>FP32-DT</th>\n",
       "      <td>90.3\\% ± 1.0\\%</td>\n",
       "      <td>87.4\\% ± 1.2\\%</td>\n",
       "      <td>82.4\\% ± 1.8\\%</td>\n",
       "      <td>-</td>\n",
       "      <td>0.002</td>\n",
       "      <td>-</td>\n",
       "    </tr>\n",
       "    <tr>\n",
       "      <th>FHE-XGB</th>\n",
       "      <td>94.5\\% ± 0.8\\%</td>\n",
       "      <td>92.9\\% ± 1.1\\%</td>\n",
       "      <td>89.6\\% ± 1.4\\%</td>\n",
       "      <td>350.000</td>\n",
       "      <td>0.918</td>\n",
       "      <td>422x</td>\n",
       "    </tr>\n",
       "    <tr>\n",
       "      <th>FP32-XGB</th>\n",
       "      <td>95.0\\% ± 0.7\\%</td>\n",
       "      <td>93.6\\% ± 0.9\\%</td>\n",
       "      <td>90.5\\% ± 1.1\\%</td>\n",
       "      <td>-</td>\n",
       "      <td>0.002</td>\n",
       "      <td>-</td>\n",
       "    </tr>\n",
       "    <tr>\n",
       "      <th>FHE-RF</th>\n",
       "      <td>90.9\\% ± 1.1\\%</td>\n",
       "      <td>87.5\\% ± 1.5\\%</td>\n",
       "      <td>84.6\\% ± 1.7\\%</td>\n",
       "      <td>750.000</td>\n",
       "      <td>1.604</td>\n",
       "      <td>674x</td>\n",
       "    </tr>\n",
       "    <tr>\n",
       "      <th>FP32-RF</th>\n",
       "      <td>91.8\\% ± 1.1\\%</td>\n",
       "      <td>89.0\\% ± 1.4\\%</td>\n",
       "      <td>86.0\\% ± 1.6\\%</td>\n",
       "      <td>-</td>\n",
       "      <td>0.002</td>\n",
       "      <td>-</td>\n",
       "    </tr>\n",
       "    <tr>\n",
       "      <th rowspan=\"6\" valign=\"top\">wine (#features: 13)</th>\n",
       "      <th>FHE-DT</th>\n",
       "      <td>90.8\\% ± 5.2\\%</td>\n",
       "      <td>-</td>\n",
       "      <td>-</td>\n",
       "      <td>7.000</td>\n",
       "      <td>0.327</td>\n",
       "      <td>340x</td>\n",
       "    </tr>\n",
       "    <tr>\n",
       "      <th>FP32-DT</th>\n",
       "      <td>90.5\\% ± 5.0\\%</td>\n",
       "      <td>-</td>\n",
       "      <td>-</td>\n",
       "      <td>-</td>\n",
       "      <td>0.001</td>\n",
       "      <td>-</td>\n",
       "    </tr>\n",
       "    <tr>\n",
       "      <th>FHE-XGB</th>\n",
       "      <td>97.0\\% ± 2.4\\%</td>\n",
       "      <td>-</td>\n",
       "      <td>-</td>\n",
       "      <td>900.000</td>\n",
       "      <td>1.576</td>\n",
       "      <td>1371x</td>\n",
       "    </tr>\n",
       "    <tr>\n",
       "      <th>FP32-XGB</th>\n",
       "      <td>96.2\\% ± 2.9\\%</td>\n",
       "      <td>-</td>\n",
       "      <td>-</td>\n",
       "      <td>-</td>\n",
       "      <td>0.001</td>\n",
       "      <td>-</td>\n",
       "    </tr>\n",
       "    <tr>\n",
       "      <th>FHE-RF</th>\n",
       "      <td>98.5\\% ± 1.4\\%</td>\n",
       "      <td>-</td>\n",
       "      <td>-</td>\n",
       "      <td>500.000</td>\n",
       "      <td>1.023</td>\n",
       "      <td>830x</td>\n",
       "    </tr>\n",
       "    <tr>\n",
       "      <th>FP32-RF</th>\n",
       "      <td>98.1\\% ± 2.0\\%</td>\n",
       "      <td>-</td>\n",
       "      <td>-</td>\n",
       "      <td>-</td>\n",
       "      <td>0.001</td>\n",
       "      <td>-</td>\n",
       "    </tr>\n",
       "    <tr>\n",
       "      <th rowspan=\"6\" valign=\"top\">heart-h (#features: 13)</th>\n",
       "      <th>FHE-DT</th>\n",
       "      <td>61.0\\% ± 5.4\\%</td>\n",
       "      <td>-</td>\n",
       "      <td>-</td>\n",
       "      <td>21.000</td>\n",
       "      <td>0.354</td>\n",
       "      <td>360x</td>\n",
       "    </tr>\n",
       "    <tr>\n",
       "      <th>FP32-DT</th>\n",
       "      <td>60.0\\% ± 5.5\\%</td>\n",
       "      <td>-</td>\n",
       "      <td>-</td>\n",
       "      <td>-</td>\n",
       "      <td>0.001</td>\n",
       "      <td>-</td>\n",
       "    </tr>\n",
       "    <tr>\n",
       "      <th>FHE-XGB</th>\n",
       "      <td>65.4\\% ± 7.8\\%</td>\n",
       "      <td>-</td>\n",
       "      <td>-</td>\n",
       "      <td>1750.000</td>\n",
       "      <td>5.132</td>\n",
       "      <td>2476x</td>\n",
       "    </tr>\n",
       "    <tr>\n",
       "      <th>FP32-XGB</th>\n",
       "      <td>64.6\\% ± 7.5\\%</td>\n",
       "      <td>-</td>\n",
       "      <td>-</td>\n",
       "      <td>-</td>\n",
       "      <td>0.002</td>\n",
       "      <td>-</td>\n",
       "    </tr>\n",
       "    <tr>\n",
       "      <th>FHE-RF</th>\n",
       "      <td>66.8\\% ± 6.4\\%</td>\n",
       "      <td>-</td>\n",
       "      <td>-</td>\n",
       "      <td>750.000</td>\n",
       "      <td>1.495</td>\n",
       "      <td>1260x</td>\n",
       "    </tr>\n",
       "    <tr>\n",
       "      <th>FP32-RF</th>\n",
       "      <td>66.4\\% ± 5.3\\%</td>\n",
       "      <td>-</td>\n",
       "      <td>-</td>\n",
       "      <td>-</td>\n",
       "      <td>0.001</td>\n",
       "      <td>-</td>\n",
       "    </tr>\n",
       "    <tr>\n",
       "      <th rowspan=\"6\" valign=\"top\">wdbc (#features: 30)</th>\n",
       "      <th>FHE-DT</th>\n",
       "      <td>94.2\\% ± 1.9\\%</td>\n",
       "      <td>92.0\\% ± 2.8\\%</td>\n",
       "      <td>88.4\\% ± 4.1\\%</td>\n",
       "      <td>15.000</td>\n",
       "      <td>0.477</td>\n",
       "      <td>306x</td>\n",
       "    </tr>\n",
       "    <tr>\n",
       "      <th>FP32-DT</th>\n",
       "      <td>93.9\\% ± 1.9\\%</td>\n",
       "      <td>91.7\\% ± 3.0\\%</td>\n",
       "      <td>87.3\\% ± 4.8\\%</td>\n",
       "      <td>-</td>\n",
       "      <td>0.002</td>\n",
       "      <td>-</td>\n",
       "    </tr>\n",
       "    <tr>\n",
       "      <th>FHE-XGB</th>\n",
       "      <td>96.8\\% ± 1.1\\%</td>\n",
       "      <td>95.5\\% ± 1.8\\%</td>\n",
       "      <td>93.4\\% ± 2.5\\%</td>\n",
       "      <td>350.000</td>\n",
       "      <td>0.721</td>\n",
       "      <td>480x</td>\n",
       "    </tr>\n",
       "    <tr>\n",
       "      <th>FP32-XGB</th>\n",
       "      <td>96.5\\% ± 1.6\\%</td>\n",
       "      <td>95.2\\% ± 2.4\\%</td>\n",
       "      <td>92.9\\% ± 3.4\\%</td>\n",
       "      <td>-</td>\n",
       "      <td>0.002</td>\n",
       "      <td>-</td>\n",
       "    </tr>\n",
       "    <tr>\n",
       "      <th>FHE-RF</th>\n",
       "      <td>95.6\\% ± 1.7\\%</td>\n",
       "      <td>93.9\\% ± 2.6\\%</td>\n",
       "      <td>91.2\\% ± 3.6\\%</td>\n",
       "      <td>700.000</td>\n",
       "      <td>1.364</td>\n",
       "      <td>851x</td>\n",
       "    </tr>\n",
       "    <tr>\n",
       "      <th>FP32-RF</th>\n",
       "      <td>95.3\\% ± 1.8\\%</td>\n",
       "      <td>93.4\\% ± 2.9\\%</td>\n",
       "      <td>90.4\\% ± 4.1\\%</td>\n",
       "      <td>-</td>\n",
       "      <td>0.002</td>\n",
       "      <td>-</td>\n",
       "    </tr>\n",
       "    <tr>\n",
       "      <th rowspan=\"6\" valign=\"top\">adult (#features: 14)</th>\n",
       "      <th>FHE-DT</th>\n",
       "      <td>83.6\\% ± 0.4\\%</td>\n",
       "      <td>60.4\\% ± 0.7\\%</td>\n",
       "      <td>50.3\\% ± 0.8\\%</td>\n",
       "      <td>30.000</td>\n",
       "      <td>0.412</td>\n",
       "      <td>350x</td>\n",
       "    </tr>\n",
       "    <tr>\n",
       "      <th>FP32-DT</th>\n",
       "      <td>83.6\\% ± 0.4\\%</td>\n",
       "      <td>60.4\\% ± 0.7\\%</td>\n",
       "      <td>50.3\\% ± 0.7\\%</td>\n",
       "      <td>-</td>\n",
       "      <td>0.001</td>\n",
       "      <td>-</td>\n",
       "    </tr>\n",
       "    <tr>\n",
       "      <th>FHE-XGB</th>\n",
       "      <td>85.3\\% ± 0.2\\%</td>\n",
       "      <td>67.3\\% ± 0.7\\%</td>\n",
       "      <td>55.5\\% ± 0.7\\%</td>\n",
       "      <td>350.000</td>\n",
       "      <td>2.241</td>\n",
       "      <td>1483x</td>\n",
       "    </tr>\n",
       "    <tr>\n",
       "      <th>FP32-XGB</th>\n",
       "      <td>85.4\\% ± 0.2\\%</td>\n",
       "      <td>67.8\\% ± 0.4\\%</td>\n",
       "      <td>55.8\\% ± 0.6\\%</td>\n",
       "      <td>-</td>\n",
       "      <td>0.002</td>\n",
       "      <td>-</td>\n",
       "    </tr>\n",
       "    <tr>\n",
       "      <th>FHE-RF</th>\n",
       "      <td>83.4\\% ± 0.4\\%</td>\n",
       "      <td>57.6\\% ± 1.1\\%</td>\n",
       "      <td>49.2\\% ± 0.8\\%</td>\n",
       "      <td>750.000</td>\n",
       "      <td>1.622</td>\n",
       "      <td>1014x</td>\n",
       "    </tr>\n",
       "    <tr>\n",
       "      <th>FP32-RF</th>\n",
       "      <td>83.4\\% ± 0.4\\%</td>\n",
       "      <td>57.6\\% ± 1.2\\%</td>\n",
       "      <td>49.2\\% ± 0.9\\%</td>\n",
       "      <td>-</td>\n",
       "      <td>0.002</td>\n",
       "      <td>-</td>\n",
       "    </tr>\n",
       "    <tr>\n",
       "      <th rowspan=\"6\" valign=\"top\">steel (#features: 33)</th>\n",
       "      <th>FHE-DT</th>\n",
       "      <td>97.2\\% ± 0.7\\%</td>\n",
       "      <td>96.1\\% ± 0.9\\%</td>\n",
       "      <td>92.5\\% ± 1.7\\%</td>\n",
       "      <td>5.000</td>\n",
       "      <td>0.413</td>\n",
       "      <td>287x</td>\n",
       "    </tr>\n",
       "    <tr>\n",
       "      <th>FP32-DT</th>\n",
       "      <td>97.2\\% ± 0.7\\%</td>\n",
       "      <td>96.1\\% ± 0.9\\%</td>\n",
       "      <td>92.5\\% ± 1.7\\%</td>\n",
       "      <td>-</td>\n",
       "      <td>0.001</td>\n",
       "      <td>-</td>\n",
       "    </tr>\n",
       "    <tr>\n",
       "      <th>FHE-XGB</th>\n",
       "      <td>100.0\\% ± 0.0\\%</td>\n",
       "      <td>100.0\\% ± 0.0\\%</td>\n",
       "      <td>100.0\\% ± 0.0\\%</td>\n",
       "      <td>200.000</td>\n",
       "      <td>0.512</td>\n",
       "      <td>299x</td>\n",
       "    </tr>\n",
       "    <tr>\n",
       "      <th>FP32-XGB</th>\n",
       "      <td>100.0\\% ± 0.0\\%</td>\n",
       "      <td>100.0\\% ± 0.0\\%</td>\n",
       "      <td>100.0\\% ± 0.0\\%</td>\n",
       "      <td>-</td>\n",
       "      <td>0.002</td>\n",
       "      <td>-</td>\n",
       "    </tr>\n",
       "    <tr>\n",
       "      <th>FHE-RF</th>\n",
       "      <td>96.9\\% ± 1.2\\%</td>\n",
       "      <td>95.4\\% ± 1.8\\%</td>\n",
       "      <td>93.6\\% ± 2.2\\%</td>\n",
       "      <td>700.000</td>\n",
       "      <td>1.302</td>\n",
       "      <td>856x</td>\n",
       "    </tr>\n",
       "    <tr>\n",
       "      <th>FP32-RF</th>\n",
       "      <td>95.9\\% ± 1.1\\%</td>\n",
       "      <td>93.9\\% ± 1.5\\%</td>\n",
       "      <td>91.4\\% ± 2.3\\%</td>\n",
       "      <td>-</td>\n",
       "      <td>0.002</td>\n",
       "      <td>-</td>\n",
       "    </tr>\n",
       "  </tbody>\n",
       "</table>\n",
       "</div>"
      ],
      "text/plain": [
       "                                          accuracy               f1  \\\n",
       "spambase (#features: 57) FHE-DT     91.0\\% ± 1.0\\%   88.0\\% ± 1.3\\%   \n",
       "                         FP32-DT    90.3\\% ± 1.0\\%   87.4\\% ± 1.2\\%   \n",
       "                         FHE-XGB    94.5\\% ± 0.8\\%   92.9\\% ± 1.1\\%   \n",
       "                         FP32-XGB   95.0\\% ± 0.7\\%   93.6\\% ± 0.9\\%   \n",
       "                         FHE-RF     90.9\\% ± 1.1\\%   87.5\\% ± 1.5\\%   \n",
       "                         FP32-RF    91.8\\% ± 1.1\\%   89.0\\% ± 1.4\\%   \n",
       "wine (#features: 13)     FHE-DT     90.8\\% ± 5.2\\%                -   \n",
       "                         FP32-DT    90.5\\% ± 5.0\\%                -   \n",
       "                         FHE-XGB    97.0\\% ± 2.4\\%                -   \n",
       "                         FP32-XGB   96.2\\% ± 2.9\\%                -   \n",
       "                         FHE-RF     98.5\\% ± 1.4\\%                -   \n",
       "                         FP32-RF    98.1\\% ± 2.0\\%                -   \n",
       "heart-h (#features: 13)  FHE-DT     61.0\\% ± 5.4\\%                -   \n",
       "                         FP32-DT    60.0\\% ± 5.5\\%                -   \n",
       "                         FHE-XGB    65.4\\% ± 7.8\\%                -   \n",
       "                         FP32-XGB   64.6\\% ± 7.5\\%                -   \n",
       "                         FHE-RF     66.8\\% ± 6.4\\%                -   \n",
       "                         FP32-RF    66.4\\% ± 5.3\\%                -   \n",
       "wdbc (#features: 30)     FHE-DT     94.2\\% ± 1.9\\%   92.0\\% ± 2.8\\%   \n",
       "                         FP32-DT    93.9\\% ± 1.9\\%   91.7\\% ± 3.0\\%   \n",
       "                         FHE-XGB    96.8\\% ± 1.1\\%   95.5\\% ± 1.8\\%   \n",
       "                         FP32-XGB   96.5\\% ± 1.6\\%   95.2\\% ± 2.4\\%   \n",
       "                         FHE-RF     95.6\\% ± 1.7\\%   93.9\\% ± 2.6\\%   \n",
       "                         FP32-RF    95.3\\% ± 1.8\\%   93.4\\% ± 2.9\\%   \n",
       "adult (#features: 14)    FHE-DT     83.6\\% ± 0.4\\%   60.4\\% ± 0.7\\%   \n",
       "                         FP32-DT    83.6\\% ± 0.4\\%   60.4\\% ± 0.7\\%   \n",
       "                         FHE-XGB    85.3\\% ± 0.2\\%   67.3\\% ± 0.7\\%   \n",
       "                         FP32-XGB   85.4\\% ± 0.2\\%   67.8\\% ± 0.4\\%   \n",
       "                         FHE-RF     83.4\\% ± 0.4\\%   57.6\\% ± 1.1\\%   \n",
       "                         FP32-RF    83.4\\% ± 0.4\\%   57.6\\% ± 1.2\\%   \n",
       "steel (#features: 33)    FHE-DT     97.2\\% ± 0.7\\%   96.1\\% ± 0.9\\%   \n",
       "                         FP32-DT    97.2\\% ± 0.7\\%   96.1\\% ± 0.9\\%   \n",
       "                         FHE-XGB   100.0\\% ± 0.0\\%  100.0\\% ± 0.0\\%   \n",
       "                         FP32-XGB  100.0\\% ± 0.0\\%  100.0\\% ± 0.0\\%   \n",
       "                         FHE-RF     96.9\\% ± 1.2\\%   95.4\\% ± 1.8\\%   \n",
       "                         FP32-RF    95.9\\% ± 1.1\\%   93.9\\% ± 1.5\\%   \n",
       "\n",
       "                                                AP     nodes Time (s)  \\\n",
       "spambase (#features: 57) FHE-DT     84.3\\% ± 1.7\\%    23.000    0.913   \n",
       "                         FP32-DT    82.4\\% ± 1.8\\%         -    0.002   \n",
       "                         FHE-XGB    89.6\\% ± 1.4\\%   350.000    0.918   \n",
       "                         FP32-XGB   90.5\\% ± 1.1\\%         -    0.002   \n",
       "                         FHE-RF     84.6\\% ± 1.7\\%   750.000    1.604   \n",
       "                         FP32-RF    86.0\\% ± 1.6\\%         -    0.002   \n",
       "wine (#features: 13)     FHE-DT                  -     7.000    0.327   \n",
       "                         FP32-DT                 -         -    0.001   \n",
       "                         FHE-XGB                 -   900.000    1.576   \n",
       "                         FP32-XGB                -         -    0.001   \n",
       "                         FHE-RF                  -   500.000    1.023   \n",
       "                         FP32-RF                 -         -    0.001   \n",
       "heart-h (#features: 13)  FHE-DT                  -    21.000    0.354   \n",
       "                         FP32-DT                 -         -    0.001   \n",
       "                         FHE-XGB                 -  1750.000    5.132   \n",
       "                         FP32-XGB                -         -    0.002   \n",
       "                         FHE-RF                  -   750.000    1.495   \n",
       "                         FP32-RF                 -         -    0.001   \n",
       "wdbc (#features: 30)     FHE-DT     88.4\\% ± 4.1\\%    15.000    0.477   \n",
       "                         FP32-DT    87.3\\% ± 4.8\\%         -    0.002   \n",
       "                         FHE-XGB    93.4\\% ± 2.5\\%   350.000    0.721   \n",
       "                         FP32-XGB   92.9\\% ± 3.4\\%         -    0.002   \n",
       "                         FHE-RF     91.2\\% ± 3.6\\%   700.000    1.364   \n",
       "                         FP32-RF    90.4\\% ± 4.1\\%         -    0.002   \n",
       "adult (#features: 14)    FHE-DT     50.3\\% ± 0.8\\%    30.000    0.412   \n",
       "                         FP32-DT    50.3\\% ± 0.7\\%         -    0.001   \n",
       "                         FHE-XGB    55.5\\% ± 0.7\\%   350.000    2.241   \n",
       "                         FP32-XGB   55.8\\% ± 0.6\\%         -    0.002   \n",
       "                         FHE-RF     49.2\\% ± 0.8\\%   750.000    1.622   \n",
       "                         FP32-RF    49.2\\% ± 0.9\\%         -    0.002   \n",
       "steel (#features: 33)    FHE-DT     92.5\\% ± 1.7\\%     5.000    0.413   \n",
       "                         FP32-DT    92.5\\% ± 1.7\\%         -    0.001   \n",
       "                         FHE-XGB   100.0\\% ± 0.0\\%   200.000    0.512   \n",
       "                         FP32-XGB  100.0\\% ± 0.0\\%         -    0.002   \n",
       "                         FHE-RF     93.6\\% ± 2.2\\%   700.000    1.302   \n",
       "                         FP32-RF    91.4\\% ± 2.3\\%         -    0.002   \n",
       "\n",
       "                                  FHE/Clear ratio  \n",
       "spambase (#features: 57) FHE-DT              419x  \n",
       "                         FP32-DT                -  \n",
       "                         FHE-XGB             422x  \n",
       "                         FP32-XGB               -  \n",
       "                         FHE-RF              674x  \n",
       "                         FP32-RF                -  \n",
       "wine (#features: 13)     FHE-DT              340x  \n",
       "                         FP32-DT                -  \n",
       "                         FHE-XGB            1371x  \n",
       "                         FP32-XGB               -  \n",
       "                         FHE-RF              830x  \n",
       "                         FP32-RF                -  \n",
       "heart-h (#features: 13)  FHE-DT              360x  \n",
       "                         FP32-DT                -  \n",
       "                         FHE-XGB            2476x  \n",
       "                         FP32-XGB               -  \n",
       "                         FHE-RF             1260x  \n",
       "                         FP32-RF                -  \n",
       "wdbc (#features: 30)     FHE-DT              306x  \n",
       "                         FP32-DT                -  \n",
       "                         FHE-XGB             480x  \n",
       "                         FP32-XGB               -  \n",
       "                         FHE-RF              851x  \n",
       "                         FP32-RF                -  \n",
       "adult (#features: 14)    FHE-DT              350x  \n",
       "                         FP32-DT                -  \n",
       "                         FHE-XGB            1483x  \n",
       "                         FP32-XGB               -  \n",
       "                         FHE-RF             1014x  \n",
       "                         FP32-RF                -  \n",
       "steel (#features: 33)    FHE-DT              287x  \n",
       "                         FP32-DT                -  \n",
       "                         FHE-XGB             299x  \n",
       "                         FP32-XGB               -  \n",
       "                         FHE-RF              856x  \n",
       "                         FP32-RF                -  "
      ]
     },
     "metadata": {},
     "output_type": "display_data"
    }
   ],
   "source": [
    "import math\n",
    "\n",
    "import pandas as pd\n",
    "\n",
    "df = pd.DataFrame.from_dict(\n",
    "    {(i, j): value for i, scores in scores_global.items() for j, value in scores.items()},\n",
    "    orient=\"index\",\n",
    ")\n",
    "\n",
    "\n",
    "df[\"FHE/Clear ratio\"] = (df[\"inference_time\"] / df[\"inference_time\"].shift(-1)).apply(\n",
    "    lambda x: \"\" if (x < 1) or (math.isnan(x)) else str(int(round(x, 0))) + \"x\"\n",
    ")\n",
    "\n",
    "\n",
    "def format_scores(val):\n",
    "    if isinstance(val, list):\n",
    "        if not val:\n",
    "            return \"-\"\n",
    "        return f\"{np.mean(val) * 100:.1f}\\\\% ± {np.std(val) * 100:.1f}\\\\%\"\n",
    "\n",
    "    if pd.isna(val):\n",
    "        return \"-\"\n",
    "\n",
    "    if isinstance(val, (float, int)):\n",
    "        # To ensure all floating point values are treated as percentages\n",
    "        return f\"{val:.3f}\"\n",
    "\n",
    "    if \"x\" in str(val):  # Ensure that val is treated as a string\n",
    "        return val\n",
    "\n",
    "    return \"-\"\n",
    "\n",
    "\n",
    "df = df.applymap(format_scores)\n",
    "\n",
    "# Renaming for display\n",
    "model_names = {\n",
    "    \"DecisionTreeClassifier_concrete\": \"FHE-DT\",\n",
    "    \"DecisionTreeClassifier_fp32\": \"FP32-DT\",\n",
    "    \"XGBClassifier_concrete\": \"FHE-XGB\",\n",
    "    \"XGBClassifier_fp32\": \"FP32-XGB\",\n",
    "    \"RandomForestClassifier_concrete\": \"FHE-RF\",\n",
    "    \"RandomForestClassifier_fp32\": \"FP32-RF\",\n",
    "}\n",
    "\n",
    "for original, renamed in model_names.items():\n",
    "    df.index = df.index.set_levels(df.index.levels[1].str.replace(original, renamed), level=1)\n",
    "\n",
    "df.columns = df.columns.str.replace(\"average_precision\", \"AP\")\n",
    "\n",
    "# Reordering Columns\n",
    "columns_order = [col for col in df if col not in [\"FHE/Clear ratio\", \"inference_time\"]] + [\n",
    "    \"inference_time\",\n",
    "    \"FHE/Clear ratio\",\n",
    "]\n",
    "df = df[columns_order]\n",
    "\n",
    "# Drop and rename columns\n",
    "df.columns = df.columns.str.replace(\"inference_time\", \"Time (s)\")\n",
    "df.drop(columns=[\"precision\", \"recall\"], inplace=True)\n",
    "\n",
    "# Adjust LaTeX output\n",
    "latex_code = df.to_latex(multirow=True, escape=False, column_format=\"l|l|l|l|l|l|l|l\")\n",
    "\n",
    "latex_code = latex_code.replace(\"#\", \"\\\\#\")\n",
    "display(df)"
   ]
  },
  {
   "cell_type": "markdown",
   "metadata": {},
   "source": [
    "# Experiments Figure 2. - Impact of the precision"
   ]
  },
  {
   "cell_type": "code",
   "execution_count": 7,
   "metadata": {},
   "outputs": [
    {
     "name": "stdout",
     "output_type": "stream",
     "text": [
      "DecisionTreeClassifier with 1-bits:\n",
      "Average precision: 0.408932530057913\n",
      "Average precision (fp32): 0.8240131348716936\n"
     ]
    },
    {
     "name": "stdout",
     "output_type": "stream",
     "text": [
      "XGBClassifier with 1-bits:\n",
      "Average precision: 0.39404467418842154\n",
      "Average precision (fp32): 0.9046696576909921\n"
     ]
    },
    {
     "name": "stdout",
     "output_type": "stream",
     "text": [
      "RandomForestClassifier with 1-bits:\n",
      "Average precision: 0.39404467418842154\n",
      "Average precision (fp32): 0.8601540794231147\n"
     ]
    },
    {
     "name": "stdout",
     "output_type": "stream",
     "text": [
      "DecisionTreeClassifier with 2-bits:\n",
      "Average precision: 0.5783561241072402\n",
      "Average precision (fp32): 0.8240131348716936\n"
     ]
    },
    {
     "name": "stdout",
     "output_type": "stream",
     "text": [
      "XGBClassifier with 2-bits:\n",
      "Average precision: 0.6247177037498485\n",
      "Average precision (fp32): 0.9046696576909921\n"
     ]
    },
    {
     "name": "stdout",
     "output_type": "stream",
     "text": [
      "RandomForestClassifier with 2-bits:\n",
      "Average precision: 0.5692185974635017\n",
      "Average precision (fp32): 0.8601540794231147\n"
     ]
    },
    {
     "name": "stdout",
     "output_type": "stream",
     "text": [
      "DecisionTreeClassifier with 3-bits:\n",
      "Average precision: 0.6809716709773868\n",
      "Average precision (fp32): 0.8240131348716936\n"
     ]
    },
    {
     "name": "stdout",
     "output_type": "stream",
     "text": [
      "XGBClassifier with 3-bits:\n",
      "Average precision: 0.7950698031111193\n",
      "Average precision (fp32): 0.9046696576909921\n"
     ]
    },
    {
     "name": "stdout",
     "output_type": "stream",
     "text": [
      "RandomForestClassifier with 3-bits:\n",
      "Average precision: 0.7371651377079289\n",
      "Average precision (fp32): 0.8601540794231147\n"
     ]
    },
    {
     "name": "stdout",
     "output_type": "stream",
     "text": [
      "DecisionTreeClassifier with 4-bits:\n",
      "Average precision: 0.733924323832143\n",
      "Average precision (fp32): 0.8240131348716936\n"
     ]
    },
    {
     "name": "stdout",
     "output_type": "stream",
     "text": [
      "XGBClassifier with 4-bits:\n",
      "Average precision: 0.8521287716294133\n",
      "Average precision (fp32): 0.9046696576909921\n"
     ]
    },
    {
     "name": "stdout",
     "output_type": "stream",
     "text": [
      "RandomForestClassifier with 4-bits:\n",
      "Average precision: 0.8056925848877744\n",
      "Average precision (fp32): 0.8601540794231147\n"
     ]
    },
    {
     "name": "stdout",
     "output_type": "stream",
     "text": [
      "DecisionTreeClassifier with 5-bits:\n",
      "Average precision: 0.8101306169806723\n",
      "Average precision (fp32): 0.8240131348716936\n"
     ]
    },
    {
     "name": "stdout",
     "output_type": "stream",
     "text": [
      "XGBClassifier with 5-bits:\n",
      "Average precision: 0.878407427344724\n",
      "Average precision (fp32): 0.9046696576909921\n"
     ]
    },
    {
     "name": "stdout",
     "output_type": "stream",
     "text": [
      "RandomForestClassifier with 5-bits:\n",
      "Average precision: 0.8304046578932958\n",
      "Average precision (fp32): 0.8601540794231147\n"
     ]
    },
    {
     "name": "stdout",
     "output_type": "stream",
     "text": [
      "DecisionTreeClassifier with 6-bits:\n",
      "Average precision: 0.8426735780163795\n",
      "Average precision (fp32): 0.8240131348716936\n"
     ]
    },
    {
     "name": "stdout",
     "output_type": "stream",
     "text": [
      "XGBClassifier with 6-bits:\n",
      "Average precision: 0.8964789946563898\n",
      "Average precision (fp32): 0.9046696576909921\n"
     ]
    },
    {
     "name": "stdout",
     "output_type": "stream",
     "text": [
      "RandomForestClassifier with 6-bits:\n",
      "Average precision: 0.8459941433803378\n",
      "Average precision (fp32): 0.8601540794231147\n"
     ]
    },
    {
     "name": "stdout",
     "output_type": "stream",
     "text": [
      "DecisionTreeClassifier with 7-bits:\n",
      "Average precision: 0.8440934158260279\n",
      "Average precision (fp32): 0.8240131348716936\n"
     ]
    },
    {
     "name": "stdout",
     "output_type": "stream",
     "text": [
      "XGBClassifier with 7-bits:\n",
      "Average precision: 0.8987745041709022\n",
      "Average precision (fp32): 0.9046696576909921\n"
     ]
    },
    {
     "name": "stdout",
     "output_type": "stream",
     "text": [
      "RandomForestClassifier with 7-bits:\n",
      "Average precision: 0.8523380007137836\n",
      "Average precision (fp32): 0.8601540794231147\n"
     ]
    },
    {
     "name": "stdout",
     "output_type": "stream",
     "text": [
      "DecisionTreeClassifier with 8-bits:\n",
      "Average precision: 0.8329951951056004\n",
      "Average precision (fp32): 0.8240131348716936\n"
     ]
    },
    {
     "name": "stdout",
     "output_type": "stream",
     "text": [
      "XGBClassifier with 8-bits:\n",
      "Average precision: 0.9012936586221614\n",
      "Average precision (fp32): 0.9046696576909921\n"
     ]
    },
    {
     "name": "stdout",
     "output_type": "stream",
     "text": [
      "RandomForestClassifier with 8-bits:\n",
      "Average precision: 0.8527017103592347\n",
      "Average precision (fp32): 0.8601540794231147\n"
     ]
    },
    {
     "name": "stdout",
     "output_type": "stream",
     "text": [
      "DecisionTreeClassifier with 9-bits:\n",
      "Average precision: 0.8344647983632885\n",
      "Average precision (fp32): 0.8240131348716936\n"
     ]
    },
    {
     "name": "stdout",
     "output_type": "stream",
     "text": [
      "XGBClassifier with 9-bits:\n",
      "Average precision: 0.904057847352071\n",
      "Average precision (fp32): 0.9046696576909921\n"
     ]
    },
    {
     "name": "stdout",
     "output_type": "stream",
     "text": [
      "RandomForestClassifier with 9-bits:\n",
      "Average precision: 0.8579231686644472\n",
      "Average precision (fp32): 0.8601540794231147\n"
     ]
    }
   ],
   "source": [
    "def evaluate_model(X, y, model, rkf):\n",
    "    \"\"\"Evaluate a given model and return its scores.\"\"\"\n",
    "    scores = {\"precision\": [], \"recall\": [], \"accuracy\": [], \"f1\": [], \"average_precision\": []}\n",
    "    scores_fp32 = {\"precision\": [], \"recall\": [], \"accuracy\": [], \"f1\": [], \"average_precision\": []}\n",
    "\n",
    "    metric_func_to_key = {\n",
    "        \"precision_score\": \"precision\",\n",
    "        \"recall_score\": \"recall\",\n",
    "        \"f1_score\": \"f1\",\n",
    "        \"average_precision_score\": \"average_precision\",\n",
    "    }\n",
    "\n",
    "    for train_index, test_index in rkf.split(X):\n",
    "        X_train, X_test = X[train_index], X[test_index]\n",
    "        y_train, y_test = y[train_index], y[test_index]\n",
    "\n",
    "        concrete_model, sklearn_model = model.fit_benchmark(X_train, y_train)\n",
    "\n",
    "        for model_instance, score_dict in [(concrete_model, scores), (sklearn_model, scores_fp32)]:\n",
    "            y_pred = model_instance.predict(X_test)\n",
    "            for metric_func in [precision_score, recall_score, average_precision_score, f1_score]:\n",
    "                score_key = metric_func_to_key[metric_func.__name__]\n",
    "                score_dict[score_key].append(metric_func(y_test, y_pred))\n",
    "            score_dict[\"accuracy\"].append(accuracy_score(y_test, y_pred))\n",
    "\n",
    "    return scores, scores_fp32\n",
    "\n",
    "\n",
    "rkf = RepeatedKFold(n_splits=5, n_repeats=3, random_state=0)\n",
    "X, y = datasets[\"spambase\"][\"X\"].astype(np.float32), datasets[\"spambase\"][\"y\"]\n",
    "assert len(set(y)) == 2\n",
    "if y.dtype not in [np.int32, np.bool]:\n",
    "    print(f\"Unexpected datatype for y in dataset spambase: {y.dtype}\")\n",
    "\n",
    "scores_global = {}\n",
    "\n",
    "for n_bits in n_bits_list:\n",
    "    scores_global[n_bits] = {}\n",
    "\n",
    "    for model_cls, params in model_hyperparameters.items():\n",
    "        model_instance = model_cls(n_bits=n_bits, **params)\n",
    "        scores, scores_fp32 = evaluate_model(X, y, model_instance, rkf)\n",
    "\n",
    "        model_name = model_cls.__name__\n",
    "        scores_global[n_bits][model_name + \"_concrete\"] = scores\n",
    "        scores_global[n_bits][model_name + \"_fp32\"] = scores_fp32\n",
    "\n",
    "        print(f\"{model_name} with {n_bits}-bits:\")\n",
    "        print(\"Average precision:\", np.mean(scores[\"average_precision\"]))\n",
    "        print(\"Average precision (fp32):\", np.mean(scores_fp32[\"average_precision\"]))"
   ]
  },
  {
   "cell_type": "markdown",
   "metadata": {},
   "source": [
    "# P-Error search"
   ]
  },
  {
   "cell_type": "code",
   "execution_count": 8,
   "metadata": {},
   "outputs": [
    {
     "name": "stderr",
     "output_type": "stream",
     "text": [
      "\r",
      "  0%|          | 0/14 [00:00<?, ?it/s]"
     ]
    },
    {
     "name": "stderr",
     "output_type": "stream",
     "text": [
      "\r",
      "  7%|▋         | 1/14 [02:00<26:07, 120.58s/it]"
     ]
    },
    {
     "name": "stderr",
     "output_type": "stream",
     "text": [
      "\r",
      " 14%|█▍        | 2/14 [03:26<20:05, 100.48s/it]"
     ]
    },
    {
     "name": "stderr",
     "output_type": "stream",
     "text": [
      "\r",
      " 21%|██▏       | 3/14 [04:48<16:51, 91.92s/it] "
     ]
    },
    {
     "name": "stderr",
     "output_type": "stream",
     "text": [
      "\r",
      " 29%|██▊       | 4/14 [06:08<14:33, 87.30s/it]"
     ]
    },
    {
     "name": "stderr",
     "output_type": "stream",
     "text": [
      "\r",
      " 36%|███▌      | 5/14 [07:27<12:36, 84.06s/it]"
     ]
    },
    {
     "name": "stderr",
     "output_type": "stream",
     "text": [
      "\r",
      " 43%|████▎     | 6/14 [08:37<10:35, 79.38s/it]"
     ]
    },
    {
     "name": "stderr",
     "output_type": "stream",
     "text": [
      "\r",
      " 50%|█████     | 7/14 [09:55<09:13, 79.04s/it]"
     ]
    },
    {
     "name": "stderr",
     "output_type": "stream",
     "text": [
      "\r",
      " 57%|█████▋    | 8/14 [11:16<07:56, 79.39s/it]"
     ]
    },
    {
     "name": "stderr",
     "output_type": "stream",
     "text": [
      "\r",
      " 64%|██████▍   | 9/14 [12:24<06:20, 76.10s/it]"
     ]
    },
    {
     "name": "stderr",
     "output_type": "stream",
     "text": [
      "\r",
      " 71%|███████▏  | 10/14 [13:35<04:57, 74.32s/it]"
     ]
    },
    {
     "name": "stderr",
     "output_type": "stream",
     "text": [
      "\r",
      " 79%|███████▊  | 11/14 [14:29<03:24, 68.30s/it]"
     ]
    },
    {
     "name": "stderr",
     "output_type": "stream",
     "text": [
      "\r",
      " 86%|████████▌ | 12/14 [15:23<02:07, 63.78s/it]"
     ]
    },
    {
     "name": "stderr",
     "output_type": "stream",
     "text": [
      "\r",
      " 93%|█████████▎| 13/14 [16:02<00:56, 56.20s/it]"
     ]
    },
    {
     "name": "stderr",
     "output_type": "stream",
     "text": [
      "\r",
      "100%|██████████| 14/14 [16:46<00:00, 52.58s/it]"
     ]
    },
    {
     "name": "stderr",
     "output_type": "stream",
     "text": [
      "\r",
      "100%|██████████| 14/14 [16:46<00:00, 71.88s/it]"
     ]
    },
    {
     "name": "stderr",
     "output_type": "stream",
     "text": [
      "\n"
     ]
    }
   ],
   "source": [
    "import matplotlib.pyplot as plt\n",
    "from tqdm import tqdm\n",
    "\n",
    "\n",
    "def evaluate_model_on_error_rates(X_train, X_test, y_test, concrete_model, p_error_list):\n",
    "    \"\"\"Evaluate the concrete model on different error rates and return accuracy and time taken.\"\"\"\n",
    "    acc_scores = []\n",
    "    time_scores = []\n",
    "    real_p_error_list = []\n",
    "\n",
    "    for p_error in tqdm(p_error_list):\n",
    "        concrete_model.compile(X_train, p_error=p_error)\n",
    "        real_p_error_list.append(concrete_model.fhe_circuit.p_error)\n",
    "        concrete_model.fhe_circuit.keygen(force=False)\n",
    "\n",
    "        start_time = time.time()\n",
    "        y_pred = concrete_model.predict(X_test, fhe=\"execute\")\n",
    "        end_time = time.time()\n",
    "\n",
    "        acc_scores.append(accuracy_score(y_pred, y_test))\n",
    "        time_scores.append(end_time - start_time)\n",
    "\n",
    "    return acc_scores, time_scores, real_p_error_list\n",
    "\n",
    "\n",
    "plt.rcParams.update({\"font.size\": 16})\n",
    "n_bits = 6\n",
    "p_error_list = [2e-40, 1e-6, 1e-5, 1e-4, 0.001, 0.005, 0.01, 0.05, 0.1, 0.3, 0.5, 0.7, 0.9, 0.95]\n",
    "X, y = datasets[\"spambase\"][\"X\"].astype(np.float32), datasets[\"spambase\"][\"y\"]\n",
    "\n",
    "clf = DecisionTreeClassifier(n_bits=n_bits, **model_hyperparameters[DecisionTreeClassifier])\n",
    "rkf = RepeatedKFold(n_splits=20, n_repeats=3, random_state=0)\n",
    "\n",
    "for train_index, test_index in rkf.split(X):\n",
    "    X_train, X_test = X[train_index], X[test_index]\n",
    "    y_train, y_test = y[train_index], y[test_index]\n",
    "\n",
    "    concrete_model, _ = clf.fit_benchmark(X_train, y_train)\n",
    "\n",
    "    # Calculating num_nodes using analyze_gemm_computation function\n",
    "    shapes = analyze_gemm_computation(concrete_model)\n",
    "    num_nodes = shapes[0][0]\n",
    "\n",
    "    acc_scores, time_p_error, real_p_error_list = evaluate_model_on_error_rates(\n",
    "        X_train, X_test, y_test, concrete_model, p_error_list\n",
    "    )\n",
    "    break"
   ]
  },
  {
   "cell_type": "code",
   "execution_count": 9,
   "metadata": {},
   "outputs": [
    {
     "name": "stderr",
     "output_type": "stream",
     "text": [
      "The PostScript backend does not support transparency; partially transparent artists will be rendered opaque.\n"
     ]
    },
    {
     "data": {
      "image/png": "[encoded data removed]",
      "text/plain": [
       "<Figure size 640x480 with 1 Axes>"
      ]
     },
     "metadata": {},
     "output_type": "display_data"
    },
    {
     "name": "stderr",
     "output_type": "stream",
     "text": [
      "The PostScript backend does not support transparency; partially transparent artists will be rendered opaque.\n"
     ]
    },
    {
     "data": {
      "image/png": "[encoded data removed]",
      "text/plain": [
       "<Figure size 640x480 with 1 Axes>"
      ]
     },
     "metadata": {},
     "output_type": "display_data"
    }
   ],
   "source": [
    "def plot_metrics_vs_error_rates(\n",
    "    metric_values, model_name, num_nodes, xlabel, ylabel, filename, red_line_value\n",
    "):\n",
    "    \"\"\"Plot the metrics against error rates.\"\"\"\n",
    "    plt.figure()\n",
    "    plt.plot(\n",
    "        [real_p_error_list[0], real_p_error_list[-1]],\n",
    "        [red_line_value, red_line_value],\n",
    "        color=\"red\",\n",
    "        linewidth=2,\n",
    "        label=\"p_error=2E-40\",\n",
    "    )\n",
    "    plt.plot(real_p_error_list, metric_values, color=\"blue\", linewidth=2, marker=\"x\")\n",
    "    plt.grid(True)\n",
    "    plt.legend()\n",
    "    plt.title(f\"{model_name} {num_nodes} nodes\")\n",
    "    plt.xlabel(xlabel)\n",
    "    plt.ylabel(ylabel)\n",
    "    plt.semilogx()\n",
    "    plt.xticks(10.0 ** np.arange(-6, 1))\n",
    "    plt.savefig(filename, bbox_inches=\"tight\", dpi=300)\n",
    "    plt.show()\n",
    "\n",
    "\n",
    "# Plotting accuracy vs error rates\n",
    "plot_metrics_vs_error_rates(\n",
    "    acc_scores,\n",
    "    \"DecisionTreeClassifier\",\n",
    "    num_nodes,\n",
    "    \"$p_{error}$\",\n",
    "    \"Metric\",\n",
    "    \"DecisionTreeClassifier\" + \"acc_p_error.eps\",\n",
    "    0.91,\n",
    ")\n",
    "\n",
    "# Plotting execution time per data point vs error rates\n",
    "plot_metrics_vs_error_rates(\n",
    "    np.asarray(time_p_error) / X_test.shape[0],\n",
    "    \"DecisionTreeClassifier\",\n",
    "    num_nodes,\n",
    "    \"$p_{error}$\",\n",
    "    \"Execution time\",\n",
    "    \"DecisionTreeClassifier\" + \"speed_p_error.eps\",\n",
    "    1.807,\n",
    ")"
   ]
  },
  {
   "cell_type": "markdown",
   "metadata": {},
   "source": [
    "# Speed vs bitwidth"
   ]
  },
  {
   "cell_type": "code",
   "execution_count": 10,
   "metadata": {},
   "outputs": [
    {
     "name": "stderr",
     "output_type": "stream",
     "text": [
      "The PostScript backend does not support transparency; partially transparent artists will be rendered opaque.\n"
     ]
    },
    {
     "name": "stdout",
     "output_type": "stream",
     "text": [
      "ap relative: [0.49626943 0.70187731 0.82640876 0.89067066 0.98315255 1.02264581\n",
      " 1.02436888 1.01090038 1.01268386], f1_relative: [0.06488922 0.65490682 0.87590196 0.90861806 0.97920588 1.00604989\n",
      " 1.00914511 1.00274636 1.00389957]\n"
     ]
    },
    {
     "data": {
      "image/png": "[encoded data removed]",
      "text/plain": [
       "<Figure size 640x480 with 1 Axes>"
      ]
     },
     "metadata": {},
     "output_type": "display_data"
    },
    {
     "name": "stdout",
     "output_type": "stream",
     "text": [
      "ap relative: [0.43556747 0.69054787 0.87885097 0.94192257 0.97097036 0.99094624\n",
      " 0.99348364 0.99626825 0.99932372], f1_relative: [0.         0.65970362 0.91404942 0.95773723 0.97789164 0.99281277\n",
      " 0.99447789 0.99697611 0.99969255]\n"
     ]
    },
    {
     "name": "stderr",
     "output_type": "stream",
     "text": [
      "The PostScript backend does not support transparency; partially transparent artists will be rendered opaque.\n"
     ]
    },
    {
     "data": {
      "image/png": "[encoded data removed]",
      "text/plain": [
       "<Figure size 640x480 with 1 Axes>"
      ]
     },
     "metadata": {},
     "output_type": "display_data"
    },
    {
     "name": "stderr",
     "output_type": "stream",
     "text": [
      "The PostScript backend does not support transparency; partially transparent artists will be rendered opaque.\n"
     ]
    },
    {
     "name": "stdout",
     "output_type": "stream",
     "text": [
      "ap relative: [0.45810941 0.66176353 0.85701522 0.93668402 0.96541385 0.98353791\n",
      " 0.99091316 0.99133601 0.99740638], f1_relative: [0.         0.57332946 0.87035559 0.9402579  0.96505021 0.983713\n",
      " 0.99082334 0.99224022 0.99758998]\n"
     ]
    },
    {
     "data": {
      "image/png": "[encoded data removed]",
      "text/plain": [
       "<Figure size 640x480 with 1 Axes>"
      ]
     },
     "metadata": {},
     "output_type": "display_data"
    }
   ],
   "source": [
    "# Plot the metrics vs n_bits for each model\n",
    "plt.rcParams.update({\"font.size\": 16})\n",
    "for cls in model_hyperparameters:\n",
    "    plt.figure()\n",
    "\n",
    "    f1_scores = []\n",
    "    f1_scores_fp32 = []\n",
    "\n",
    "    average_precision_scores = []\n",
    "    average_precision_scores_fp32 = []\n",
    "\n",
    "    for n_bits in n_bits_list:\n",
    "        average_precision_scores.append(\n",
    "            np.mean(scores_global[n_bits][cls.__name__ + \"_concrete\"][\"average_precision\"])\n",
    "        )\n",
    "        average_precision_scores_fp32.append(\n",
    "            np.mean(scores_global[n_bits][cls.__name__ + \"_fp32\"][\"average_precision\"])\n",
    "        )\n",
    "\n",
    "        f1_scores.append(np.mean(scores_global[n_bits][cls.__name__ + \"_concrete\"][\"f1\"]))\n",
    "        f1_scores_fp32.append(np.mean(scores_global[n_bits][cls.__name__ + \"_fp32\"][\"f1\"]))\n",
    "\n",
    "    # plt.legend()\n",
    "    ap_relative = np.array(average_precision_scores) / average_precision_scores_fp32\n",
    "    f1_relative = np.array(f1_scores) / f1_scores_fp32\n",
    "    print(f\"ap relative: {ap_relative}, f1_relative: {f1_relative}\")\n",
    "    plt.plot(\n",
    "        n_bits_list,\n",
    "        average_precision_scores,\n",
    "        label=\"concrete_average_precision\",\n",
    "        color=\"blue\",\n",
    "        linewidth=2,\n",
    "    )\n",
    "    plt.plot(\n",
    "        n_bits_list,\n",
    "        average_precision_scores_fp32,\n",
    "        label=\"fp32_average_precision\",\n",
    "        color=\"blue\",\n",
    "        linewidth=2,\n",
    "        linestyle=\"dashed\",\n",
    "    )\n",
    "\n",
    "    plt.plot(n_bits_list, f1_scores, label=\"concrete_f1\", linewidth=2, color=\"red\")\n",
    "    plt.plot(\n",
    "        n_bits_list, f1_scores_fp32, label=\"fp32_f1\", color=\"red\", linewidth=2, linestyle=\"dashed\"\n",
    "    )\n",
    "\n",
    "    plt.grid(True)\n",
    "    plt.xlim([1, 9])\n",
    "    plt.ylim([0, 1])\n",
    "    plt.xticks(np.arange(1, 10))\n",
    "    plt.legend()\n",
    "\n",
    "    plt.title(cls.__name__)\n",
    "    plt.xlabel(\"Bitwidth\")\n",
    "    plt.ylabel(\"Metric\")\n",
    "    # Save the figure\n",
    "    plt.savefig(cls.__name__ + \".eps\", bbox_inches=\"tight\", dpi=300)\n",
    "\n",
    "    plt.show()"
   ]
  },
  {
   "cell_type": "code",
   "execution_count": 11,
   "metadata": {},
   "outputs": [
    {
     "name": "stdout",
     "output_type": "stream",
     "text": [
      "Compiling and keygen...\n"
     ]
    },
    {
     "name": "stdout",
     "output_type": "stream",
     "text": [
      "Predict in FHE\n",
      "{'op_inputs': 1, 'op_leaves': 1}\n",
      "0.13403582572937012\n",
      "8\n",
      "Compiling and keygen...\n"
     ]
    },
    {
     "name": "stdout",
     "output_type": "stream",
     "text": [
      "Predict in FHE\n",
      "{'op_inputs': 2, 'op_leaves': 2}\n",
      "0.13559198379516602\n",
      "20\n",
      "Compiling and keygen...\n"
     ]
    },
    {
     "name": "stdout",
     "output_type": "stream",
     "text": [
      "Predict in FHE\n",
      "{'op_inputs': 3, 'op_leaves': 3}\n",
      "0.12685728073120117\n",
      "20\n"
     ]
    },
    {
     "name": "stdout",
     "output_type": "stream",
     "text": [
      "Compiling and keygen...\n"
     ]
    },
    {
     "name": "stdout",
     "output_type": "stream",
     "text": [
      "Predict in FHE\n",
      "{'op_inputs': 4, 'op_leaves': 4}\n",
      "0.22978472709655762\n",
      "21\n",
      "Compiling and keygen...\n"
     ]
    },
    {
     "name": "stdout",
     "output_type": "stream",
     "text": [
      "Predict in FHE\n"
     ]
    },
    {
     "name": "stdout",
     "output_type": "stream",
     "text": [
      "{'op_inputs': 5, 'op_leaves': 5}\n",
      "0.3306741714477539\n",
      "25\n",
      "Compiling and keygen...\n"
     ]
    },
    {
     "name": "stdout",
     "output_type": "stream",
     "text": [
      "Predict in FHE\n",
      "{'op_inputs': 6, 'op_leaves': 6}\n",
      "0.36476683616638184\n",
      "23\n",
      "Compiling and keygen...\n"
     ]
    },
    {
     "name": "stdout",
     "output_type": "stream",
     "text": [
      "Predict in FHE\n",
      "{'op_inputs': 7, 'op_leaves': 7}\n",
      "0.34432196617126465\n",
      "24\n",
      "Compiling and keygen...\n"
     ]
    },
    {
     "name": "stdout",
     "output_type": "stream",
     "text": [
      "Predict in FHE\n",
      "{'op_inputs': 8, 'op_leaves': 8}\n",
      "0.40547823905944824\n",
      "22\n"
     ]
    },
    {
     "name": "stdout",
     "output_type": "stream",
     "text": [
      "Compiling and keygen...\n",
      "Predict in FHE\n",
      "{'op_inputs': 1, 'op_leaves': 1}\n",
      "0.0060918331146240234\n",
      "200\n"
     ]
    },
    {
     "name": "stdout",
     "output_type": "stream",
     "text": [
      "Compiling and keygen...\n"
     ]
    },
    {
     "name": "stdout",
     "output_type": "stream",
     "text": [
      "Predict in FHE\n",
      "{'op_inputs': 2, 'op_leaves': 2}\n",
      "0.19728851318359375\n",
      "350\n"
     ]
    },
    {
     "name": "stdout",
     "output_type": "stream",
     "text": [
      "Compiling and keygen...\n"
     ]
    },
    {
     "name": "stdout",
     "output_type": "stream",
     "text": [
      "Predict in FHE\n",
      "{'op_inputs': 3, 'op_leaves': 3}\n",
      "0.20644712448120117\n",
      "350\n"
     ]
    },
    {
     "name": "stdout",
     "output_type": "stream",
     "text": [
      "Compiling and keygen...\n"
     ]
    },
    {
     "name": "stdout",
     "output_type": "stream",
     "text": [
      "Predict in FHE\n",
      "{'op_inputs': 4, 'op_leaves': 4}\n",
      "0.45914793014526367\n",
      "350\n"
     ]
    },
    {
     "name": "stdout",
     "output_type": "stream",
     "text": [
      "Compiling and keygen...\n"
     ]
    },
    {
     "name": "stdout",
     "output_type": "stream",
     "text": [
      "Predict in FHE\n",
      "{'op_inputs': 5, 'op_leaves': 5}\n",
      "0.5646781921386719\n",
      "350\n"
     ]
    },
    {
     "name": "stdout",
     "output_type": "stream",
     "text": [
      "Compiling and keygen...\n"
     ]
    },
    {
     "name": "stdout",
     "output_type": "stream",
     "text": [
      "Predict in FHE\n",
      "{'op_inputs': 6, 'op_leaves': 6}\n",
      "0.7258274555206299\n",
      "350\n"
     ]
    },
    {
     "name": "stdout",
     "output_type": "stream",
     "text": [
      "Compiling and keygen...\n"
     ]
    },
    {
     "name": "stdout",
     "output_type": "stream",
     "text": [
      "Predict in FHE\n"
     ]
    },
    {
     "name": "stdout",
     "output_type": "stream",
     "text": [
      "{'op_inputs': 7, 'op_leaves': 7}\n",
      "0.7444450855255127\n",
      "350\n"
     ]
    },
    {
     "name": "stdout",
     "output_type": "stream",
     "text": [
      "Compiling and keygen...\n"
     ]
    },
    {
     "name": "stdout",
     "output_type": "stream",
     "text": [
      "Predict in FHE\n",
      "{'op_inputs': 8, 'op_leaves': 8}\n",
      "0.7902312278747559\n",
      "350\n"
     ]
    },
    {
     "name": "stdout",
     "output_type": "stream",
     "text": [
      "Compiling and keygen...\n"
     ]
    },
    {
     "name": "stdout",
     "output_type": "stream",
     "text": [
      "Predict in FHE\n",
      "{'op_inputs': 1, 'op_leaves': 1}\n",
      "0.2807745933532715\n",
      "400\n"
     ]
    },
    {
     "name": "stdout",
     "output_type": "stream",
     "text": [
      "Compiling and keygen...\n"
     ]
    },
    {
     "name": "stdout",
     "output_type": "stream",
     "text": [
      "Predict in FHE\n",
      "{'op_inputs': 2, 'op_leaves': 2}\n",
      "0.37109375\n",
      "650\n"
     ]
    },
    {
     "name": "stdout",
     "output_type": "stream",
     "text": [
      "Compiling and keygen...\n"
     ]
    },
    {
     "name": "stdout",
     "output_type": "stream",
     "text": [
      "Predict in FHE\n"
     ]
    },
    {
     "name": "stdout",
     "output_type": "stream",
     "text": [
      "{'op_inputs': 3, 'op_leaves': 3}\n",
      "0.44757866859436035\n",
      "700\n"
     ]
    },
    {
     "name": "stdout",
     "output_type": "stream",
     "text": [
      "Compiling and keygen...\n"
     ]
    },
    {
     "name": "stdout",
     "output_type": "stream",
     "text": [
      "Predict in FHE\n",
      "{'op_inputs': 4, 'op_leaves': 4}\n",
      "0.8674337863922119\n",
      "750\n"
     ]
    },
    {
     "name": "stdout",
     "output_type": "stream",
     "text": [
      "Compiling and keygen...\n"
     ]
    },
    {
     "name": "stdout",
     "output_type": "stream",
     "text": [
      "Predict in FHE\n",
      "{'op_inputs': 5, 'op_leaves': 5}\n",
      "1.3030662536621094\n",
      "750\n"
     ]
    },
    {
     "name": "stdout",
     "output_type": "stream",
     "text": [
      "Compiling and keygen...\n"
     ]
    },
    {
     "name": "stdout",
     "output_type": "stream",
     "text": [
      "Predict in FHE\n",
      "{'op_inputs': 6, 'op_leaves': 6}\n",
      "1.4742214679718018\n",
      "750\n"
     ]
    },
    {
     "name": "stdout",
     "output_type": "stream",
     "text": [
      "Compiling and keygen...\n"
     ]
    },
    {
     "name": "stdout",
     "output_type": "stream",
     "text": [
      "Predict in FHE\n"
     ]
    },
    {
     "name": "stdout",
     "output_type": "stream",
     "text": [
      "{'op_inputs': 7, 'op_leaves': 7}\n",
      "1.5278797149658203\n",
      "750\n"
     ]
    },
    {
     "name": "stdout",
     "output_type": "stream",
     "text": [
      "Compiling and keygen...\n"
     ]
    },
    {
     "name": "stdout",
     "output_type": "stream",
     "text": [
      "Predict in FHE\n"
     ]
    },
    {
     "name": "stdout",
     "output_type": "stream",
     "text": [
      "{'op_inputs': 8, 'op_leaves': 8}\n",
      "1.7363243103027344\n",
      "750\n"
     ]
    }
   ],
   "source": [
    "def predict_with_fhe(clf, X_sample):\n",
    "    \"\"\"Predict using FHE and return elapsed time.\"\"\"\n",
    "    print(\"Compiling and keygen...\")\n",
    "    clf.compile(X_sample[:100])\n",
    "    clf.fhe_circuit.keygen(force=False)\n",
    "\n",
    "    print(\"Predict in FHE\")\n",
    "    start_time = time.time()\n",
    "    _ = clf.predict(X_sample[:1], fhe=\"execute\")\n",
    "    end_time = time.time()\n",
    "\n",
    "    return end_time - start_time\n",
    "\n",
    "\n",
    "def analyze_and_store(clf, X_sample, nodes_dict, scores_dict):\n",
    "    \"\"\"Analyze the model and store results.\"\"\"\n",
    "    elapsed_time = predict_with_fhe(clf, X_sample)\n",
    "\n",
    "    model_name = clf.__class__.__name__\n",
    "    if model_name not in nodes_dict:\n",
    "        nodes_dict[model_name] = []\n",
    "        scores_dict[model_name] = []\n",
    "\n",
    "    scores_dict[model_name].append(elapsed_time)\n",
    "\n",
    "    shapes = analyze_gemm_computation(clf)\n",
    "    nodes_dict[model_name].append(shapes[0][0])\n",
    "\n",
    "    print(clf.n_bits)\n",
    "    print(scores_dict[model_name][-1])\n",
    "    print(nodes_dict[model_name][-1])\n",
    "\n",
    "\n",
    "X, y = datasets[\"spambase\"][\"X\"], datasets[\"spambase\"][\"y\"]\n",
    "nodes_dict = {}\n",
    "scores_dict = {}\n",
    "\n",
    "for model_name, hyperparameters in model_hyperparameters.items():\n",
    "    for n_bits in n_bits_list:\n",
    "        clf = model_name(n_bits=n_bits, **hyperparameters)\n",
    "        clf.fit(X, y)\n",
    "\n",
    "        if n_bits < 9:\n",
    "            analyze_and_store(clf, X, nodes_dict, scores_dict)"
   ]
  },
  {
   "cell_type": "code",
   "execution_count": 12,
   "metadata": {},
   "outputs": [
    {
     "data": {
      "image/png": "[encoded data removed]",
      "text/plain": [
       "<Figure size 1000x600 with 1 Axes>"
      ]
     },
     "metadata": {},
     "output_type": "display_data"
    }
   ],
   "source": [
    "def plot_fhe_inference_time(n_bits_list, scores, model_hyperparameters):\n",
    "    \"\"\"Plot the FHE inference time against bitwidth for each model.\"\"\"\n",
    "\n",
    "    # Calculate average inference time per node for each bitwidth\n",
    "    n_bits_timings = np.zeros((8,))\n",
    "    for model in model_hyperparameters:\n",
    "        for idx, n_bits in enumerate(n_bits_list):\n",
    "            if n_bits < 9:\n",
    "                n_bits_timings[idx] += (\n",
    "                    scores[model.__name__][idx] / nodes_dict[model.__name__][idx] * 1000\n",
    "                )\n",
    "    n_bits_timings /= len(model_hyperparameters)\n",
    "\n",
    "    # Plot setup\n",
    "    plt.figure(figsize=(10, 6))\n",
    "    plt.rcParams.update({\"font.size\": 16})\n",
    "\n",
    "    plt.plot(\n",
    "        range(1, 9),\n",
    "        n_bits_timings,\n",
    "        label=\"FHE Inference Time\",\n",
    "        color=\"blue\",\n",
    "        linewidth=2,\n",
    "        marker=\"o\",\n",
    "    )\n",
    "\n",
    "    plt.xlabel(\"Bitwidth\")\n",
    "    plt.ylabel(\"Time (ms)\")\n",
    "    plt.grid(True, which=\"both\")\n",
    "    plt.semilogy()\n",
    "    plt.ylim([0, 1000])\n",
    "    plt.xlim([0.5, 8.5])\n",
    "    plt.xticks(np.arange(1, 9))\n",
    "    plt.title(\"FHE Execution vs Precision\", pad=10)\n",
    "\n",
    "    plt.savefig(\"fhe_inference_time.eps\", bbox_inches=\"tight\", dpi=300)\n",
    "    plt.show()\n",
    "\n",
    "\n",
    "plot_fhe_inference_time(n_bits_list, scores_dict, model_hyperparameters)"
   ]
  }
 ],
 "metadata": {
  "execution": {
   "timeout": 10800
  }
 },
 "nbformat": 4,
 "nbformat_minor": 2
}
