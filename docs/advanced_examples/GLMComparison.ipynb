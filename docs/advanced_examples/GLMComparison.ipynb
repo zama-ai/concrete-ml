{
 "cells": [
  {
   "cell_type": "markdown",
   "metadata": {},
   "source": [
    "# Generalized Linear Models Comparison\n",
    "\n",
    "All three **Generalized Linear Models (GLM)** currently available in scikit-learn have been integrated for FHE in Concrete ML: PoissonRegressor, GammaRegressor and TweedieRegressor. Choosing the best GLM directly depends on the initial problem one has to solve, and more specifically, how the target values are distributed.  Detailed information about those models can be found in their associated [documentation](https://scikit-learn.org/stable/modules/classes.html#:~:text=Generalized%20linear%20models%20(GLM)) as well as their [user guide](https://scikit-learn.org/stable/modules/linear_model.html#:~:text=vs%20other%20solvers%E2%80%9D-,1.1.12.%20Generalized%20Linear%20Regression).\n",
    "\n",
    "This notebook shows how to train these models and run them in FHE using Concrete ML. It is highly inspired by this [notebook](https://scikit-learn.org/stable/auto_examples/linear_model/plot_tweedie_regression_insurance_claims.html) from scikit-learn so that users can appreciate how similar Concrete ML is to the library.\n",
    "\n",
    "A deeper analysis on the impact of quantization and FHE computations over a model's performance in comparison to its scikit-learn equivalent one is available in the [PoissonRegressor notebook](PoissonRegression.ipynb)."
   ]
  },
  {
   "cell_type": "markdown",
   "metadata": {},
   "source": [
    "### Import libraries\n",
    "\n",
    "We import scikit-learn libraries, Concrete quantization tools as well as the Poisson, Gamma and Tweedie regression model from both scikit-learn and Concrete ML:"
   ]
  },
  {
   "cell_type": "code",
   "execution_count": 1,
   "metadata": {},
   "outputs": [],
   "source": [
    "# Source : https://scikit-learn.org/stable/auto_examples/linear_model/plot_tweedie_regression_insurance_claims.html # noqa # pylint: disable=line-too-long\n",
    "\n",
    "# Authors: Christian Lorentzen <lorentzen.ch@gmail.com>\n",
    "#          Roman Yurchak <rth.yurchak@gmail.com>\n",
    "#          Olivier Grisel <olivier.grisel@ensta.org>\n",
    "# Modified to integrate Concrete ML functions by Zama\n",
    "# License: BSD 3 clause\n",
    "\n",
    "import sys\n",
    "import time\n",
    "from collections import defaultdict\n",
    "from timeit import default_timer as timer\n",
    "\n",
    "import numpy as np\n",
    "from sklearn.compose import ColumnTransformer\n",
    "from sklearn.datasets import fetch_openml\n",
    "from sklearn.linear_model import GammaRegressor as SklearnGammaRegressor\n",
    "from sklearn.linear_model import PoissonRegressor as SklearnPoissonRegressor\n",
    "from sklearn.linear_model import TweedieRegressor as SklearnTweedieRegressor\n",
    "from sklearn.metrics import mean_gamma_deviance, mean_poisson_deviance, mean_tweedie_deviance\n",
    "from sklearn.model_selection import train_test_split\n",
    "from sklearn.pipeline import make_pipeline\n",
    "from sklearn.preprocessing import (\n",
    "    FunctionTransformer,\n",
    "    KBinsDiscretizer,\n",
    "    OneHotEncoder,\n",
    "    StandardScaler,\n",
    ")\n",
    "\n",
    "from concrete.ml.sklearn import GammaRegressor as ConcreteGammaRegressor\n",
    "from concrete.ml.sklearn import PoissonRegressor as ConcretePoissonRegressor\n",
    "from concrete.ml.sklearn import TweedieRegressor as ConcreteTweedieRegressor"
   ]
  },
  {
   "cell_type": "code",
   "execution_count": 2,
   "metadata": {},
   "outputs": [],
   "source": [
    "%matplotlib inline\n",
    "\n",
    "import matplotlib.pyplot as plt\n",
    "from IPython.display import display"
   ]
  },
  {
   "cell_type": "markdown",
   "metadata": {},
   "source": [
    "### Fetching and cleaning the data\n",
    "\n",
    "First, we download the data. It is composed of two data-sets that will be joined together:\n",
    "- the original one containing most risks features for 677,991 policies, each identified by an unique ID\n",
    "- an additional one only containing amounts claimed for some of those policies, matching the same IDs\n",
    "\n",
    "Since the regressors are not meant to be used for similar target values distributions, the second data-set will mainly be used for the Gamma regression model."
   ]
  },
  {
   "cell_type": "code",
   "execution_count": 3,
   "metadata": {},
   "outputs": [],
   "source": [
    "# Getting the original data-set containing the risk features\n",
    "# Link: https://www.openml.org/d/41214\n",
    "risks_data, _ = fetch_openml(\n",
    "    data_id=41214, as_frame=True, cache=True, data_home=\"~/.cache/sklearn\", return_X_y=True\n",
    ")\n",
    "\n",
    "# Getting the data set containing claims amount\n",
    "# Link: https://www.openml.org/d/41215\n",
    "claims_data, _ = fetch_openml(\n",
    "    data_id=41215, as_frame=True, cache=True, data_home=\"~/.cache/sklearn\", return_X_y=True\n",
    ")"
   ]
  },
  {
   "cell_type": "markdown",
   "metadata": {},
   "source": [
    "Then, some transformation needs to be made over that downloaded data. They include:\n",
    "- making proper changes so that merging the data-sets is possible\n",
    "- only keeping part of the data-set for faster computations\n",
    "- filtering unknown and null values for claim amounts\n",
    "- removing outliers\n",
    "\n",
    "Those steps are very useful for making the model better fit the data."
   ]
  },
  {
   "cell_type": "code",
   "execution_count": 4,
   "metadata": {},
   "outputs": [],
   "source": [
    "# Set IDpol as index\n",
    "risks_data[\"IDpol\"] = risks_data[\"IDpol\"].astype(int)\n",
    "risks_data.set_index(\"IDpol\", inplace=True)\n",
    "\n",
    "# Grouping claims mounts together if they are associated with the same policy\n",
    "claims_data = claims_data.groupby(\"IDpol\").sum()\n",
    "\n",
    "# Merging the two sets over policy IDs\n",
    "data = risks_data.join(claims_data, how=\"left\")\n",
    "\n",
    "# Only keeping the first 100 000 for faster running time\n",
    "data = data.head(100000)\n",
    "\n",
    "# Filtering out unknown claim amounts\n",
    "data[\"ClaimAmount\"].fillna(0, inplace=True)\n",
    "\n",
    "# Filtering out claims with zero amount, as the severity (gamma) model\n",
    "# requires strictly positive target values\n",
    "data.loc[(data[\"ClaimAmount\"] == 0) & (data[\"ClaimNb\"] >= 1), \"ClaimNb\"] = 0\n",
    "\n",
    "# Removing unreasonable outliers\n",
    "data[\"ClaimNb\"] = data[\"ClaimNb\"].clip(upper=4)\n",
    "data[\"Exposure\"] = data[\"Exposure\"].clip(upper=1)\n",
    "data[\"ClaimAmount\"] = data[\"ClaimAmount\"].clip(upper=200000)"
   ]
  },
  {
   "cell_type": "markdown",
   "metadata": {},
   "source": [
    "### Transforming the data\n",
    "\n",
    "We now proceed by transforming the raw features into ones that can be given to a regression model. Thus, the categorical features are transformed using one-hot encoding while the resolution of vehicle and person ages is reduced using binning. Transforming the data this way, we end up with a total of 74 continuous features instead of the initial 12 ones."
   ]
  },
  {
   "cell_type": "code",
   "execution_count": 5,
   "metadata": {},
   "outputs": [],
   "source": [
    "log_scale_transformer = make_pipeline(FunctionTransformer(np.log, validate=False), StandardScaler())\n",
    "\n",
    "linear_model_preprocessor = ColumnTransformer(\n",
    "    [\n",
    "        (\"passthrough_numeric\", \"passthrough\", [\"BonusMalus\"]),\n",
    "        (\"binned_numeric\", KBinsDiscretizer(n_bins=10), [\"VehAge\", \"DrivAge\"]),\n",
    "        (\"log_scaled_numeric\", log_scale_transformer, [\"Density\"]),\n",
    "        (\n",
    "            \"onehot_categorical\",\n",
    "            OneHotEncoder(sparse=False),\n",
    "            [\"VehBrand\", \"VehPower\", \"VehGas\", \"Region\", \"Area\"],\n",
    "        ),\n",
    "    ],\n",
    "    remainder=\"drop\",\n",
    ")\n",
    "\n",
    "x = linear_model_preprocessor.fit_transform(data)"
   ]
  },
  {
   "cell_type": "markdown",
   "metadata": {},
   "source": [
    "### Creating the target values\n",
    "\n",
    "Each GLM regressors expect different kind of distributions for the target values:\n",
    "- **Poisson** is a discrete model that expects target values to be non-negative and to follow a Poisson distribution. It can be used for modelling counts or relative frequencies (if scaled). This model is equivalent to a Tweedie model with power set to 1.\n",
    "- **Gamma** is a continuous model that expects target values to be (strictly) positive and to follow a Gamma distribution. It is often useful when values are skewed. This model is equivalent to a Tweedie model with power set to 2.\n",
    "- **Tweedie** is a continuous model that expects target values to follow a Tweedie distribution of fixed *power*. Depending on its *power* value, target values should either be non-negative or (strictly) positive. It can be useful for heavier tailed distribution when *power* is set to 3.\n",
    "\n",
    "We therefore create target values so that they each follow the desired distributions:"
   ]
  },
  {
   "cell_type": "code",
   "execution_count": 6,
   "metadata": {},
   "outputs": [],
   "source": [
    "# Creating target values for Poisson\n",
    "data[\"Frequency\"] = data[\"ClaimNb\"] / data[\"Exposure\"]\n",
    "\n",
    "# Creating target values for Gamma\n",
    "data[\"AvgClaimAmount\"] = data[\"ClaimAmount\"] / np.fmax(data[\"ClaimNb\"], 1)\n",
    "\n",
    "# Creating target values for Tweedie\n",
    "# Insurances companies are interested in modeling the Pure Premium, that is the expected total\n",
    "# claim amount per unit of exposure for each policyholder in their portfolio\n",
    "data[\"PurePremium\"] = data[\"ClaimAmount\"] / data[\"Exposure\"]"
   ]
  },
  {
   "cell_type": "markdown",
   "metadata": {},
   "source": [
    "We can then plot their histograms on a log scale and confirm that they each approximately follow the desired distributions: an exponential distribution, with more skewed values for the AvgClaimAmount variable as well as a heavy tail for the PurePremium one:"
   ]
  },
  {
   "cell_type": "code",
   "execution_count": 7,
   "metadata": {},
   "outputs": [
    {
     "data": {
      "image/png": "[encoded data removed]",
      "text/plain": [
       "<Figure size 1500x700 with 3 Axes>"
      ]
     },
     "metadata": {},
     "output_type": "display_data"
    }
   ],
   "source": [
    "plt.ioff()\n",
    "fig, ax = plt.subplots(1, 3, figsize=(15, 7))\n",
    "\n",
    "# Set the figure's main parameters\n",
    "fig.patch.set_facecolor(\"white\")\n",
    "fig.suptitle(\"Different target values distribution\")\n",
    "fig.supylabel(\"Count\")\n",
    "\n",
    "# Frequency of claims distribution\n",
    "ax[0].set_title(\"Poisson\")\n",
    "ax[0].set_xlabel(\"Frequency of claims\")\n",
    "data[\"Frequency\"].hist(bins=30, log=True, ax=ax[0], color=\"black\")\n",
    "\n",
    "# Average amount of claims distribution\n",
    "ax[1].set_title(\"Gamma\")\n",
    "ax[1].set_xlabel(\"Average amount of claims\")\n",
    "data[\"AvgClaimAmount\"].hist(bins=30, log=True, ax=ax[1], color=\"blue\")\n",
    "\n",
    "# PurePrenium distribution\n",
    "ax[2].set_title(\"Tweedie\")\n",
    "ax[2].set_xlabel(\"PurePrenium\")\n",
    "data[\"PurePremium\"].hist(bins=30, log=True, ax=ax[2], color=\"red\")\n",
    "\n",
    "display(fig)"
   ]
  },
  {
   "cell_type": "markdown",
   "metadata": {},
   "source": [
    "### Splitting the data\n",
    "\n",
    "We then split the data into a training and test set. The test set is then reduced for faster FHE runs."
   ]
  },
  {
   "cell_type": "code",
   "execution_count": 8,
   "metadata": {},
   "outputs": [],
   "source": [
    "train_data, test_data, x_train_data, x_test_data = train_test_split(\n",
    "    data,\n",
    "    x,\n",
    "    test_size=0.2,\n",
    "    random_state=0,\n",
    ")\n",
    "_, test_data, _, x_test_data = train_test_split(\n",
    "    test_data,\n",
    "    x_test_data,\n",
    "    test_size=50,\n",
    "    random_state=0,\n",
    ")"
   ]
  },
  {
   "cell_type": "markdown",
   "metadata": {},
   "source": [
    "### Setting the right parameters\n",
    "\n",
    "Each regressors do neither share exactly the same parameers nor are trained over the same data (for example, Gamma only considers strictly positive target values):"
   ]
  },
  {
   "cell_type": "code",
   "execution_count": 9,
   "metadata": {},
   "outputs": [],
   "source": [
    "gamma_mask_train = train_data[\"ClaimAmount\"] > 0\n",
    "gamma_mask_test = test_data[\"ClaimAmount\"] > 0\n",
    "\n",
    "\n",
    "parameters_glms = {\n",
    "    \"Poisson\": {\n",
    "        \"sklearn\": SklearnPoissonRegressor,\n",
    "        \"concrete\": ConcretePoissonRegressor,\n",
    "        \"init_parameters\": {\n",
    "            \"alpha\": 1e-3,\n",
    "            \"max_iter\": 400,\n",
    "        },\n",
    "        \"fit_parameters\": {\n",
    "            \"X\": x_train_data,\n",
    "            \"y\": train_data[\"Frequency\"],\n",
    "            \"sample_weight\": train_data[\"Exposure\"],\n",
    "        },\n",
    "        \"x_test\": x_test_data,\n",
    "        \"score_parameters\": {\n",
    "            \"y_true\": test_data[\"Frequency\"],\n",
    "            \"sample_weight\": test_data[\"Exposure\"],\n",
    "        },\n",
    "        \"deviance\": mean_poisson_deviance,\n",
    "    },\n",
    "    \"Gamma\": {\n",
    "        \"sklearn\": SklearnGammaRegressor,\n",
    "        \"concrete\": ConcreteGammaRegressor,\n",
    "        \"init_parameters\": {\n",
    "            \"alpha\": 10.0,\n",
    "            \"max_iter\": 300,\n",
    "        },\n",
    "        \"fit_parameters\": {\n",
    "            \"X\": x_train_data[gamma_mask_train],\n",
    "            \"y\": train_data[gamma_mask_train][\"AvgClaimAmount\"],\n",
    "            \"sample_weight\": train_data[gamma_mask_train][\"ClaimNb\"],\n",
    "        },\n",
    "        \"x_test\": x_test_data[gamma_mask_test],\n",
    "        \"score_parameters\": {\n",
    "            \"y_true\": test_data[gamma_mask_test][\"AvgClaimAmount\"],\n",
    "            \"sample_weight\": test_data[gamma_mask_test][\"ClaimNb\"],\n",
    "        },\n",
    "        \"deviance\": mean_gamma_deviance,\n",
    "    },\n",
    "    \"Tweedie\": {\n",
    "        \"sklearn\": SklearnTweedieRegressor,\n",
    "        \"concrete\": ConcreteTweedieRegressor,\n",
    "        \"init_parameters\": {\n",
    "            \"power\": 1.9,\n",
    "            \"alpha\": 0.1,\n",
    "            \"max_iter\": 10000,\n",
    "        },\n",
    "        \"fit_parameters\": {\n",
    "            \"X\": x_train_data,\n",
    "            \"y\": train_data[\"PurePremium\"],\n",
    "            \"sample_weight\": train_data[\"Exposure\"],\n",
    "        },\n",
    "        \"x_test\": x_test_data,\n",
    "        \"score_parameters\": {\n",
    "            \"y_true\": test_data[\"PurePremium\"],\n",
    "            \"sample_weight\": test_data[\"Exposure\"],\n",
    "            \"power\": 1.9,\n",
    "        },\n",
    "        \"deviance\": mean_tweedie_deviance,\n",
    "    },\n",
    "}"
   ]
  },
  {
   "cell_type": "markdown",
   "metadata": {},
   "source": [
    "### Comparing the models\n",
    "\n",
    "The following function iterates over the three GLM regressors and outputs scores from both the sklearn and concrete models for each regressors. Basically, it:\n",
    "- instantiates both models\n",
    "- fits both models\n",
    "- compiles the Concrete ML model if it needs to be executed in FHE\n",
    "- computes the predictions for both models\n",
    "- computes the scores for both models using the proper deviance function\n",
    "\n",
    "The score used here is the mean deviance score. It indicates the goodness-of-fit of a model and is widely used for evaluating the performances of a GLM. The lower the score, the better !"
   ]
  },
  {
   "cell_type": "code",
   "execution_count": 10,
   "metadata": {},
   "outputs": [],
   "source": [
    "def compare_regressors(n_bits, fhe=\"simulate\"):\n",
    "    # pylint: disable=too-many-locals\n",
    "    scores = defaultdict(list)\n",
    "    predictions = defaultdict(list)\n",
    "\n",
    "    for glm, parameters_glm in parameters_glms.items():\n",
    "        # Retrieve the regressors\n",
    "        sklearn_class = parameters_glm[\"sklearn\"]\n",
    "        concrete_class = parameters_glm[\"concrete\"]\n",
    "\n",
    "        # Instantiate the models\n",
    "        init_parameters = parameters_glm[\"init_parameters\"]\n",
    "        sklearn_glm = sklearn_class(**init_parameters)\n",
    "        concrete_glm = concrete_class(n_bits=n_bits, **init_parameters)\n",
    "\n",
    "        # Fit the models\n",
    "        fit_parameters = parameters_glm[\"fit_parameters\"]\n",
    "        sklearn_glm.fit(**fit_parameters)\n",
    "        concrete_glm.fit(**fit_parameters)\n",
    "\n",
    "        x_train_subset = fit_parameters[\"X\"][:100]\n",
    "        # Compile the Concrete ML model if it needs to be executed in FHE\n",
    "        if fhe in [\"execute\", \"simulate\"]:\n",
    "            circuit = concrete_glm.compile(x_train_subset)\n",
    "\n",
    "            # Generate the key\n",
    "            print(\n",
    "                \"Generating a key for an \"\n",
    "                f\"{circuit.graph.maximum_integer_bit_width()}-bit circuit\"\n",
    "            )\n",
    "            sys.stdout.flush()\n",
    "\n",
    "            time_begin = time.time()\n",
    "            circuit.client.keygen(force=False)\n",
    "            print(f\"Key generation time: {time.time() - time_begin:.4f} seconds\")\n",
    "\n",
    "        # Compute the predictions using sklearn (floating points, in the clear)\n",
    "        x_test = parameters_glm[\"x_test\"]\n",
    "        sklearn_predictions = sklearn_glm.predict(x_test)\n",
    "\n",
    "        # Compute the predictions using Concrete ML (quantized, in the clear)\n",
    "        concrete_q_predictions = concrete_glm.predict(x_test)\n",
    "\n",
    "        # Compute the predictions using Concrete ML (in FHE)\n",
    "        start = timer()\n",
    "        concrete_predictions = concrete_glm.predict(\n",
    "            x_test,\n",
    "            fhe=fhe,\n",
    "        )\n",
    "        end = timer()\n",
    "        run_time = end - start\n",
    "\n",
    "        # Compute the deviance scores\n",
    "        mean_deviance = parameters_glm[\"deviance\"]\n",
    "        score_parameters = parameters_glm[\"score_parameters\"]\n",
    "        sklearn_score = mean_deviance(y_pred=sklearn_predictions, **score_parameters)\n",
    "        concrete_q_score = mean_deviance(y_pred=concrete_q_predictions, **score_parameters)\n",
    "        concrete_score = mean_deviance(y_pred=concrete_predictions, **score_parameters)\n",
    "\n",
    "        # Print the deviance scores\n",
    "        fhe_message = \"in FHE\" if fhe == \"execute\" else \"in clear\"\n",
    "        print(f\"Mean {glm} deviance (scikit-learn): {sklearn_score:.4f}\")\n",
    "        print(f\"Mean {glm} deviance (Concrete ML, quantized): {concrete_q_score:.4f}\")\n",
    "        print(\n",
    "            f\"Mean {glm} deviance (Concrete ML {fhe_message}, \"\n",
    "            f\"with {run_time / len(x_test):.4f} seconds \"\n",
    "            f\"per inference): {concrete_score:.4f}\"\n",
    "        )\n",
    "\n",
    "        # Measure the error of the FHE quantized model with respect to the clear scikit-learn\n",
    "        # float model\n",
    "        score_difference = abs(concrete_score - sklearn_score) * 100 / sklearn_score\n",
    "        print(\n",
    "            \"Relative difference between scikit-learn (clear) and Concrete-ml (FHE) scores:\",\n",
    "            f\"{score_difference:.2f}%\\n\",\n",
    "        )\n",
    "\n",
    "        # Store the results\n",
    "        scores[\"sklearn\"].append(sklearn_score)\n",
    "        scores[\"concrete\"].append(concrete_score)\n",
    "        predictions[\"sklearn\"].append(sklearn_predictions)\n",
    "        predictions[\"concrete\"].append(concrete_predictions)\n",
    "\n",
    "    return scores, predictions"
   ]
  },
  {
   "cell_type": "markdown",
   "metadata": {},
   "source": [
    "As for all linear models available in Concrete ML, a user has to set the `n_bits` parameter for \n",
    "initialization. This parameter can either be:\n",
    "- a dictionary composed of `op_inputs` and `op_weights` keys. These parameters are given as \n",
    "    integers representing the number of bits over which the associated data should be quantized.\n",
    "\n",
    "- an integer, representing the number of bits over which each input and weight should be quantized.\n",
    "    Default is 8.\n",
    "\n",
    "Additionally, Concrete ML lets the users chose whether the model should be ran in clear or FHE using the `fhe` parameter. Setting it to \"disable\" will run the model on unencrypted data using the same quantization process."
   ]
  },
  {
   "cell_type": "code",
   "execution_count": 11,
   "metadata": {},
   "outputs": [
    {
     "name": "stdout",
     "output_type": "stream",
     "text": [
      "Generating a key for an 25-bit circuit\n"
     ]
    },
    {
     "name": "stdout",
     "output_type": "stream",
     "text": [
      "Key generation time: 0.0002 seconds\n"
     ]
    },
    {
     "name": "stdout",
     "output_type": "stream",
     "text": [
      "Mean Poisson deviance (scikit-learn): 1.1568\n",
      "Mean Poisson deviance (Concrete ML, quantized): 1.1589\n",
      "Mean Poisson deviance (Concrete ML in FHE, with 0.0072 seconds per inference): 1.1589\n",
      "Relative difference between scikit-learn (clear) and Concrete-ml (FHE) scores: 0.19%\n",
      "\n"
     ]
    },
    {
     "name": "stdout",
     "output_type": "stream",
     "text": [
      "Generating a key for an 24-bit circuit\n"
     ]
    },
    {
     "name": "stdout",
     "output_type": "stream",
     "text": [
      "Key generation time: 0.0001 seconds\n",
      "Mean Gamma deviance (scikit-learn): 0.3179\n",
      "Mean Gamma deviance (Concrete ML, quantized): 0.3180\n",
      "Mean Gamma deviance (Concrete ML in FHE, with 0.0075 seconds per inference): 0.3180\n",
      "Relative difference between scikit-learn (clear) and Concrete-ml (FHE) scores: 0.03%\n",
      "\n"
     ]
    },
    {
     "name": "stdout",
     "output_type": "stream",
     "text": [
      "Generating a key for an 25-bit circuit\n"
     ]
    },
    {
     "name": "stdout",
     "output_type": "stream",
     "text": [
      "Key generation time: 0.0002 seconds\n"
     ]
    },
    {
     "name": "stdout",
     "output_type": "stream",
     "text": [
      "Mean Tweedie deviance (scikit-learn): 37.6493\n",
      "Mean Tweedie deviance (Concrete ML, quantized): 37.7585\n",
      "Mean Tweedie deviance (Concrete ML in FHE, with 0.0073 seconds per inference): 37.7585\n",
      "Relative difference between scikit-learn (clear) and Concrete-ml (FHE) scores: 0.29%\n",
      "\n"
     ]
    }
   ],
   "source": [
    "n_bits = 11\n",
    "fhe = \"execute\"\n",
    "\n",
    "scores, predictions = compare_regressors(n_bits, fhe=fhe)"
   ]
  },
  {
   "attachments": {},
   "cell_type": "markdown",
   "metadata": {},
   "source": [
    "### Analysis\n",
    "We can observe that scikit-learn and Concrete ML models output have very close mean deviance scores. This demonstrate how the quantization process has a very limited impact on performances. "
   ]
  },
  {
   "cell_type": "markdown",
   "metadata": {},
   "source": [
    "### Conclusion\n",
    "\n",
    "This notebook was greatly inspired by [this notebook](https://scikit-learn.org/stable/auto_examples/linear_model/plot_tweedie_regression_insurance_claims.html) from scikit-learn which showed how to use three Generalized Linear Model (GLM) regressors they implemented (Poisson, Gamma and Tweedie) in a real regression problem.\n",
    "\n",
    "We then modified some of its content in order to demonstrate how running these models in Fully Homomorphic Encryption (FHE) can be very similar to the sklearn workflow using the Concrete ML framework. \n",
    "\n",
    "Finally, comparing the mean deviance scores from both models over each regressors revealed how quantization has a negligible impact on their performances, thus making Concrete ML's models reach almost identical results with respect to their equivalent scikit-learn ones."
   ]
  }
 ],
 "metadata": {
  "execution": {
   "timeout": 10800
  }
 },
 "nbformat": 4,
 "nbformat_minor": 2
}
