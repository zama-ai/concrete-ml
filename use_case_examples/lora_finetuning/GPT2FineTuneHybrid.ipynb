{
 "cells": [
  {
   "cell_type": "markdown",
   "id": "dfccd8e6",
   "metadata": {},
   "source": [
    "# Fine-Tuning GPT-2 on Encrypted Data with LoRA and Concrete ML\n",
    "\n",
    "In this notebook, we perform fine-tuning of a GPT-2 model using LoRA and Concrete ML."
   ]
  },
  {
   "cell_type": "code",
   "execution_count": 1,
   "id": "eca73e44",
   "metadata": {},
   "outputs": [
    {
     "data": {
      "text/plain": [
       "<torch._C.Generator at 0x7f3c5c7145d0>"
      ]
     },
     "execution_count": 1,
     "metadata": {},
     "output_type": "execute_result"
    }
   ],
   "source": [
    "# Import necessary libraries\n",
    "import math\n",
    "import shutil\n",
    "from pathlib import Path\n",
    "\n",
    "import matplotlib.pyplot as plt\n",
    "import torch\n",
    "from datasets import Dataset\n",
    "from peft import LoraConfig, get_peft_model\n",
    "from tqdm import tqdm\n",
    "from transformers import AutoModelForCausalLM, AutoTokenizer, Trainer, TrainingArguments\n",
    "from utils_lora import generate_and_print, print_weights_and_size\n",
    "\n",
    "from concrete.ml.torch.hybrid_model import HybridFHEModel\n",
    "from concrete.ml.torch.lora import LoraTraining, get_remote_names\n",
    "\n",
    "# Set random seed for reproducibility\n",
    "SEED = 0\n",
    "torch.manual_seed(SEED)"
   ]
  },
  {
   "cell_type": "code",
   "execution_count": 2,
   "id": "8b965a1a",
   "metadata": {},
   "outputs": [
    {
     "data": {
      "application/vnd.jupyter.widget-view+json": {
       "model_id": "94f22e4cc0df4edb8b3cf515f08392c3",
       "version_major": 2,
       "version_minor": 0
      },
      "text/plain": [
       "tokenizer_config.json:   0%|          | 0.00/26.0 [00:00<?, ?B/s]"
      ]
     },
     "metadata": {},
     "output_type": "display_data"
    },
    {
     "data": {
      "application/vnd.jupyter.widget-view+json": {
       "model_id": "814f62f9fb7248cab0740c0f386787a5",
       "version_major": 2,
       "version_minor": 0
      },
      "text/plain": [
       "config.json:   0%|          | 0.00/665 [00:00<?, ?B/s]"
      ]
     },
     "metadata": {},
     "output_type": "display_data"
    },
    {
     "data": {
      "application/vnd.jupyter.widget-view+json": {
       "model_id": "6cc8a8a3b8044d4f877113a5b5a76056",
       "version_major": 2,
       "version_minor": 0
      },
      "text/plain": [
       "vocab.json:   0%|          | 0.00/1.04M [00:00<?, ?B/s]"
      ]
     },
     "metadata": {},
     "output_type": "display_data"
    },
    {
     "data": {
      "application/vnd.jupyter.widget-view+json": {
       "model_id": "5d1335e0c14749cebe9638a4c0dc1805",
       "version_major": 2,
       "version_minor": 0
      },
      "text/plain": [
       "merges.txt:   0%|          | 0.00/456k [00:00<?, ?B/s]"
      ]
     },
     "metadata": {},
     "output_type": "display_data"
    },
    {
     "data": {
      "application/vnd.jupyter.widget-view+json": {
       "model_id": "ae5b36d386494a4382d50bba6a92d0a5",
       "version_major": 2,
       "version_minor": 0
      },
      "text/plain": [
       "tokenizer.json:   0%|          | 0.00/1.36M [00:00<?, ?B/s]"
      ]
     },
     "metadata": {},
     "output_type": "display_data"
    },
    {
     "data": {
      "application/vnd.jupyter.widget-view+json": {
       "model_id": "33592167f9df46198151efee6c2c8217",
       "version_major": 2,
       "version_minor": 0
      },
      "text/plain": [
       "model.safetensors:   0%|          | 0.00/548M [00:00<?, ?B/s]"
      ]
     },
     "metadata": {},
     "output_type": "display_data"
    },
    {
     "data": {
      "application/vnd.jupyter.widget-view+json": {
       "model_id": "94d89a8d82b44a1786ec4f64835472f5",
       "version_major": 2,
       "version_minor": 0
      },
      "text/plain": [
       "generation_config.json:   0%|          | 0.00/124 [00:00<?, ?B/s]"
      ]
     },
     "metadata": {},
     "output_type": "display_data"
    }
   ],
   "source": [
    "# Load pre-trained GPT-2 model and tokenizer\n",
    "model_name = \"gpt2\"\n",
    "tokenizer = AutoTokenizer.from_pretrained(model_name)\n",
    "model = AutoModelForCausalLM.from_pretrained(model_name)\n",
    "\n",
    "# Ensure tokenizer has a pad token\n",
    "if tokenizer.pad_token is None:\n",
    "    tokenizer.pad_token = tokenizer.eos_token\n",
    "model.config.pad_token_id = model.config.eos_token_id\n",
    "\n",
    "# Freeze model weights\n",
    "for param in model.parameters():\n",
    "    param.requires_grad = False"
   ]
  },
  {
   "cell_type": "code",
   "execution_count": 3,
   "id": "2337a6b4",
   "metadata": {},
   "outputs": [
    {
     "name": "stdout",
     "output_type": "stream",
     "text": [
      "What is FHE? FHE is a new type of energy storage that is designed to be used in a variety of applications. It is used to store energy in\n"
     ]
    }
   ],
   "source": [
    "generate_and_print(\n",
    "    prompt=\"What is FHE?\",\n",
    "    model=model,\n",
    "    tokenizer=tokenizer,\n",
    "    seed=SEED,\n",
    ")"
   ]
  },
  {
   "cell_type": "code",
   "execution_count": 4,
   "id": "20564b59",
   "metadata": {},
   "outputs": [],
   "source": [
    "# Apply LoRA to the model\n",
    "# target_modules can be set to \"all-linear\"\n",
    "# to target all modules. By default only the\n",
    "# c_attn projection are fine-tuned with lora.\n",
    "peft_config = LoraConfig(\n",
    "    r=8,\n",
    "    lora_alpha=32,\n",
    "    lora_dropout=0.1,\n",
    "    bias=\"none\",\n",
    "    task_type=\"CAUSAL_LM\",\n",
    ")\n",
    "peft_model = get_peft_model(model, peft_config)"
   ]
  },
  {
   "cell_type": "code",
   "execution_count": 5,
   "id": "5ac49f9d",
   "metadata": {},
   "outputs": [
    {
     "name": "stdout",
     "output_type": "stream",
     "text": [
      "LoRA layers detected in the model.\n"
     ]
    }
   ],
   "source": [
    "# Set up LoRA training\n",
    "lora_training = LoraTraining(peft_model)"
   ]
  },
  {
   "cell_type": "code",
   "execution_count": 6,
   "id": "d10d71e8",
   "metadata": {},
   "outputs": [
    {
     "data": {
      "application/vnd.jupyter.widget-view+json": {
       "model_id": "a4f65111d05b41cfbcda37585bfe8cda",
       "version_major": 2,
       "version_minor": 0
      },
      "text/plain": [
       "Map:   0%|          | 0/34 [00:00<?, ? examples/s]"
      ]
     },
     "metadata": {},
     "output_type": "display_data"
    }
   ],
   "source": [
    "# Prepare dataset for fine-tuning\n",
    "BLOCK_SIZE = 128\n",
    "\n",
    "# Read lines from the file\n",
    "with open(\"data_finetune/what_is_fhe.txt\", \"r\", encoding=\"utf-8\") as f:\n",
    "    lines = f.readlines()\n",
    "\n",
    "# Remove empty lines and strip whitespace\n",
    "lines = [line.strip() for line in lines if line.strip()]\n",
    "\n",
    "# Group lines into question-answer pairs\n",
    "examples = []\n",
    "for i in range(0, len(lines) - 1, 2):\n",
    "    question = lines[i]\n",
    "    answer = lines[i + 1]\n",
    "    examples.append({\"question\": question, \"answer\": answer})\n",
    "\n",
    "# Create a Dataset object from the list of examples\n",
    "dataset = Dataset.from_list(examples)\n",
    "\n",
    "\n",
    "# Tokenization function\n",
    "def tokenize_function(examples):\n",
    "    input_ids_list = []\n",
    "    labels_list = []\n",
    "    attention_masks_list = []\n",
    "    for question, answer in zip(examples[\"question\"], examples[\"answer\"]):\n",
    "        # Tokenize question and answer separately\n",
    "        question_encoding = tokenizer(\n",
    "            question, add_special_tokens=False, truncation=True, max_length=BLOCK_SIZE // 2\n",
    "        )\n",
    "        answer_encoding = tokenizer(\n",
    "            answer, add_special_tokens=False, truncation=True, max_length=BLOCK_SIZE // 2 - 1\n",
    "        )\n",
    "\n",
    "        # Build input_ids\n",
    "        input_ids = (\n",
    "            question_encoding[\"input_ids\"]\n",
    "            + [tokenizer.eos_token_id]\n",
    "            + answer_encoding[\"input_ids\"]\n",
    "            + [tokenizer.eos_token_id]\n",
    "        )\n",
    "\n",
    "        # Build labels: -100 for question tokens and eos token after question\n",
    "        labels = (\n",
    "            [-100] * len(question_encoding[\"input_ids\"])\n",
    "            + [-100]  # For the eos token after question\n",
    "            + answer_encoding[\"input_ids\"]\n",
    "            + [tokenizer.eos_token_id]\n",
    "        )\n",
    "\n",
    "        # Create attention mask: 1 for real tokens, 0 for padding\n",
    "        attention_mask = [1] * len(input_ids)\n",
    "\n",
    "        # Pad/truncate to BLOCK_SIZE\n",
    "        padding_length = BLOCK_SIZE - len(input_ids)\n",
    "        if padding_length > 0:\n",
    "            input_ids += [tokenizer.pad_token_id] * padding_length\n",
    "            labels += [-100] * padding_length\n",
    "            attention_mask += [0] * padding_length\n",
    "        else:\n",
    "            input_ids = input_ids[:BLOCK_SIZE]\n",
    "            labels = labels[:BLOCK_SIZE]\n",
    "            attention_mask = attention_mask[:BLOCK_SIZE]\n",
    "\n",
    "        input_ids_list.append(input_ids)\n",
    "        labels_list.append(labels)\n",
    "        attention_masks_list.append(attention_mask)\n",
    "\n",
    "    return {\n",
    "        \"input_ids\": input_ids_list,\n",
    "        \"labels\": labels_list,\n",
    "        \"attention_mask\": attention_masks_list,\n",
    "    }\n",
    "\n",
    "\n",
    "# Apply the tokenization\n",
    "tokenized_datasets = dataset.map(\n",
    "    tokenize_function, batched=True, remove_columns=[\"question\", \"answer\"]\n",
    ")\n",
    "\n",
    "# Since we've already handled padding and labels, we can use a custom data collator\n",
    "\n",
    "\n",
    "def data_collator(features):\n",
    "    batch = {}\n",
    "    batch[\"input_ids\"] = torch.tensor([f[\"input_ids\"] for f in features], dtype=torch.long)\n",
    "    batch[\"labels\"] = torch.tensor([f[\"labels\"] for f in features], dtype=torch.long)\n",
    "    batch[\"attention_mask\"] = torch.tensor(\n",
    "        [f[\"attention_mask\"] for f in features], dtype=torch.long\n",
    "    )\n",
    "    return batch"
   ]
  },
  {
   "cell_type": "code",
   "execution_count": 7,
   "id": "8a01acd1",
   "metadata": {},
   "outputs": [],
   "source": [
    "# Define training arguments\n",
    "EPOCHS = 20\n",
    "PER_DEVICE_TRAIN_BATCH_SIZE = 4\n",
    "\n",
    "training_args = TrainingArguments(\n",
    "    output_dir=\"./checkpoints\",\n",
    "    num_train_epochs=EPOCHS,\n",
    "    per_device_train_batch_size=PER_DEVICE_TRAIN_BATCH_SIZE,\n",
    "    gradient_accumulation_steps=1,\n",
    "    save_total_limit=1,\n",
    "    use_cpu=True,\n",
    "    learning_rate=2e-3,\n",
    "    lr_scheduler_type=\"linear\",\n",
    "    seed=SEED,\n",
    "    data_seed=SEED,\n",
    "    warmup_steps=10,\n",
    "    weight_decay=0.01,\n",
    "    prediction_loss_only=True,\n",
    ")\n",
    "\n",
    "\n",
    "def causal_lm_loss(logits, labels, ignore_index=-100):\n",
    "    # Shift logits and labels for next-token prediction\n",
    "    shift_logits = logits[..., :-1, :].contiguous()\n",
    "    shift_labels = labels[..., 1:].contiguous()\n",
    "\n",
    "    # Flatten the tensors\n",
    "    shift_logits = shift_logits.view(-1, shift_logits.size(-1))\n",
    "    shift_labels = shift_labels.view(-1)\n",
    "\n",
    "    # Compute the loss, ignoring padding tokens\n",
    "    loss = torch.nn.functional.cross_entropy(\n",
    "        shift_logits, shift_labels, ignore_index=ignore_index, reduction=\"mean\"\n",
    "    )\n",
    "\n",
    "    return loss"
   ]
  },
  {
   "cell_type": "code",
   "execution_count": 8,
   "id": "3c8864b2",
   "metadata": {},
   "outputs": [],
   "source": [
    "# Initialize Trainer\n",
    "trainer = Trainer(\n",
    "    model=peft_model,\n",
    "    args=training_args,\n",
    "    train_dataset=tokenized_datasets,\n",
    "    data_collator=data_collator,\n",
    ")\n",
    "\n",
    "# Prepare for training\n",
    "train_dataloader = trainer.get_train_dataloader()\n",
    "\n",
    "len_dataloader = len(train_dataloader)\n",
    "num_update_steps_per_epoch = len_dataloader // training_args.gradient_accumulation_steps\n",
    "num_update_steps_per_epoch = max(num_update_steps_per_epoch, 1)\n",
    "max_steps = math.ceil(training_args.num_train_epochs * num_update_steps_per_epoch)\n",
    "\n",
    "trainer.create_optimizer_and_scheduler(num_training_steps=max_steps)\n",
    "\n",
    "lr_scheduler = trainer.lr_scheduler\n",
    "optimizer = trainer.optimizer"
   ]
  },
  {
   "cell_type": "code",
   "execution_count": 9,
   "id": "ae2094a4",
   "metadata": {},
   "outputs": [],
   "source": [
    "# Get the names of the remote modules (layers to be converted to FHE)\n",
    "remote_names = get_remote_names(lora_training, include_embedding_layers=False)"
   ]
  },
  {
   "cell_type": "code",
   "execution_count": 10,
   "id": "a21298ee",
   "metadata": {},
   "outputs": [],
   "source": [
    "# Create the HybridFHEModel with the specified remote modules\n",
    "hybrid_model = HybridFHEModel(lora_training, module_names=remote_names)"
   ]
  },
  {
   "cell_type": "code",
   "execution_count": 11,
   "id": "56ec41b8",
   "metadata": {},
   "outputs": [],
   "source": [
    "# Prepare input data for calibration\n",
    "input_tensor = torch.randint(\n",
    "    0, tokenizer.vocab_size, (PER_DEVICE_TRAIN_BATCH_SIZE, BLOCK_SIZE), dtype=torch.long\n",
    ")\n",
    "label_tensor = torch.randint(\n",
    "    0, tokenizer.vocab_size, (PER_DEVICE_TRAIN_BATCH_SIZE, BLOCK_SIZE), dtype=torch.long\n",
    ")\n",
    "attention_mask = torch.ones((PER_DEVICE_TRAIN_BATCH_SIZE, BLOCK_SIZE), dtype=torch.long)\n",
    "\n",
    "inputset = {\"input_ids\": input_tensor, \"attention_mask\": attention_mask, \"labels\": label_tensor}\n",
    "\n",
    "# inputset = (input_tensor, label_tensor, attention_mask)"
   ]
  },
  {
   "cell_type": "code",
   "execution_count": 12,
   "id": "20dfe2d8",
   "metadata": {},
   "outputs": [
    {
     "data": {
      "application/vnd.jupyter.widget-view+json": {
       "model_id": "876b3dbc66cd440b9303da229fbcbba1",
       "version_major": 2,
       "version_minor": 0
      },
      "text/plain": [
       "Compiling FHE layers:   0%|          | 0/95 [00:00<?, ?it/s]"
      ]
     },
     "metadata": {},
     "output_type": "display_data"
    }
   ],
   "source": [
    "# Calibrate and compile the model\n",
    "lora_training.toggle_calibrate(enable=True)\n",
    "hybrid_model.compile_model(inputset, n_bits=16)\n",
    "lora_training.toggle_calibrate(enable=False)"
   ]
  },
  {
   "cell_type": "code",
   "execution_count": 13,
   "id": "18e450e6",
   "metadata": {},
   "outputs": [],
   "source": [
    "def train_custom_model(\n",
    "    hybrid_model, train_dataloader, training_args, tokenizer, fhe=\"disable\"\n",
    "):  # pylint: disable=too-many-locals\n",
    "    device = \"cpu\"\n",
    "    hybrid_model.model.to(device)\n",
    "\n",
    "    # Training loop\n",
    "    peft_model.train()\n",
    "    total_epochs = int(training_args.num_train_epochs)\n",
    "    epoch_pbar = tqdm(total=total_epochs, desc=\"Training Progress\", position=0)\n",
    "\n",
    "    total_batched_samples = 0\n",
    "    epoch_losses = []\n",
    "\n",
    "    # Generate text before the first epoch\n",
    "    print(\"Generating text before the first epoch:\\n\")\n",
    "    prompt = \"What is FHE?\"\n",
    "    hybrid_model.set_fhe_mode(\"disable\")\n",
    "    generate_and_print(prompt, peft_model, tokenizer, SEED)\n",
    "    hybrid_model.set_fhe_mode(fhe)\n",
    "\n",
    "    for epoch in range(total_epochs):\n",
    "        total_loss = 0\n",
    "        grad_norms = []\n",
    "\n",
    "        for _, batch in enumerate(train_dataloader):\n",
    "            total_batched_samples += 1\n",
    "            batch = {k: v.to(device) for k, v in batch.items()}\n",
    "\n",
    "            # Zero the gradients\n",
    "            optimizer.zero_grad()\n",
    "\n",
    "            # Forward pass\n",
    "            loss, grad_norm = hybrid_model(batch, fhe=fhe)\n",
    "\n",
    "            # Optimizer step\n",
    "            optimizer.step()\n",
    "\n",
    "            # Learning rate scheduler step\n",
    "            lr_scheduler.step()\n",
    "\n",
    "            total_loss += loss.item()\n",
    "            if grad_norm is not None:\n",
    "                grad_norms.append(grad_norm)\n",
    "\n",
    "        # Get current learning rate\n",
    "        current_lr = lr_scheduler.get_last_lr()[0]\n",
    "\n",
    "        # Get last grad norm\n",
    "        current_grad_norm = grad_norms[-1] if grad_norms else None\n",
    "\n",
    "        # Store the total loss for this epoch\n",
    "        epoch_losses.append(total_loss)\n",
    "\n",
    "        # Log epoch results\n",
    "        print(\n",
    "            f\"Epoch {epoch + 1}/{training_args.num_train_epochs}, \"\n",
    "            f\"Loss: {total_loss:.4f}, grad norm: {current_grad_norm}, lr: {current_lr}\"\n",
    "        )\n",
    "\n",
    "        # Generate text after each epoch\n",
    "        prompt = \"What is FHE?\"\n",
    "        hybrid_model.set_fhe_mode(\"disable\")\n",
    "        generate_and_print(prompt, peft_model, tokenizer, SEED)\n",
    "        hybrid_model.set_fhe_mode(fhe)\n",
    "\n",
    "        print(\"\\n\" + \"-\" * 50)  # Separator for readability\n",
    "        epoch_pbar.update(1)\n",
    "\n",
    "    # Save model checkpoint\n",
    "    if training_args.output_dir is not None:\n",
    "        save_path = f\"{training_args.output_dir}/checkpoint-{epoch + 1}\"\n",
    "        peft_model.save_pretrained(save_path)\n",
    "\n",
    "    epoch_pbar.close()\n",
    "\n",
    "    # Plot the loss evolution\n",
    "    plt.figure(figsize=(10, 6))\n",
    "    plt.plot(range(1, total_epochs + 1), epoch_losses, marker=\"o\")\n",
    "    plt.title(\"Loss Evolution During Training\")\n",
    "    plt.xlabel(\"Epoch\")\n",
    "    plt.ylabel(\"Total Loss\")\n",
    "    plt.grid(True)\n",
    "    plt.show()"
   ]
  },
  {
   "cell_type": "code",
   "execution_count": 14,
   "id": "0ca82a81",
   "metadata": {},
   "outputs": [
    {
     "name": "stderr",
     "output_type": "stream",
     "text": [
      "\r",
      "Training Progress:   0%|          | 0/20 [00:00<?, ?it/s]"
     ]
    },
    {
     "name": "stdout",
     "output_type": "stream",
     "text": [
      "Generating text before the first epoch:\n",
      "\n"
     ]
    },
    {
     "name": "stdout",
     "output_type": "stream",
     "text": [
      "What is FHE? FHE is a new type of energy that is used to generate electricity. It is the most energy-efficient form of electricity, and it\n"
     ]
    },
    {
     "name": "stdout",
     "output_type": "stream",
     "text": [
      "Epoch 1/20, Loss: 31.7642, grad norm: None, lr: 0.0018000000000000002\n"
     ]
    },
    {
     "name": "stderr",
     "output_type": "stream",
     "text": [
      "\r",
      "Training Progress:   5%|▌         | 1/20 [00:21<06:52, 21.71s/it]"
     ]
    },
    {
     "name": "stdout",
     "output_type": "stream",
     "text": [
      "What is FHE? FHE is a non-invasive, noninvasible, and nonflammable, biocompatible, anti-inflammatory\n",
      "\n",
      "--------------------------------------------------\n"
     ]
    },
    {
     "name": "stdout",
     "output_type": "stream",
     "text": [
      "Epoch 2/20, Loss: 26.4969, grad norm: None, lr: 0.0019058823529411763\n"
     ]
    },
    {
     "name": "stderr",
     "output_type": "stream",
     "text": [
      "\r",
      "Training Progress:  10%|█         | 2/20 [00:27<03:42, 12.38s/it]"
     ]
    },
    {
     "name": "stdout",
     "output_type": "stream",
     "text": [
      "What is FHE? FHE is a simple, fast, efficient, and highly secure encryption scheme. It can be used to encrypt data, or to decrypt it\n",
      "\n",
      "--------------------------------------------------\n"
     ]
    },
    {
     "name": "stdout",
     "output_type": "stream",
     "text": [
      "Epoch 3/20, Loss: 23.2779, grad norm: None, lr: 0.0018000000000000002\n"
     ]
    },
    {
     "name": "stderr",
     "output_type": "stream",
     "text": [
      "\r",
      "Training Progress:  15%|█▌        | 3/20 [00:31<02:28,  8.71s/it]"
     ]
    },
    {
     "name": "stdout",
     "output_type": "stream",
     "text": [
      "What is FHE? FHE is a simple, fast, and efficient way to perform computations on Fully-Fully Homomorphic Encryption (F-\n",
      "\n",
      "--------------------------------------------------\n"
     ]
    },
    {
     "name": "stdout",
     "output_type": "stream",
     "text": [
      "Epoch 4/20, Loss: 20.6254, grad norm: None, lr: 0.0016941176470588236\n"
     ]
    },
    {
     "name": "stderr",
     "output_type": "stream",
     "text": [
      "\r",
      "Training Progress:  20%|██        | 4/20 [00:37<01:57,  7.32s/it]"
     ]
    },
    {
     "name": "stdout",
     "output_type": "stream",
     "text": [
      "What is FHE? FHE is a non-static structure that can only be used by nonstructural operators such as functions or functions. It is used to\n",
      "\n",
      "--------------------------------------------------\n"
     ]
    },
    {
     "name": "stdout",
     "output_type": "stream",
     "text": [
      "Epoch 5/20, Loss: 19.4243, grad norm: None, lr: 0.001588235294117647\n"
     ]
    },
    {
     "name": "stderr",
     "output_type": "stream",
     "text": [
      "\r",
      "Training Progress:  25%|██▌       | 5/20 [00:41<01:34,  6.31s/it]"
     ]
    },
    {
     "name": "stdout",
     "output_type": "stream",
     "text": [
      "What is FHE? FHE is a type of Fully Homomorphic Encryption (Fully Homogeneous Encrypted) that can be used to perform computationally computable\n",
      "\n",
      "--------------------------------------------------\n"
     ]
    },
    {
     "name": "stdout",
     "output_type": "stream",
     "text": [
      "Epoch 6/20, Loss: 17.2734, grad norm: None, lr: 0.0014823529411764707\n"
     ]
    },
    {
     "name": "stderr",
     "output_type": "stream",
     "text": [
      "\r",
      "Training Progress:  30%|███       | 6/20 [00:46<01:19,  5.66s/it]"
     ]
    },
    {
     "name": "stdout",
     "output_type": "stream",
     "text": [
      "What is FHE? FHE is a type of Fully Homomorphic Encryption (FHO) that can be used to perform computations on encrypted data. F\n",
      "\n",
      "--------------------------------------------------\n"
     ]
    },
    {
     "name": "stdout",
     "output_type": "stream",
     "text": [
      "Epoch 7/20, Loss: 15.0494, grad norm: None, lr: 0.001376470588235294\n"
     ]
    },
    {
     "name": "stderr",
     "output_type": "stream",
     "text": [
      "\r",
      "Training Progress:  35%|███▌      | 7/20 [00:50<01:09,  5.34s/it]"
     ]
    },
    {
     "name": "stdout",
     "output_type": "stream",
     "text": [
      "What is FHE? FHE is a type of Fully Homomorphic Encryption (FHO) that allows computations on encrypted data without revealing the underlying underlying data\n",
      "\n",
      "--------------------------------------------------\n"
     ]
    },
    {
     "name": "stdout",
     "output_type": "stream",
     "text": [
      "Epoch 8/20, Loss: 14.6020, grad norm: None, lr: 0.0012705882352941175\n"
     ]
    },
    {
     "name": "stderr",
     "output_type": "stream",
     "text": [
      "\r",
      "Training Progress:  40%|████      | 8/20 [00:55<01:00,  5.04s/it]"
     ]
    },
    {
     "name": "stdout",
     "output_type": "stream",
     "text": [
      "What is FHE? FHE is a fast-growing encryption algorithm that allows for secure, encrypted data anywhere on the network. It supports both encrypted and plaintext\n",
      "\n",
      "--------------------------------------------------\n"
     ]
    },
    {
     "name": "stdout",
     "output_type": "stream",
     "text": [
      "Epoch 9/20, Loss: 13.6395, grad norm: None, lr: 0.0011647058823529412\n"
     ]
    },
    {
     "name": "stderr",
     "output_type": "stream",
     "text": [
      "\r",
      "Training Progress:  45%|████▌     | 9/20 [01:00<00:55,  5.04s/it]"
     ]
    },
    {
     "name": "stdout",
     "output_type": "stream",
     "text": [
      "What is FHE? FHE is a fast, low-latency, encrypted, superfast, high-performance computing model for machine learning. It enables machine-\n",
      "\n",
      "--------------------------------------------------\n"
     ]
    },
    {
     "name": "stdout",
     "output_type": "stream",
     "text": [
      "Epoch 10/20, Loss: 12.9375, grad norm: None, lr: 0.0010588235294117648\n"
     ]
    },
    {
     "name": "stderr",
     "output_type": "stream",
     "text": [
      "\r",
      "Training Progress:  50%|█████     | 10/20 [01:04<00:49,  4.93s/it]"
     ]
    },
    {
     "name": "stdout",
     "output_type": "stream",
     "text": [
      "What is FHE? FHE is a fast, low-latency, encrypted neural network (FLEN) that can be used to perform computations on encrypted\n",
      "\n",
      "--------------------------------------------------\n"
     ]
    },
    {
     "name": "stdout",
     "output_type": "stream",
     "text": [
      "Epoch 11/20, Loss: 11.3290, grad norm: None, lr: 0.0009529411764705882\n"
     ]
    },
    {
     "name": "stderr",
     "output_type": "stream",
     "text": [
      "\r",
      "Training Progress:  55%|█████▌    | 11/20 [01:09<00:42,  4.76s/it]"
     ]
    },
    {
     "name": "stdout",
     "output_type": "stream",
     "text": [
      "What is FHE? FHO is a type of Fully Homomorphic Encryption (FHE) that uses a mathematical operation to encrypt data. Fhat is an efficient way\n",
      "\n",
      "--------------------------------------------------\n"
     ]
    },
    {
     "name": "stdout",
     "output_type": "stream",
     "text": [
      "Epoch 12/20, Loss: 10.4882, grad norm: None, lr: 0.0008470588235294118\n"
     ]
    },
    {
     "name": "stderr",
     "output_type": "stream",
     "text": [
      "\r",
      "Training Progress:  60%|██████    | 12/20 [01:13<00:37,  4.66s/it]"
     ]
    },
    {
     "name": "stdout",
     "output_type": "stream",
     "text": [
      "What is FHE? A Fully Homomorphic Encryption (FHE) is a technology that allows data to be decrypted without ever decryption. This allows for secure comput\n",
      "\n",
      "--------------------------------------------------\n"
     ]
    },
    {
     "name": "stdout",
     "output_type": "stream",
     "text": [
      "Epoch 13/20, Loss: 9.8948, grad norm: None, lr: 0.0007411764705882353\n"
     ]
    },
    {
     "name": "stderr",
     "output_type": "stream",
     "text": [
      "\r",
      "Training Progress:  65%|██████▌   | 13/20 [01:18<00:32,  4.69s/it]"
     ]
    },
    {
     "name": "stdout",
     "output_type": "stream",
     "text": [
      "What is FHE? A Fully Homomorphic Encryption (FHE) is a technology that allows secure computation and data computation without exposing the encrypted information to external parties. F\n",
      "\n",
      "--------------------------------------------------\n"
     ]
    },
    {
     "name": "stdout",
     "output_type": "stream",
     "text": [
      "Epoch 14/20, Loss: 9.1278, grad norm: None, lr: 0.0006352941176470588\n"
     ]
    },
    {
     "name": "stderr",
     "output_type": "stream",
     "text": [
      "\r",
      "Training Progress:  70%|███████   | 14/20 [01:23<00:29,  4.90s/it]"
     ]
    },
    {
     "name": "stdout",
     "output_type": "stream",
     "text": [
      "What is FHE? Fully Homomorphic Encryption (FHE) allows data to be processed without ever decrypting it, rendering it useless. This makes it ideal for applications\n",
      "\n",
      "--------------------------------------------------\n"
     ]
    },
    {
     "name": "stdout",
     "output_type": "stream",
     "text": [
      "Epoch 15/20, Loss: 8.8226, grad norm: None, lr: 0.0005294117647058824\n"
     ]
    },
    {
     "name": "stderr",
     "output_type": "stream",
     "text": [
      "\r",
      "Training Progress:  75%|███████▌  | 15/20 [01:28<00:23,  4.79s/it]"
     ]
    },
    {
     "name": "stdout",
     "output_type": "stream",
     "text": [
      "What is FHE? FHE is a fast encryption technique that allows encrypted data to be decrypted without ever decrypting the data. This allows for encrypted computations to\n",
      "\n",
      "--------------------------------------------------\n"
     ]
    },
    {
     "name": "stdout",
     "output_type": "stream",
     "text": [
      "Epoch 16/20, Loss: 8.3894, grad norm: None, lr: 0.0004235294117647059\n"
     ]
    },
    {
     "name": "stderr",
     "output_type": "stream",
     "text": [
      "\r",
      "Training Progress:  80%|████████  | 16/20 [01:32<00:18,  4.69s/it]"
     ]
    },
    {
     "name": "stdout",
     "output_type": "stream",
     "text": [
      "What is FHE? FHE is a fast-growing fast growing economy that can be used to encrypt and decryption of data. It is estimated that the average F\n",
      "\n",
      "--------------------------------------------------\n"
     ]
    },
    {
     "name": "stdout",
     "output_type": "stream",
     "text": [
      "Epoch 17/20, Loss: 7.5363, grad norm: None, lr: 0.0003176470588235294\n"
     ]
    },
    {
     "name": "stderr",
     "output_type": "stream",
     "text": [
      "\r",
      "Training Progress:  85%|████████▌ | 17/20 [01:37<00:14,  4.71s/it]"
     ]
    },
    {
     "name": "stdout",
     "output_type": "stream",
     "text": [
      "What is FHE? FHE is a fast encryption process that allows encrypted data to be processed without needing to decrypt it. This makes it possible for users to securely record\n",
      "\n",
      "--------------------------------------------------\n"
     ]
    },
    {
     "name": "stdout",
     "output_type": "stream",
     "text": [
      "Epoch 18/20, Loss: 7.3201, grad norm: None, lr: 0.00021176470588235295\n"
     ]
    },
    {
     "name": "stderr",
     "output_type": "stream",
     "text": [
      "\r",
      "Training Progress:  90%|█████████ | 18/20 [01:42<00:09,  4.86s/it]"
     ]
    },
    {
     "name": "stdout",
     "output_type": "stream",
     "text": [
      "What is FHE? FHE is a fast encryption method that allows arbitrary operations on encrypted data without needing to decrypt it. It allows for computations on sensitive information,\n",
      "\n",
      "--------------------------------------------------\n"
     ]
    },
    {
     "name": "stdout",
     "output_type": "stream",
     "text": [
      "Epoch 19/20, Loss: 7.3124, grad norm: None, lr: 0.00010588235294117647\n"
     ]
    },
    {
     "name": "stderr",
     "output_type": "stream",
     "text": [
      "\r",
      "Training Progress:  95%|█████████▌| 19/20 [01:47<00:04,  4.78s/it]"
     ]
    },
    {
     "name": "stdout",
     "output_type": "stream",
     "text": [
      "What is FHE? FHE is a fast learner-first-fast-forward-fHE scheme that supports batching and can be used for secure computations\n",
      "\n",
      "--------------------------------------------------\n"
     ]
    },
    {
     "name": "stdout",
     "output_type": "stream",
     "text": [
      "Epoch 20/20, Loss: 6.9397, grad norm: None, lr: 0.0\n"
     ]
    },
    {
     "name": "stderr",
     "output_type": "stream",
     "text": [
      "\r",
      "Training Progress: 100%|██████████| 20/20 [01:51<00:00,  4.68s/it]"
     ]
    },
    {
     "name": "stdout",
     "output_type": "stream",
     "text": [
      "What is FHE? FHE is a fast learner-first-fast-forward-fHE scheme that supports batching and can be used for secure computations\n",
      "\n",
      "--------------------------------------------------\n"
     ]
    },
    {
     "name": "stderr",
     "output_type": "stream",
     "text": [
      "\r",
      "Training Progress: 100%|██████████| 20/20 [01:51<00:00,  5.60s/it]"
     ]
    },
    {
     "name": "stderr",
     "output_type": "stream",
     "text": [
      "\n"
     ]
    },
    {
     "data": {
      "image/png": "[encoded data removed]",
      "text/plain": [
       "<Figure size 1000x600 with 1 Axes>"
      ]
     },
     "metadata": {},
     "output_type": "display_data"
    }
   ],
   "source": [
    "# Avoid parallelism error from HuggingFace during training\n",
    "tokenizer.parallelism = False\n",
    "\n",
    "# Train the model using FHE simulation\n",
    "train_custom_model(hybrid_model, train_dataloader, training_args, tokenizer, fhe=\"disable\")"
   ]
  },
  {
   "cell_type": "markdown",
   "id": "65d448c8",
   "metadata": {},
   "source": [
    "Note that our goal is to showcase the use of FHE for encrypted fine-tuning. The dataset consists of 68 examples and a total of 2,386 tokens, which is relatively small. Despite its limited size, which offers little support for the model's learning process, it still manages to produce interesting results."
   ]
  },
  {
   "cell_type": "code",
   "execution_count": 15,
   "id": "bd666f38",
   "metadata": {},
   "outputs": [],
   "source": [
    "# Get the fine-tuned model\n",
    "fine_tuned_model = hybrid_model.model.inference_model\n",
    "\n",
    "# Set FHE mode to disable for text generation\n",
    "hybrid_model.set_fhe_mode(\"execute\")"
   ]
  },
  {
   "cell_type": "code",
   "execution_count": 16,
   "id": "3e91ad0b",
   "metadata": {},
   "outputs": [
    {
     "name": "stdout",
     "output_type": "stream",
     "text": [
      "who invented FHE? , the,, a, in, at, and,\n"
     ]
    }
   ],
   "source": [
    "# Inference using the fine-tuned model with LoRA weights\n",
    "# Seed for reproducibility\n",
    "torch.manual_seed(SEED)\n",
    "\n",
    "fine_tuned_model.enable_adapter_layers()\n",
    "prompt = \"who invented FHE?\"\n",
    "generate_and_print(prompt, fine_tuned_model, tokenizer, SEED)"
   ]
  },
  {
   "cell_type": "code",
   "execution_count": 17,
   "id": "21e2a1d1",
   "metadata": {},
   "outputs": [
    {
     "name": "stdout",
     "output_type": "stream",
     "text": [
      "What is FHE? ,, the, a, at, in,\n"
     ]
    }
   ],
   "source": [
    "# Original inference without LoRA weights\n",
    "# Seed for reproducibility\n",
    "torch.manual_seed(SEED)\n",
    "\n",
    "peft_model.disable_adapter_layers()\n",
    "\n",
    "prompt = \"What is FHE?\"\n",
    "generate_and_print(prompt, peft_model, tokenizer, SEED)"
   ]
  },
  {
   "cell_type": "code",
   "execution_count": 18,
   "id": "c97425ee",
   "metadata": {},
   "outputs": [
    {
     "name": "stdout",
     "output_type": "stream",
     "text": [
      "Total number of weights: 124734720\n",
      "Total number of LoRA weights: 294912\n"
     ]
    }
   ],
   "source": [
    "peft_model.enable_adapter_layers()\n",
    "\n",
    "# Print weights and model size\n",
    "total_weights_size = print_weights_and_size(hybrid_model.model)"
   ]
  },
  {
   "cell_type": "code",
   "execution_count": 19,
   "id": "31367ff5",
   "metadata": {},
   "outputs": [],
   "source": [
    "# Save the model\n",
    "path = Path(\"deployment/gpt2_lora_finetuned\")\n",
    "path.mkdir(parents=True, exist_ok=True)\n",
    "\n",
    "if path.is_dir() and any(path.iterdir()):\n",
    "    shutil.rmtree(path)\n",
    "\n",
    "hybrid_model.save_and_clear_private_info(path)"
   ]
  },
  {
   "cell_type": "code",
   "execution_count": 20,
   "id": "a1dda636",
   "metadata": {},
   "outputs": [
    {
     "name": "stdout",
     "output_type": "stream",
     "text": [
      "Total number of weights: 39717120\n",
      "Total number of LoRA weights: 294912\n"
     ]
    }
   ],
   "source": [
    "# Print weights and size after saving\n",
    "total_weights_size_private = print_weights_and_size(hybrid_model.model)"
   ]
  },
  {
   "cell_type": "code",
   "execution_count": 21,
   "id": "506ad2f5",
   "metadata": {},
   "outputs": [
    {
     "name": "stdout",
     "output_type": "stream",
     "text": [
      "Total weights removed: 68.16 %\n"
     ]
    }
   ],
   "source": [
    "# Calculate and print the percentage of weights removed\n",
    "percentage_removed = (total_weights_size - total_weights_size_private) / total_weights_size * 100\n",
    "print(f\"Total weights removed: {percentage_removed:.2f} %\")"
   ]
  },
  {
   "cell_type": "code",
   "execution_count": 22,
   "id": "465cb18b",
   "metadata": {},
   "outputs": [],
   "source": [
    "# Note: Around 95% of the remaining weights are from the embedding layers (wpe and wte)\n",
    "# as well as the final lm_head layer."
   ]
  }
 ],
 "metadata": {
  "execution": {
   "timeout": 10800
  }
 },
 "nbformat": 4,
 "nbformat_minor": 5
}
