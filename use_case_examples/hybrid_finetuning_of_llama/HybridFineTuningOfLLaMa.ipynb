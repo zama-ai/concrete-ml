{
 "cells": [
  {
   "cell_type": "code",
   "execution_count": 8,
   "id": "7f488541",
   "metadata": {},
   "outputs": [
    {
     "name": "stderr",
     "output_type": "stream",
     "text": [
      "/Users/kcelia/Zama/concrete-ml/use_case_examples/hybrid_finetuning_of_llama/.venv_llama/lib/python3.12/site-packages/tqdm/auto.py:21: TqdmWarning: IProgress not found. Please update jupyter and ipywidgets. See https://ipywidgets.readthedocs.io/en/stable/user_install.html\n",
      "  from .autonotebook import tqdm as notebook_tqdm\n"
     ]
    }
   ],
   "source": [
    "import pandas as pd\n",
    "\n",
    "import argparse\n",
    "from time import time\n",
    "import matplotlib.pyplot as plt\n",
    "\n",
    "from datasets import load_from_disk\n",
    "from peft import LoraConfig, get_peft_model\n",
    "from torch.utils.data import DataLoader\n",
    "from transformers import AutoModelForCausalLM, Trainer, TrainingArguments\n",
    "from utils_dev import *\n",
    "\n",
    "from concrete.ml.torch.hybrid_model import HybridFHEMode\n",
    "from concrete.ml.torch.lora import LoraTrainer"
   ]
  },
  {
   "cell_type": "markdown",
   "id": "987827f4",
   "metadata": {},
   "source": [
    "# Hybrid Fine-Tuning of LLaMA with LoRA\n",
    "\n",
    "This notebook showcases how to fine-tune the LLaMA-3.2-1B model using LoRA (Low-Rank Adaptation) on the Orca Math Word Problems dataset. The fine-tuning is performed using the _HybridModel_ paradigm, which enables a seamless separation of the computational workload of large language models between the client and a remote server.\n",
    "\n",
    "To preserve data privacy while maintaining performance, this hybrid setup leverages Fully Homomorphic Encryption (FHE) on the remote side. The execution pipeline is structured as follows:\n",
    "\n",
    "- Remote linear layers — which account for the majority of the model's weights and computational cost — are offloaded to a distant machine and executed under encryption using FHE.\n",
    "- Local non-linear layers — such as activation functions — are retained on-premise and executed in plaintext on the client side.\n",
    "- The client’s dataset remains strictly local and is never transferred externally.\n",
    "\n",
    "This approach allows for privacy-preserving fine-tuning and inference, while reducing the computational burden on the client and ensuring that sensitive data never leaves the local environment."
   ]
  },
  {
   "cell_type": "code",
   "execution_count": 9,
   "id": "ed6bb5e6",
   "metadata": {},
   "outputs": [],
   "source": [
    "PEFT_ARGS = {\n",
    "    \"r\": 8,\n",
    "    \"lora_alpha\": 32,\n",
    "    \"lora_dropout\": 0.1,\n",
    "    \"bias\": \"none\",\n",
    "    \"task_type\": \"CAUSAL_LM\",\n",
    "    \"target_modules\": \"all-linear\",\n",
    "}\n",
    "\n",
    "TRAINING_ARGS = {\n",
    "    \"output_dir\": \"./checkpoints\",\n",
    "    \"num_train_epochs\": 1,\n",
    "    \"per_device_train_batch_size\": 1,\n",
    "    \"gradient_accumulation_steps\": 1,\n",
    "    \"save_total_limit\": 1,\n",
    "    \"use_cpu\": True,\n",
    "    \"learning_rate\": 2e-4,\n",
    "    \"lr_scheduler_type\": \"linear\",\n",
    "    \"seed\": SEED,\n",
    "    \"data_seed\": SEED,\n",
    "    \"warmup_steps\": 10,\n",
    "    \"weight_decay\": 0.01,\n",
    "    \"prediction_loss_only\": True,\n",
    "    \"report_to\": \"none\",\n",
    "}\n",
    "\n",
    "URL = \"http://15.237.83.254:8001\"\n",
    "MACHINE = \"M4\"\n",
    "DEVICE = get_device(force_device='cpu')"
   ]
  },
  {
   "cell_type": "markdown",
   "id": "003e430a",
   "metadata": {},
   "source": [
    "## Load data\n",
    "\n",
    "The question-answer dataset has been preprocessed and filtered in the `processed_data.py` script and saved to disk for convenience. We load it here directly to simplify the fine-tuning workflow.\n",
    "\n",
    "> ⚠️ If the files are missing, please run `processed_data.py` to regenerate them.\n"
   ]
  },
  {
   "cell_type": "code",
   "execution_count": 4,
   "id": "92d222c0",
   "metadata": {},
   "outputs": [],
   "source": [
    "collator = DataCollator(TOKENIZER)\n",
    "train_dataset = load_from_disk(TRAIN_PATH)\n",
    "test_dataset = load_from_disk(TEST_PATH)"
   ]
  },
  {
   "cell_type": "code",
   "execution_count": null,
   "id": "40d95791",
   "metadata": {},
   "outputs": [],
   "source": [
    "\n",
    "\n",
    "\n",
    "\n",
    "def initialize_model(seed=SEED):\n",
    "    \"\"\"Initialize the model with consistent weights.\"\"\"\n",
    "    set_seed(seed)\n",
    "\n",
    "    # Load the LLaMA model and tokenizer, and test the base model output.\n",
    "    pretrained_model = AutoModelForCausalLM.from_pretrained(MODEL_NAME, token=HF_TOKEN).to(DEVICE)\n",
    "    pretrained_model.config.pad_token_id = pretrained_model.config.eos_token_id\n",
    "\n",
    "    for param in pretrained_model.parameters():\n",
    "        param.requires_grad = False\n",
    "\n",
    "    PROMPT = \"When you multiply a number by 7, it becomes 98. What is that number?\\n\"\n",
    "    _ = generate_and_print(PROMPT, pretrained_model, TOKENIZER, seed=SEED)\n",
    "\n",
    "    # Set up LoRA parameters and apply them to the model.\n",
    "    peft_model = get_peft_model(pretrained_model, LoraConfig(**PEFT_ARGS)).to(DEVICE)\n",
    "\n",
    "    # Configure the training hyperparameters.\n",
    "    hf_trainer = Trainer(\n",
    "        model=peft_model,\n",
    "        args=TrainingArguments(**TRAINING_ARGS),\n",
    "        train_dataset=train_dataset,\n",
    "        data_collator=collator,\n",
    "    )\n",
    "\n",
    "    train_dl = hf_trainer.get_train_dataloader()\n",
    "    eval_dl = DataLoader(test_dataset, batch_size=BATCH_SIZE, shuffle=False, collate_fn=collator)\n",
    "\n",
    "    hf_trainer.create_optimizer_and_scheduler(len(train_dl) * TRAINING_ARGS[\"num_train_epochs\"])\n",
    "    optimizer, lr_scheduler = hf_trainer.optimizer, hf_trainer.lr_scheduler\n",
    "\n",
    "    lora_trainer = LoraTrainer(\n",
    "        model=peft_model,\n",
    "        optimizer=optimizer,\n",
    "        loss_fn=causal_lm_loss,\n",
    "        lr_scheduler=lr_scheduler,\n",
    "        training_args=TRAINING_ARGS,\n",
    "        n_layers_to_skip_for_backprop=3,\n",
    "        eval_loader=eval_dl,\n",
    "        eval_metric_fn=metric_fn,\n",
    "        logging_steps=1,\n",
    "        eval_steps=100,\n",
    "        train_log_path=TRAIN_LOG_FILE,\n",
    "        machine_type=MACHINE,\n",
    "        server_remote_address=URL,\n",
    "        model_name=f\"meta-llama\",\n",
    "    )\n",
    "\n",
    "    start_time = time()\n",
    "\n",
    "    inputset = get_random_inputset(\n",
    "            vocab_size=VOCAB_SIZE, batch_size=BATCH_SIZE, max_length=MAX_LENGTH, device=DEVICE)\n",
    "\n",
    "    lora_trainer.compile(inputset, n_bits=N_BITS, device=DEVICE)\n",
    "    print(f\"Compilation completed under: {time() - start_time:.2f}s using {DEVICE=}\")\n",
    "\n",
    "    return lora_trainer, peft_model, train_dl, eval_dl\n"
   ]
  },
  {
   "cell_type": "markdown",
   "id": "6ce52019",
   "metadata": {},
   "source": [
    "# Disable mode"
   ]
  },
  {
   "cell_type": "code",
   "execution_count": 6,
   "id": "45057000",
   "metadata": {},
   "outputs": [
    {
     "name": "stderr",
     "output_type": "stream",
     "text": [
      "No label_names provided for model class `PeftModelForCausalLM`. Since `PeftModel` hides base models input arguments, if label_names is not given, label_names can't be set automatically within `Trainer`. Note that empty label_names list will be used instead.\n",
      "2025-07-17 02:01:31,176 - INFO - === Starting new training session ===\n",
      "2025-07-17 02:01:31,179 - INFO - Processing '5' Remote Modules.\n",
      "2025-07-17 02:01:31,180 - INFO - Benchmark file created: '/Users/kcelia/Zama/concrete-ml/use_case_examples/hybrid_finetuning_of_llama/client_benchmarks.csv'\n"
     ]
    },
    {
     "name": "stdout",
     "output_type": "stream",
     "text": [
      "Prompt: `When you multiply a number by 7, it becomes 98. What is that number?\n",
      "`\n",
      "Response: `A. 0\n",
      "B. 1\n",
      "C. 2\n",
      "D. 3\n",
      "E. 4\n",
      "Answer: B`\n",
      "\n",
      "LoRA layers detected in the model.\n"
     ]
    },
    {
     "name": "stderr",
     "output_type": "stream",
     "text": [
      "Compiling FHE layers: 100%|██████████| 5/5 [00:00<00:00,  6.27it/s]\n",
      "2025-07-17 02:01:34,903 - INFO - Compilation complete.\n"
     ]
    },
    {
     "name": "stdout",
     "output_type": "stream",
     "text": [
      "Compilation completed under: 3.72s using DEVICE='cpu'\n",
      "Prompt: `When you multiply a number by 7, it becomes 98. What is that number?\n",
      "`\n",
      "Response: `A. 0\n",
      "B. 1\n",
      "C. 2\n",
      "D. 3\n",
      "E. 4\n",
      "Answer: B`\n",
      "\n"
     ]
    },
    {
     "name": "stderr",
     "output_type": "stream",
     "text": [
      "                                                           \r"
     ]
    },
    {
     "name": "stdout",
     "output_type": "stream",
     "text": [
      "Final perplexity after extended training: 116.61\n"
     ]
    },
    {
     "name": "stderr",
     "output_type": "stream",
     "text": [
      "Epoch 1:   0%|          | 0/5 [00:00<?, ?it/s]2025-07-17 02:01:49,413 - INFO - Step 1: loss=2.666215, avg_loss=2.666215\n",
      "2025-07-17 02:01:49,416 - INFO - Average gradient magnitude: 0.714748\n",
      "Epoch 1:  20%|██        | 1/5 [00:00<00:02,  1.89it/s, loss=2.6662]2025-07-17 02:01:49,941 - INFO - Step 2: loss=4.482193, avg_loss=3.574204\n",
      "2025-07-17 02:01:49,944 - INFO - Average gradient magnitude: 1.260862\n",
      "Epoch 1:  40%|████      | 2/5 [00:01<00:01,  1.90it/s, loss=4.4822]2025-07-17 02:01:50,517 - INFO - Step 3: loss=6.558001, avg_loss=4.568803\n",
      "2025-07-17 02:01:50,521 - INFO - Average gradient magnitude: 3.076639\n",
      "Epoch 1:  60%|██████    | 3/5 [00:01<00:01,  1.82it/s, loss=6.5580]2025-07-17 02:01:51,063 - INFO - Step 4: loss=0.939232, avg_loss=3.661410\n",
      "2025-07-17 02:01:51,066 - INFO - Average gradient magnitude: 0.221419\n",
      "Epoch 1:  80%|████████  | 4/5 [00:02<00:00,  1.83it/s, loss=0.9392]2025-07-17 02:01:51,594 - INFO - Step 5: loss=0.838413, avg_loss=3.096811\n",
      "2025-07-17 02:01:51,597 - INFO - Average gradient magnitude: 0.260248\n",
      "2025-07-17 02:01:51,615 - INFO - Epoch 1 completed. Avg Loss: 3.096811, FHE Mode: disable\n",
      "2025-07-17 02:01:51,615 - INFO - Training completed. Final Avg Loss: 3.096811, FHE Mode: disable\n"
     ]
    },
    {
     "data": {
      "image/png": "[encoded data removed]",
      "text/plain": [
       "<Figure size 1200x500 with 2 Axes>"
      ]
     },
     "metadata": {},
     "output_type": "display_data"
    }
   ],
   "source": [
    "disable_lora_trainer, disable_peft_model, disable_train_dl, disable_eval_dl = initialize_model(seed=SEED)\n",
    "\n",
    "disable_peft_model.eval()\n",
    "\n",
    "disable_initial_weights = extract_lora_weights(disable_peft_model)\n",
    "np.save(\"disable_initial_weights.npy\", disable_initial_weights)\n",
    "\n",
    "disable_initial_metrics = metric_fn(disable_peft_model, disable_eval_dl, PROMPT, EVAL_RESPONSES_FILE, DEVICE)\n",
    "print(f\"Final perplexity after extended training: {disable_initial_metrics['perplexity']:.2f}\")\n",
    "\n",
    "limited_batches = get_limited_batches(disable_train_dl, 5)\n",
    "\n",
    "disable_lora_trainer.train(limited_batches, fhe=\"disable\", device=DEVICE)\n",
    "\n",
    "disable_finetuned_weights = extract_lora_weights(disable_peft_model)\n",
    "\n",
    "disable_losses = disable_lora_trainer.get_training_losses()\n",
    "\n",
    "np.save(\"disable_initial_weights.npy\", disable_initial_weights)\n",
    "np.save(\"disable_finetuned_weights.npy\", disable_finetuned_weights)\n",
    "np.save(\"disable_losses.npy\", disable_losses)\n",
    "\n",
    "\n",
    "disable_df = collect_stats(disable_initial_weights, disable_finetuned_weights)\n",
    "\n",
    "fig, axes = plt.subplots(1, 2, figsize=(12, 5))\n",
    "\n",
    "disable_df.query(\"part=='B'\")[\"L2\"].hist(bins=50, ax=axes[0])\n",
    "axes[0].set_title(\"Δ magnitude (LoRA-B)\")\n",
    "\n",
    "disable_df.query(\"part=='A'\")[\"L2\"].hist(bins=50, ax=axes[1])\n",
    "axes[1].set_title(\"Δ magnitude (LoRA-A)\")\n",
    "\n",
    "plt.tight_layout()\n",
    "plt.show()"
   ]
  },
  {
   "cell_type": "markdown",
   "id": "4e99ea2e",
   "metadata": {},
   "source": [
    "# Remote mode"
   ]
  },
  {
   "cell_type": "code",
   "execution_count": 22,
   "id": "d36496c5",
   "metadata": {},
   "outputs": [
    {
     "name": "stderr",
     "output_type": "stream",
     "text": [
      "No label_names provided for model class `PeftModelForCausalLM`. Since `PeftModel` hides base models input arguments, if label_names is not given, label_names can't be set automatically within `Trainer`. Note that empty label_names list will be used instead.\n",
      "2025-07-17 02:25:40,818 - INFO - === Starting new training session ===\n",
      "2025-07-17 02:25:40,821 - INFO - Processing '5' Remote Modules.\n",
      "2025-07-17 02:25:40,821 - INFO - Benchmark file already created: '/Users/kcelia/Zama/concrete-ml/use_case_examples/hybrid_finetuning_of_llama/client_benchmarks.csv'\n"
     ]
    },
    {
     "name": "stdout",
     "output_type": "stream",
     "text": [
      "Prompt: `When you multiply a number by 7, it becomes 98. What is that number?\n",
      "`\n",
      "Response: `A. 0\n",
      "B. 1\n",
      "C. 2\n",
      "D. 3\n",
      "E. 4\n",
      "Answer: B`\n",
      "\n",
      "LoRA layers detected in the model.\n"
     ]
    },
    {
     "name": "stderr",
     "output_type": "stream",
     "text": [
      "Compiling FHE layers: 100%|██████████| 5/5 [00:00<00:00,  5.84it/s]\n",
      "2025-07-17 02:25:44,600 - INFO - Compilation complete.\n"
     ]
    },
    {
     "name": "stdout",
     "output_type": "stream",
     "text": [
      "Compilation completed under: 3.78s using DEVICE='cpu'\n",
      "Prompt: `When you multiply a number by 7, it becomes 98. What is that number?\n",
      "`\n",
      "Response: `A. 0\n",
      "B. 1\n",
      "C. 2\n",
      "D. 3\n",
      "E. 4\n",
      "Answer: B`\n",
      "\n"
     ]
    },
    {
     "name": "stderr",
     "output_type": "stream",
     "text": [
      "                                                           \r"
     ]
    },
    {
     "name": "stdout",
     "output_type": "stream",
     "text": [
      "Final perplexity after extended training: 116.61\n"
     ]
    },
    {
     "name": "stderr",
     "output_type": "stream",
     "text": [
      "2025-07-17 02:26:03,852 - INFO - Model saved at compiled_models/meta-llama\n",
      "2025-07-17 02:26:04,343 - INFO - Generating keys...\n",
      "2025-07-17 02:26:04,990 - INFO - Keys generated...\n",
      "2025-07-17 02:26:05,010 - INFO - Saving the public evaluation key at compiled_models/meta-llama/client/public_evaluation_key.serverKey...\n",
      "2025-07-17 02:27:01,553 - INFO - The key has been sent to the server...\n",
      "2025-07-17 02:27:01,555 - INFO - All remote modules initialized.\n",
      "Epoch 1:   0%|          | 0/5 [00:00<?, ?it/s]2025-07-17 02:27:34,232 - INFO - Step 1: loss=2.453567, avg_loss=2.453567\n",
      "2025-07-17 02:27:34,236 - INFO - Average gradient magnitude: 1.122485\n",
      "Epoch 1:  20%|██        | 1/5 [00:32<02:10, 32.68s/it, loss=2.4536]2025-07-17 02:28:06,671 - INFO - Step 2: loss=3.985708, avg_loss=3.219637\n",
      "2025-07-17 02:28:06,675 - INFO - Average gradient magnitude: 1.585597\n",
      "Epoch 1:  40%|████      | 2/5 [01:05<01:37, 32.54s/it, loss=3.9857]2025-07-17 02:28:39,036 - INFO - Step 3: loss=4.814536, avg_loss=3.751270\n",
      "2025-07-17 02:28:39,046 - INFO - Average gradient magnitude: 3.329259\n",
      "Epoch 1:  60%|██████    | 3/5 [01:37<01:04, 32.47s/it, loss=4.8145]2025-07-17 02:29:13,177 - INFO - Step 4: loss=1.034941, avg_loss=3.072188\n",
      "2025-07-17 02:29:13,181 - INFO - Average gradient magnitude: 0.766231\n",
      "Epoch 1:  80%|████████  | 4/5 [02:11<00:33, 33.12s/it, loss=1.0349]2025-07-17 02:29:46,684 - INFO - Step 5: loss=1.127679, avg_loss=2.683286\n",
      "2025-07-17 02:29:46,689 - INFO - Average gradient magnitude: 0.649838\n",
      "2025-07-17 02:29:46,715 - INFO - Epoch 1 completed. Avg Loss: 2.683286, FHE Mode: remote\n",
      "2025-07-17 02:29:46,715 - INFO - Training completed. Final Avg Loss: 2.683286, FHE Mode: remote\n"
     ]
    },
    {
     "data": {
      "image/png": "[encoded data removed]",
      "text/plain": [
       "<Figure size 1200x500 with 2 Axes>"
      ]
     },
     "metadata": {},
     "output_type": "display_data"
    }
   ],
   "source": [
    "remote_lora_trainer, remote_peft_model, remote_train_dl, remote_eval_dl = initialize_model(seed=SEED)\n",
    "\n",
    "remote_peft_model.eval()\n",
    "\n",
    "remote_initial_weights = extract_lora_weights(remote_peft_model)\n",
    "\n",
    "remote_initial_metrics = metric_fn(remote_peft_model, remote_eval_dl, PROMPT, EVAL_RESPONSES_FILE, DEVICE)\n",
    "print(f\"Final perplexity after extended training: {remote_initial_metrics['perplexity']:.2f}\")\n",
    "\n",
    "limited_batches = get_limited_batches(remote_train_dl, 5)\n",
    "\n",
    "remote_lora_trainer.save_and_clear_private_info(COMPILED_MODELS_PATH, via_mlir=True)\n",
    "\n",
    "client_path = COMPILED_MODELS_PATH / \"client\"\n",
    "\n",
    "remote_lora_trainer.hybrid_model.init_client(\n",
    "    path_to_clients=client_path, path_to_keys=PATH_TO_CLIENTS_KEYS\n",
    ")\n",
    "\n",
    "# Enable remote FHE mode: linear layers will be executed on the server\n",
    "remote_lora_trainer.hybrid_model.set_fhe_mode(HybridFHEMode.REMOTE)\n",
    "\n",
    "remote_lora_trainer.train(limited_batches, fhe=\"remote\", device=DEVICE)\n",
    "remote_losses = remote_lora_trainer.get_training_losses()\n",
    "remote_finetuned_weights = extract_lora_weights(remote_peft_model)\n",
    "\n",
    "np.save(\"remote_initial_weights.npy\", remote_initial_weights)\n",
    "np.save(\"remote_finetuned_weights.npy\", remote_finetuned_weights)\n",
    "np.save(\"remote_losses.npy\", remote_losses)\n",
    "\n",
    "remote_df = collect_stats(remote_initial_weights, remote_finetuned_weights)\n",
    "\n",
    "fig, axes = plt.subplots(1, 2, figsize=(12, 5))\n",
    "\n",
    "remote_df.query(\"part=='B'\")[\"L2\"].hist(bins=50, ax=axes[0])\n",
    "axes[0].set_title(\"Δ magnitude (LoRA-B)\")\n",
    "\n",
    "remote_df.query(\"part=='A'\")[\"L2\"].hist(bins=50, ax=axes[1])\n",
    "axes[1].set_title(\"Δ magnitude (LoRA-A)\")\n",
    "\n",
    "plt.tight_layout()\n",
    "plt.show()"
   ]
  },
  {
   "cell_type": "markdown",
   "id": "024efe26",
   "metadata": {},
   "source": [
    "## Execute mode"
   ]
  },
  {
   "cell_type": "code",
   "execution_count": 10,
   "id": "976f3a0b",
   "metadata": {},
   "outputs": [
    {
     "name": "stderr",
     "output_type": "stream",
     "text": [
      "No label_names provided for model class `PeftModelForCausalLM`. Since `PeftModel` hides base models input arguments, if label_names is not given, label_names can't be set automatically within `Trainer`. Note that empty label_names list will be used instead.\n",
      "2025-07-17 02:03:38,070 - INFO - === Starting new training session ===\n",
      "2025-07-17 02:03:38,074 - INFO - Processing '5' Remote Modules.\n",
      "2025-07-17 02:03:38,075 - INFO - Benchmark file already created: '/Users/kcelia/Zama/concrete-ml/use_case_examples/hybrid_finetuning_of_llama/client_benchmarks.csv'\n"
     ]
    },
    {
     "name": "stdout",
     "output_type": "stream",
     "text": [
      "Prompt: `When you multiply a number by 7, it becomes 98. What is that number?\n",
      "`\n",
      "Response: `A. 0\n",
      "B. 1\n",
      "C. 2\n",
      "D. 3\n",
      "E. 4\n",
      "Answer: B`\n",
      "\n",
      "LoRA layers detected in the model.\n"
     ]
    },
    {
     "name": "stderr",
     "output_type": "stream",
     "text": [
      "Compiling FHE layers: 100%|██████████| 5/5 [00:00<00:00,  6.08it/s]\n",
      "2025-07-17 02:03:42,918 - INFO - Compilation complete.\n"
     ]
    },
    {
     "name": "stdout",
     "output_type": "stream",
     "text": [
      "Compilation completed under: 4.84s using DEVICE='cpu'\n",
      "Prompt: `When you multiply a number by 7, it becomes 98. What is that number?\n",
      "`\n",
      "Response: `A. 0\n",
      "B. 1\n",
      "C. 2\n",
      "D. 3\n",
      "E. 4\n",
      "Answer: B`\n",
      "\n"
     ]
    },
    {
     "name": "stderr",
     "output_type": "stream",
     "text": [
      "                                                           \r"
     ]
    },
    {
     "name": "stdout",
     "output_type": "stream",
     "text": [
      "Final perplexity after extended training: 116.61\n"
     ]
    },
    {
     "name": "stderr",
     "output_type": "stream",
     "text": [
      "FHE Modules Inference: 100%|██████████| 5/5 [01:56<00:00, 23.33s/it]\n",
      "2025-07-17 02:05:52,819 - INFO - Step 1: loss=2.090029, avg_loss=2.090029\n",
      "2025-07-17 02:05:52,824 - INFO - Average gradient magnitude: 1.292121\n",
      "FHE Modules Inference: 100%|██████████| 5/5 [02:42<00:00, 32.44s/it]\n",
      "2025-07-17 02:08:35,080 - INFO - Step 2: loss=4.273175, avg_loss=3.181602\n",
      "2025-07-17 02:08:35,087 - INFO - Average gradient magnitude: 1.624507\n",
      "FHE Modules Inference: 100%|██████████| 5/5 [02:29<00:00, 29.88s/it]\n",
      "2025-07-17 02:11:04,532 - INFO - Step 3: loss=5.407122, avg_loss=3.923442\n",
      "2025-07-17 02:11:04,537 - INFO - Average gradient magnitude: 3.217531\n",
      "FHE Modules Inference: 100%|██████████| 5/5 [02:18<00:00, 27.70s/it]\n",
      "2025-07-17 02:13:23,044 - INFO - Step 4: loss=0.959360, avg_loss=3.182421\n",
      "2025-07-17 02:13:23,048 - INFO - Average gradient magnitude: 0.562591\n",
      "FHE Modules Inference: 100%|██████████| 5/5 [02:17<00:00, 27.49s/it]\n",
      "2025-07-17 02:15:40,499 - INFO - Step 5: loss=0.855362, avg_loss=2.717010\n",
      "2025-07-17 02:15:40,503 - INFO - Average gradient magnitude: 0.661855\n",
      "2025-07-17 02:15:40,531 - INFO - Epoch 1 completed. Avg Loss: 2.717010, FHE Mode: execute\n",
      "2025-07-17 02:15:40,532 - INFO - Training completed. Final Avg Loss: 2.717010, FHE Mode: execute\n"
     ]
    }
   ],
   "source": [
    "execute_lora_trainer, execute_peft_model, execute_train_dl, execute_eval_dl = initialize_model(seed=SEED)\n",
    "\n",
    "execute_peft_model.eval()\n",
    "\n",
    "execute_initial_weights = extract_lora_weights(execute_peft_model)\n",
    "np.save(\"execute_initial_weights.npy\", execute_initial_weights)\n",
    "\n",
    "execute_initial_metrics = metric_fn(execute_peft_model, execute_eval_dl, PROMPT, EVAL_RESPONSES_FILE, DEVICE)\n",
    "print(f\"Final perplexity after extended training: {execute_initial_metrics['perplexity']:.2f}\")\n",
    "\n",
    "limited_batches = get_limited_batches(execute_train_dl, 5)\n",
    "\n",
    "execute_lora_trainer.train(limited_batches, fhe=\"execute\", device=DEVICE)\n",
    "\n",
    "execute_finetuned_weights = extract_lora_weights(execute_peft_model)\n",
    "\n",
    "execute_losses = execute_lora_trainer.get_training_losses()\n",
    "\n",
    "np.save(\"execute_initial_weights.npy\", execute_initial_weights)\n",
    "np.save(\"execute_finetuned_weights.npy\", execute_finetuned_weights)\n",
    "np.save(\"execute_losses.npy\", execute_losses)"
   ]
  },
  {
   "cell_type": "code",
   "execution_count": 11,
   "id": "5c4f5071",
   "metadata": {},
   "outputs": [
    {
     "data": {
      "image/png": "[encoded data removed]",
      "text/plain": [
       "<Figure size 1200x500 with 2 Axes>"
      ]
     },
     "metadata": {},
     "output_type": "display_data"
    }
   ],
   "source": [
    "execute_df = collect_stats(execute_initial_weights, execute_finetuned_weights)\n",
    "\n",
    "fig, axes = plt.subplots(1, 2, figsize=(12, 5))\n",
    "\n",
    "execute_df.query(\"part=='B'\")[\"L2\"].hist(bins=50, ax=axes[0])\n",
    "axes[0].set_title(\"Δ magnitude (LoRA-B)\")\n",
    "\n",
    "execute_df.query(\"part=='A'\")[\"L2\"].hist(bins=50, ax=axes[1])\n",
    "axes[1].set_title(\"Δ magnitude (LoRA-A)\")\n",
    "\n",
    "plt.tight_layout()\n",
    "plt.show()"
   ]
  },
  {
   "cell_type": "markdown",
   "id": "333df801",
   "metadata": {},
   "source": [
    "## Loss Comparison"
   ]
  },
  {
   "cell_type": "code",
   "execution_count": 23,
   "id": "49528917",
   "metadata": {},
   "outputs": [
    {
     "data": {
      "image/png": "[encoded data removed]",
      "text/plain": [
       "<Figure size 1000x600 with 1 Axes>"
      ]
     },
     "metadata": {},
     "output_type": "display_data"
    }
   ],
   "source": [
    "plt.figure(figsize=(10, 6))\n",
    "steps = np.arange(len(disable_losses))\n",
    "\n",
    "plt.plot(steps, disable_losses, label=\"Disable Loss\", color=\"blue\")\n",
    "plt.plot(steps, remote_losses, label=\"Remote Loss\", color=\"red\", linestyle=\"--\")\n",
    "plt.plot(steps, execute_losses, label=\"Execute Loss\", color=\"green\", linestyle=\"--\")\n",
    "\n",
    "plt.scatter(steps, disable_losses, color=\"blue\", s=100)\n",
    "plt.scatter(steps, remote_losses, color=\"red\", marker=\"s\", s=100)\n",
    "plt.scatter(steps, execute_losses, color=\"green\", marker=\"D\", s=100)\n",
    "\n",
    "plt.xlabel(\"Step\")\n",
    "plt.ylabel(\"Loss\")\n",
    "plt.title(\"Loss Comparison\")\n",
    "plt.legend()\n",
    "plt.grid()\n",
    "plt.xticks(steps)\n",
    "\n",
    "plt.tight_layout()\n",
    "plt.show()"
   ]
  },
  {
   "cell_type": "code",
   "execution_count": 24,
   "id": "5e838c60",
   "metadata": {},
   "outputs": [
    {
     "data": {
      "text/plain": [
       "[2.666214942932129,\n",
       " 4.482192516326904,\n",
       " 6.5580010414123535,\n",
       " 0.9392324686050415,\n",
       " 0.8384132385253906]"
      ]
     },
     "execution_count": 24,
     "metadata": {},
     "output_type": "execute_result"
    }
   ],
   "source": [
    "disable_losses"
   ]
  },
  {
   "cell_type": "code",
   "execution_count": 25,
   "id": "fc62f5eb",
   "metadata": {},
   "outputs": [
    {
     "data": {
      "text/plain": [
       "[2.090029239654541,\n",
       " 4.27317476272583,\n",
       " 5.407121658325195,\n",
       " 0.9593600630760193,\n",
       " 0.8553619384765625]"
      ]
     },
     "execution_count": 25,
     "metadata": {},
     "output_type": "execute_result"
    }
   ],
   "source": [
    "execute_losses"
   ]
  },
  {
   "cell_type": "code",
   "execution_count": 26,
   "id": "52a0b771",
   "metadata": {},
   "outputs": [
    {
     "data": {
      "text/plain": [
       "[2.4535670280456543,\n",
       " 3.9857075214385986,\n",
       " 4.814536094665527,\n",
       " 1.0349410772323608,\n",
       " 1.1276791095733643]"
      ]
     },
     "execution_count": 26,
     "metadata": {},
     "output_type": "execute_result"
    }
   ],
   "source": [
    "remote_losses"
   ]
  },
  {
   "cell_type": "markdown",
   "id": "99f800c0",
   "metadata": {},
   "source": [
    "## Compilation"
   ]
  },
  {
   "cell_type": "code",
   "execution_count": null,
   "id": "6cb7586c",
   "metadata": {},
   "outputs": [
    {
     "name": "stderr",
     "output_type": "stream",
     "text": [
      "Compiling FHE layers: 100%|██████████| 5/5 [00:00<00:00,  5.89it/s]\n",
      "2025-07-16 17:35:44,971 - INFO - Compilation complete.\n"
     ]
    },
    {
     "name": "stdout",
     "output_type": "stream",
     "text": [
      "Compilation completed under: 3.83s using DEVICE='cpu'\n"
     ]
    }
   ],
   "source": [
    "# inputset = get_random_inputset(\n",
    "#         vocab_size=VOCAB_SIZE, batch_size=BATCH_SIZE, max_length=MAX_LENGTH, device=DEVICE\n",
    "#     )\n",
    "# start_time = time()\n",
    "# lora_trainer.compile(inputset, n_bits=N_BITS, device=DEVICE)\n",
    "# print(f\"Compilation completed under: {time() - start_time:.2f}s using {DEVICE=}\")"
   ]
  },
  {
   "cell_type": "markdown",
   "id": "b07799c9",
   "metadata": {},
   "source": [
    "## Separate Remote Modules\n",
    "\n",
    "In a hybrid execution setup, we must isolate the parts of the model that will run remotely (typically, the linear layers) from those that will stay on the client side (non-linear layers, activations, etc.).\n",
    "\n",
    "The following line performs this separation by:\n",
    "\n",
    "- Saving the compiled remote modules (linear layers quantized and ready for remote execution),\n",
    "- Removing sensitive information such as calibration data or client-side metadata,\n"
   ]
  },
  {
   "cell_type": "code",
   "execution_count": null,
   "id": "07c2d69e",
   "metadata": {},
   "outputs": [],
   "source": [
    "# lora_trainer.save_and_clear_private_info(COMPILED_MODELS_PATH, via_mlir=True)"
   ]
  },
  {
   "cell_type": "markdown",
   "id": "a5836667",
   "metadata": {},
   "source": [
    "## Initialize Client-Side Model\n",
    "\n",
    "Here we generate keys and send the public evaluation key to the server."
   ]
  },
  {
   "cell_type": "code",
   "execution_count": null,
   "id": "a5f6403d",
   "metadata": {},
   "outputs": [
    {
     "name": "stderr",
     "output_type": "stream",
     "text": [
      "2025-07-16 12:06:38,231 - INFO - All remote modules initialized.\n"
     ]
    }
   ],
   "source": [
    "# client_path = COMPILED_MODELS_PATH / \"client\"\n",
    "\n",
    "# lora_trainer.hybrid_model.init_client(\n",
    "#     path_to_clients=client_path, path_to_keys=PATH_TO_CLIENTS_KEYS\n",
    "# )\n",
    "\n",
    "# # Enable remote FHE mode: linear layers will be executed on the server\n",
    "# lora_trainer.hybrid_model.set_fhe_mode(HybridFHEMode.REMOTE)"
   ]
  },
  {
   "cell_type": "markdown",
   "id": "b2bf49af",
   "metadata": {},
   "source": [
    "## Run a Short Fine-Tuning Loop with Remote FHE\n",
    "\n",
    "We fine-tune the model for a few batches using remote FHE mode:"
   ]
  },
  {
   "cell_type": "code",
   "execution_count": null,
   "id": "f516517d",
   "metadata": {},
   "outputs": [],
   "source": [
    "# limited_batches = get_limited_batches(train_dl, 5)\n",
    "# lora_trainer.train(limited_batches, fhe=\"remote\", device=DEVICE)"
   ]
  },
  {
   "cell_type": "markdown",
   "id": "650fea90",
   "metadata": {},
   "source": [
    "# Evaluate the model after fine-tuning\n",
    "\n",
    "We evaluate the model on the validation set to compute its final perplexity, a standard metric for language modeling:"
   ]
  },
  {
   "cell_type": "code",
   "execution_count": null,
   "id": "5048f9d6",
   "metadata": {},
   "outputs": [],
   "source": [
    "# finetuned_weights = extract_lora_weights(peft_model)\n",
    "# peft_model.eval()\n",
    "# metrics_final = metric_fn(peft_model, eval_dl, PROMPT, EVAL_RESPONSES_FILE, DEVICE)\n",
    "# print(f\"Final perplexity after extended training: {metrics_final['perplexity']:.2f}\")"
   ]
  },
  {
   "cell_type": "code",
   "execution_count": null,
   "id": "da8169d7",
   "metadata": {},
   "outputs": [],
   "source": [
    "\n",
    "# # Δ distribution LoRA-B\n",
    "# df.query(\"part=='B'\")[\"L2\"].hist(bins=50); plt.title(\"Δ magnitude (LoRA-B)\"); plt.show()\n",
    "# df.query(\"part=='A'\")[\"L2\"].hist(bins=50); plt.title(\"Δ magnitude (LoRA-A)\"); plt.show()\n",
    "\n",
    "# # Cosine heatmap LoRA-A\n",
    "# pivot = df.query(\"part=='A'\").pivot_table(index=\"layer\", values=\"cos\")\n",
    "# plt.imshow(pivot, cmap=\"coolwarm\", aspect=\"auto\", vmin=-1, vmax=1)\n",
    "# plt.colorbar(); plt.title(\"Cosine similarity LoRA-A\"); plt.ylabel(\"Layer\"); plt.show()"
   ]
  },
  {
   "cell_type": "markdown",
   "id": "2fb850da",
   "metadata": {},
   "source": [
    "## Benchmark"
   ]
  },
  {
   "cell_type": "code",
   "execution_count": 10,
   "id": "a2e8633e",
   "metadata": {},
   "outputs": [
    {
     "name": "stdout",
     "output_type": "stream",
     "text": [
      "  % Total    % Received % Xferd  Average Speed   Time    Time     Time  Current\n",
      "                                 Dload  Upload   Total   Spent    Left  Speed\n",
      "100 27259  100 27259    0     0   108k      0 --:--:-- --:--:-- --:--:--  109k\n"
     ]
    }
   ],
   "source": [
    "!curl -o server_benchmark_matheval_llama.csv \"{URL}/download_benchmark\""
   ]
  },
  {
   "cell_type": "code",
   "execution_count": 135,
   "id": "948f42ec",
   "metadata": {},
   "outputs": [
    {
     "data": {
      "text/plain": [
       "(0     42b441c4-506f-4a40-8f52-404500b73f93\n",
       " 26    7c4a45a4-0674-4647-9276-6e70bf42d423\n",
       " 52    bd22906d-14be-4c28-95bd-d37fbff39772\n",
       " Name: uid, dtype: object,\n",
       " 0     42b441c4-506f-4a40-8f52-404500b73f93\n",
       " 25    7c4a45a4-0674-4647-9276-6e70bf42d423\n",
       " 50    bd22906d-14be-4c28-95bd-d37fbff39772\n",
       " Name: uid, dtype: object)"
      ]
     },
     "execution_count": 135,
     "metadata": {},
     "output_type": "execute_result"
    }
   ],
   "source": [
    "import pandas as pd\n",
    "import matplotlib.pyplot as plt\n",
    "\n",
    "def plot_stats(summary_stats, title, rotation=0):\n",
    "    summary_stats.T.plot(kind='bar', figsize=(10, 6))\n",
    "    plt.title(title)\n",
    "    plt.ylabel(\"Timing (s)\")\n",
    "    plt.xticks(rotation=rotation)\n",
    "    plt.grid(axis='y')\n",
    "    plt.tight_layout()\n",
    "\n",
    "    plt.show()\n",
    "\n",
    "    return summary_stats\n",
    "\n",
    "relevant_columns_stats = [\"min\", \"50%\", \"max\", \"mean\"]\n",
    "rename_median = {\"50%\": \"median\"}\n",
    "client = pd.read_csv(\"client_benchmarks.csv\", sep=\";\")\n",
    "server = pd.read_csv(\"server_benchmarks.csv\", sep=\";\")\n",
    "\n",
    "server['uid'].drop_duplicates(), client['uid'].drop_duplicates()"
   ]
  },
  {
   "cell_type": "code",
   "execution_count": 136,
   "id": "b310cdc8",
   "metadata": {},
   "outputs": [
    {
     "data": {
      "text/html": [
       "<div>\n",
       "<style scoped>\n",
       "    .dataframe tbody tr th:only-of-type {\n",
       "        vertical-align: middle;\n",
       "    }\n",
       "\n",
       "    .dataframe tbody tr th {\n",
       "        vertical-align: top;\n",
       "    }\n",
       "\n",
       "    .dataframe thead th {\n",
       "        text-align: right;\n",
       "    }\n",
       "</style>\n",
       "<table border=\"1\" class=\"dataframe\">\n",
       "  <thead>\n",
       "    <tr style=\"text-align: right;\">\n",
       "      <th></th>\n",
       "      <th>endpoint</th>\n",
       "      <th>date</th>\n",
       "      <th>device</th>\n",
       "      <th>machine</th>\n",
       "      <th>uid</th>\n",
       "      <th>layer_name</th>\n",
       "      <th>index</th>\n",
       "      <th>input_shape</th>\n",
       "      <th>remote_weight_shape</th>\n",
       "      <th>time_read_key</th>\n",
       "      <th>time_deserialization_key</th>\n",
       "      <th>time_serialization_key</th>\n",
       "      <th>time_storage_key</th>\n",
       "      <th>time_read_input</th>\n",
       "      <th>time_deserialize_input</th>\n",
       "      <th>encrypted_input_size</th>\n",
       "      <th>time_weight_quantization</th>\n",
       "      <th>time_serialization_output</th>\n",
       "      <th>time_matmul</th>\n",
       "      <th>time_packing_output_response</th>\n",
       "      <th>total_add_key_func</th>\n",
       "      <th>total_compute_func</th>\n",
       "    </tr>\n",
       "  </thead>\n",
       "  <tbody>\n",
       "    <tr>\n",
       "      <th>0</th>\n",
       "      <td>Key</td>\n",
       "      <td>2025-07-17 09:21:24</td>\n",
       "      <td>cuda</td>\n",
       "      <td>g4dn.16xlarge</td>\n",
       "      <td>42b441c4-506f-4a40-8f52-404500b73f93</td>\n",
       "      <td>NaN</td>\n",
       "      <td>NaN</td>\n",
       "      <td>NaN</td>\n",
       "      <td>NaN</td>\n",
       "      <td>0.039732</td>\n",
       "      <td>0.117553</td>\n",
       "      <td>0.098201</td>\n",
       "      <td>0.246416</td>\n",
       "      <td>NaN</td>\n",
       "      <td>NaN</td>\n",
       "      <td>NaN</td>\n",
       "      <td>NaN</td>\n",
       "      <td>NaN</td>\n",
       "      <td>NaN</td>\n",
       "      <td>NaN</td>\n",
       "      <td>0.404454</td>\n",
       "      <td>NaN</td>\n",
       "    </tr>\n",
       "    <tr>\n",
       "      <th>1</th>\n",
       "      <td>compute</td>\n",
       "      <td>2025-07-17 09:21:35</td>\n",
       "      <td>cuda</td>\n",
       "      <td>g4dn.16xlarge</td>\n",
       "      <td>42b441c4-506f-4a40-8f52-404500b73f93</td>\n",
       "      <td>inference_model.base_model.model.model.layers....</td>\n",
       "      <td>0.0</td>\n",
       "      <td>(64, 2048)</td>\n",
       "      <td>(2048, 2048)</td>\n",
       "      <td>NaN</td>\n",
       "      <td>NaN</td>\n",
       "      <td>NaN</td>\n",
       "      <td>NaN</td>\n",
       "      <td>0.000111</td>\n",
       "      <td>0.000434</td>\n",
       "      <td>530968.0</td>\n",
       "      <td>0.143631</td>\n",
       "      <td>0.000985</td>\n",
       "      <td>5.850805</td>\n",
       "      <td>0.000266</td>\n",
       "      <td>NaN</td>\n",
       "      <td>6.010688</td>\n",
       "    </tr>\n",
       "  </tbody>\n",
       "</table>\n",
       "</div>"
      ],
      "text/plain": [
       "  endpoint                 date device        machine  \\\n",
       "0      Key  2025-07-17 09:21:24   cuda  g4dn.16xlarge   \n",
       "1  compute  2025-07-17 09:21:35   cuda  g4dn.16xlarge   \n",
       "\n",
       "                                    uid  \\\n",
       "0  42b441c4-506f-4a40-8f52-404500b73f93   \n",
       "1  42b441c4-506f-4a40-8f52-404500b73f93   \n",
       "\n",
       "                                          layer_name  index input_shape  \\\n",
       "0                                                NaN    NaN         NaN   \n",
       "1  inference_model.base_model.model.model.layers....    0.0  (64, 2048)   \n",
       "\n",
       "  remote_weight_shape  time_read_key  time_deserialization_key  \\\n",
       "0                 NaN       0.039732                  0.117553   \n",
       "1        (2048, 2048)            NaN                       NaN   \n",
       "\n",
       "   time_serialization_key  time_storage_key  time_read_input  \\\n",
       "0                0.098201          0.246416              NaN   \n",
       "1                     NaN               NaN         0.000111   \n",
       "\n",
       "   time_deserialize_input  encrypted_input_size  time_weight_quantization  \\\n",
       "0                     NaN                   NaN                       NaN   \n",
       "1                0.000434              530968.0                  0.143631   \n",
       "\n",
       "   time_serialization_output  time_matmul  time_packing_output_response  \\\n",
       "0                        NaN          NaN                           NaN   \n",
       "1                   0.000985     5.850805                      0.000266   \n",
       "\n",
       "   total_add_key_func  total_compute_func  \n",
       "0            0.404454                 NaN  \n",
       "1                 NaN            6.010688  "
      ]
     },
     "execution_count": 136,
     "metadata": {},
     "output_type": "execute_result"
    }
   ],
   "source": [
    "server.head(2)"
   ]
  },
  {
   "cell_type": "code",
   "execution_count": 137,
   "id": "84f7c198",
   "metadata": {},
   "outputs": [
    {
     "data": {
      "text/html": [
       "<div>\n",
       "<style scoped>\n",
       "    .dataframe tbody tr th:only-of-type {\n",
       "        vertical-align: middle;\n",
       "    }\n",
       "\n",
       "    .dataframe tbody tr th {\n",
       "        vertical-align: top;\n",
       "    }\n",
       "\n",
       "    .dataframe thead th {\n",
       "        text-align: right;\n",
       "    }\n",
       "</style>\n",
       "<table border=\"1\" class=\"dataframe\">\n",
       "  <thead>\n",
       "    <tr style=\"text-align: right;\">\n",
       "      <th></th>\n",
       "      <th>date</th>\n",
       "      <th>device</th>\n",
       "      <th>machine</th>\n",
       "      <th>mode</th>\n",
       "      <th>uid</th>\n",
       "      <th>server_remote_address</th>\n",
       "      <th>layer_name</th>\n",
       "      <th>input_shape</th>\n",
       "      <th>remote_weight_shape</th>\n",
       "      <th>time_encryption_input</th>\n",
       "      <th>time_serialization_input</th>\n",
       "      <th>total_send_input_func</th>\n",
       "      <th>time_deserialization_output</th>\n",
       "      <th>time_decryption_output</th>\n",
       "      <th>time_dequantization_output</th>\n",
       "      <th>total_compute_func</th>\n",
       "      <th>total_timing</th>\n",
       "    </tr>\n",
       "  </thead>\n",
       "  <tbody>\n",
       "    <tr>\n",
       "      <th>0</th>\n",
       "      <td>2025-07-17 11:21:36</td>\n",
       "      <td>mps:0</td>\n",
       "      <td>M4</td>\n",
       "      <td>Remote</td>\n",
       "      <td>42b441c4-506f-4a40-8f52-404500b73f93</td>\n",
       "      <td>http://15.237.83.254:8001</td>\n",
       "      <td>remote_weights_layer0.npy</td>\n",
       "      <td>(64, 2048)</td>\n",
       "      <td>(2048, 2048)</td>\n",
       "      <td>0.020803</td>\n",
       "      <td>0.000564</td>\n",
       "      <td>NaN</td>\n",
       "      <td>0.000943</td>\n",
       "      <td>0.018788</td>\n",
       "      <td>0.019075</td>\n",
       "      <td>6.948918</td>\n",
       "      <td>10.531241</td>\n",
       "    </tr>\n",
       "    <tr>\n",
       "      <th>1</th>\n",
       "      <td>2025-07-17 11:21:40</td>\n",
       "      <td>mps:0</td>\n",
       "      <td>M4</td>\n",
       "      <td>Remote</td>\n",
       "      <td>42b441c4-506f-4a40-8f52-404500b73f93</td>\n",
       "      <td>http://15.237.83.254:8001</td>\n",
       "      <td>remote_weights_layer1.npy</td>\n",
       "      <td>(64, 2048)</td>\n",
       "      <td>(2048, 512)</td>\n",
       "      <td>0.020593</td>\n",
       "      <td>0.000123</td>\n",
       "      <td>NaN</td>\n",
       "      <td>0.000231</td>\n",
       "      <td>0.019058</td>\n",
       "      <td>0.010594</td>\n",
       "      <td>3.880728</td>\n",
       "      <td>4.500235</td>\n",
       "    </tr>\n",
       "  </tbody>\n",
       "</table>\n",
       "</div>"
      ],
      "text/plain": [
       "                  date device machine    mode  \\\n",
       "0  2025-07-17 11:21:36  mps:0      M4  Remote   \n",
       "1  2025-07-17 11:21:40  mps:0      M4  Remote   \n",
       "\n",
       "                                    uid      server_remote_address  \\\n",
       "0  42b441c4-506f-4a40-8f52-404500b73f93  http://15.237.83.254:8001   \n",
       "1  42b441c4-506f-4a40-8f52-404500b73f93  http://15.237.83.254:8001   \n",
       "\n",
       "                  layer_name input_shape remote_weight_shape  \\\n",
       "0  remote_weights_layer0.npy  (64, 2048)        (2048, 2048)   \n",
       "1  remote_weights_layer1.npy  (64, 2048)         (2048, 512)   \n",
       "\n",
       "   time_encryption_input  time_serialization_input  total_send_input_func  \\\n",
       "0               0.020803                  0.000564                    NaN   \n",
       "1               0.020593                  0.000123                    NaN   \n",
       "\n",
       "   time_deserialization_output  time_decryption_output  \\\n",
       "0                     0.000943                0.018788   \n",
       "1                     0.000231                0.019058   \n",
       "\n",
       "   time_dequantization_output  total_compute_func  total_timing  \n",
       "0                    0.019075            6.948918     10.531241  \n",
       "1                    0.010594            3.880728      4.500235  "
      ]
     },
     "execution_count": 137,
     "metadata": {},
     "output_type": "execute_result"
    }
   ],
   "source": [
    "client.head(2)"
   ]
  },
  {
   "cell_type": "code",
   "execution_count": 138,
   "id": "d3b76a4e",
   "metadata": {},
   "outputs": [
    {
     "data": {
      "image/png": "[encoded data removed]",
      "text/plain": [
       "<Figure size 1000x600 with 1 Axes>"
      ]
     },
     "metadata": {},
     "output_type": "display_data"
    },
    {
     "data": {
      "text/html": [
       "<div>\n",
       "<style scoped>\n",
       "    .dataframe tbody tr th:only-of-type {\n",
       "        vertical-align: middle;\n",
       "    }\n",
       "\n",
       "    .dataframe tbody tr th {\n",
       "        vertical-align: top;\n",
       "    }\n",
       "\n",
       "    .dataframe thead th {\n",
       "        text-align: right;\n",
       "    }\n",
       "</style>\n",
       "<table border=\"1\" class=\"dataframe\">\n",
       "  <thead>\n",
       "    <tr style=\"text-align: right;\">\n",
       "      <th></th>\n",
       "      <th>time_read_key</th>\n",
       "      <th>time_deserialization_key</th>\n",
       "      <th>time_serialization_key</th>\n",
       "      <th>time_storage_key</th>\n",
       "    </tr>\n",
       "  </thead>\n",
       "  <tbody>\n",
       "    <tr>\n",
       "      <th>min</th>\n",
       "      <td>0.039582</td>\n",
       "      <td>0.117553</td>\n",
       "      <td>0.097448</td>\n",
       "      <td>0.226790</td>\n",
       "    </tr>\n",
       "    <tr>\n",
       "      <th>median</th>\n",
       "      <td>0.039721</td>\n",
       "      <td>0.122092</td>\n",
       "      <td>0.097661</td>\n",
       "      <td>0.230222</td>\n",
       "    </tr>\n",
       "    <tr>\n",
       "      <th>max</th>\n",
       "      <td>0.039732</td>\n",
       "      <td>0.122666</td>\n",
       "      <td>0.098201</td>\n",
       "      <td>0.246416</td>\n",
       "    </tr>\n",
       "    <tr>\n",
       "      <th>mean</th>\n",
       "      <td>0.039678</td>\n",
       "      <td>0.120770</td>\n",
       "      <td>0.097770</td>\n",
       "      <td>0.234476</td>\n",
       "    </tr>\n",
       "  </tbody>\n",
       "</table>\n",
       "</div>"
      ],
      "text/plain": [
       "        time_read_key  time_deserialization_key  time_serialization_key  \\\n",
       "min          0.039582                  0.117553                0.097448   \n",
       "median       0.039721                  0.122092                0.097661   \n",
       "max          0.039732                  0.122666                0.098201   \n",
       "mean         0.039678                  0.120770                0.097770   \n",
       "\n",
       "        time_storage_key  \n",
       "min             0.226790  \n",
       "median          0.230222  \n",
       "max             0.246416  \n",
       "mean            0.234476  "
      ]
     },
     "execution_count": 138,
     "metadata": {},
     "output_type": "execute_result"
    }
   ],
   "source": [
    "# Timing for the key is seconds\n",
    "\n",
    "server_key_stats = server[[\"time_read_key\", \"time_deserialization_key\", \"time_serialization_key\", \"time_storage_key\"]].dropna().describe()\n",
    "summary_key_stats = server_key_stats.loc[relevant_columns_stats].rename(index=rename_median)\n",
    "\n",
    "plot_stats(summary_key_stats, \"Descriptive statistics per step (client/server)\")"
   ]
  },
  {
   "cell_type": "code",
   "execution_count": 139,
   "id": "4d96fd9f",
   "metadata": {},
   "outputs": [],
   "source": [
    "# Consider the worst case for large inputs\n",
    "\n",
    "largest_input_shape = \"(64, 2048)\"\n",
    "largest_remote_weight_shape = \"(2048, 2048)\"\n",
    "\n",
    "server_wc = server[(server['remote_weight_shape'] == largest_remote_weight_shape) & (server['input_shape'] == largest_input_shape)]\n",
    "client_wc = client[(client['remote_weight_shape'] == largest_remote_weight_shape) & (client['input_shape'] == largest_input_shape)]"
   ]
  },
  {
   "cell_type": "markdown",
   "id": "c340b685",
   "metadata": {},
   "source": [
    "### Timing for input in seconds"
   ]
  },
  {
   "cell_type": "code",
   "execution_count": 140,
   "id": "08577ff0",
   "metadata": {},
   "outputs": [
    {
     "data": {
      "image/png": "[encoded data removed]",
      "text/plain": [
       "<Figure size 1000x600 with 1 Axes>"
      ]
     },
     "metadata": {},
     "output_type": "display_data"
    },
    {
     "data": {
      "text/html": [
       "<div>\n",
       "<style scoped>\n",
       "    .dataframe tbody tr th:only-of-type {\n",
       "        vertical-align: middle;\n",
       "    }\n",
       "\n",
       "    .dataframe tbody tr th {\n",
       "        vertical-align: top;\n",
       "    }\n",
       "\n",
       "    .dataframe thead th {\n",
       "        text-align: right;\n",
       "    }\n",
       "</style>\n",
       "<table border=\"1\" class=\"dataframe\">\n",
       "  <thead>\n",
       "    <tr style=\"text-align: right;\">\n",
       "      <th></th>\n",
       "      <th>time_encryption_input</th>\n",
       "      <th>time_serialization_input</th>\n",
       "      <th>time_read_input</th>\n",
       "      <th>time_deserialize_input</th>\n",
       "    </tr>\n",
       "  </thead>\n",
       "  <tbody>\n",
       "    <tr>\n",
       "      <th>min</th>\n",
       "      <td>0.020272</td>\n",
       "      <td>0.000044</td>\n",
       "      <td>0.000096</td>\n",
       "      <td>0.000269</td>\n",
       "    </tr>\n",
       "    <tr>\n",
       "      <th>median</th>\n",
       "      <td>0.020672</td>\n",
       "      <td>0.000058</td>\n",
       "      <td>0.000156</td>\n",
       "      <td>0.000327</td>\n",
       "    </tr>\n",
       "    <tr>\n",
       "      <th>max</th>\n",
       "      <td>0.023154</td>\n",
       "      <td>0.000696</td>\n",
       "      <td>0.000388</td>\n",
       "      <td>0.000700</td>\n",
       "    </tr>\n",
       "    <tr>\n",
       "      <th>mean</th>\n",
       "      <td>0.020833</td>\n",
       "      <td>0.000100</td>\n",
       "      <td>0.000211</td>\n",
       "      <td>0.000413</td>\n",
       "    </tr>\n",
       "  </tbody>\n",
       "</table>\n",
       "</div>"
      ],
      "text/plain": [
       "        time_encryption_input  time_serialization_input  time_read_input  \\\n",
       "min                  0.020272                  0.000044         0.000096   \n",
       "median               0.020672                  0.000058         0.000156   \n",
       "max                  0.023154                  0.000696         0.000388   \n",
       "mean                 0.020833                  0.000100         0.000211   \n",
       "\n",
       "        time_deserialize_input  \n",
       "min                   0.000269  \n",
       "median                0.000327  \n",
       "max                   0.000700  \n",
       "mean                  0.000413  "
      ]
     },
     "execution_count": 140,
     "metadata": {},
     "output_type": "execute_result"
    }
   ],
   "source": [
    "# In the client side, we encrypt, serialize the input and send it to the server\n",
    "client_stats = client_wc[['time_encryption_input', 'time_serialization_input']].dropna().describe()\n",
    "# In the server side, we read the input, deserialize it\n",
    "# <!> I dont have the time_read_input anymore because the input is not stored on the server side, to avoid memory issues\n",
    "# <!> Note: The 'time_read_input' and 'total_send_input_func' metrics are no longer available because\n",
    "# the input data is not stored on the server side in order to reduce memory usage.\n",
    "# Hence, the endpoints /send_data and /compute are combined\n",
    "\n",
    "server_stats = server_wc[['time_read_input', 'time_deserialize_input']].dropna().describe()\n",
    "\n",
    "combined_input_stats = pd.concat([client_stats, server_stats], axis=1)\n",
    "\n",
    "summary_stats = combined_input_stats.loc[relevant_columns_stats].rename(index=rename_median)\n",
    "\n",
    "plot_stats(summary_stats, \"Descriptive statistics per step (client/server)\")"
   ]
  },
  {
   "cell_type": "markdown",
   "id": "e5bfb746",
   "metadata": {},
   "source": [
    "### Timing for output in seconds"
   ]
  },
  {
   "cell_type": "code",
   "execution_count": 141,
   "id": "a23b992a",
   "metadata": {},
   "outputs": [
    {
     "data": {
      "image/png": "[encoded data removed]",
      "text/plain": [
       "<Figure size 1000x600 with 1 Axes>"
      ]
     },
     "metadata": {},
     "output_type": "display_data"
    },
    {
     "data": {
      "text/html": [
       "<div>\n",
       "<style scoped>\n",
       "    .dataframe tbody tr th:only-of-type {\n",
       "        vertical-align: middle;\n",
       "    }\n",
       "\n",
       "    .dataframe tbody tr th {\n",
       "        vertical-align: top;\n",
       "    }\n",
       "\n",
       "    .dataframe thead th {\n",
       "        text-align: right;\n",
       "    }\n",
       "</style>\n",
       "<table border=\"1\" class=\"dataframe\">\n",
       "  <thead>\n",
       "    <tr style=\"text-align: right;\">\n",
       "      <th></th>\n",
       "      <th>time_deserialization_output</th>\n",
       "      <th>time_decryption_output</th>\n",
       "      <th>time_dequantization_output</th>\n",
       "      <th>total_client_compute_func</th>\n",
       "      <th>total_timing</th>\n",
       "      <th>time_weight_quantization</th>\n",
       "      <th>time_matmul</th>\n",
       "      <th>time_serialization_output</th>\n",
       "      <th>time_packing_output_response</th>\n",
       "      <th>total_server_compute_func</th>\n",
       "    </tr>\n",
       "  </thead>\n",
       "  <tbody>\n",
       "    <tr>\n",
       "      <th>min</th>\n",
       "      <td>0.000094</td>\n",
       "      <td>0.015400</td>\n",
       "      <td>0.000735</td>\n",
       "      <td>6.528906</td>\n",
       "      <td>7.098038</td>\n",
       "      <td>0.007512</td>\n",
       "      <td>5.824324</td>\n",
       "      <td>0.000245</td>\n",
       "      <td>0.000030</td>\n",
       "      <td>5.846116</td>\n",
       "    </tr>\n",
       "    <tr>\n",
       "      <th>median</th>\n",
       "      <td>0.000162</td>\n",
       "      <td>0.020224</td>\n",
       "      <td>0.000909</td>\n",
       "      <td>6.703827</td>\n",
       "      <td>7.428466</td>\n",
       "      <td>0.007777</td>\n",
       "      <td>5.889600</td>\n",
       "      <td>0.000662</td>\n",
       "      <td>0.000033</td>\n",
       "      <td>5.914353</td>\n",
       "    </tr>\n",
       "    <tr>\n",
       "      <th>max</th>\n",
       "      <td>0.000943</td>\n",
       "      <td>0.026284</td>\n",
       "      <td>0.019075</td>\n",
       "      <td>7.100147</td>\n",
       "      <td>11.387622</td>\n",
       "      <td>0.143631</td>\n",
       "      <td>5.980948</td>\n",
       "      <td>0.000985</td>\n",
       "      <td>0.000266</td>\n",
       "      <td>6.010688</td>\n",
       "    </tr>\n",
       "    <tr>\n",
       "      <th>mean</th>\n",
       "      <td>0.000229</td>\n",
       "      <td>0.020106</td>\n",
       "      <td>0.001388</td>\n",
       "      <td>6.720846</td>\n",
       "      <td>7.703829</td>\n",
       "      <td>0.010832</td>\n",
       "      <td>5.904840</td>\n",
       "      <td>0.000528</td>\n",
       "      <td>0.000070</td>\n",
       "      <td>5.930627</td>\n",
       "    </tr>\n",
       "  </tbody>\n",
       "</table>\n",
       "</div>"
      ],
      "text/plain": [
       "        time_deserialization_output  time_decryption_output  \\\n",
       "min                        0.000094                0.015400   \n",
       "median                     0.000162                0.020224   \n",
       "max                        0.000943                0.026284   \n",
       "mean                       0.000229                0.020106   \n",
       "\n",
       "        time_dequantization_output  total_client_compute_func  total_timing  \\\n",
       "min                       0.000735                   6.528906      7.098038   \n",
       "median                    0.000909                   6.703827      7.428466   \n",
       "max                       0.019075                   7.100147     11.387622   \n",
       "mean                      0.001388                   6.720846      7.703829   \n",
       "\n",
       "        time_weight_quantization  time_matmul  time_serialization_output  \\\n",
       "min                     0.007512     5.824324                   0.000245   \n",
       "median                  0.007777     5.889600                   0.000662   \n",
       "max                     0.143631     5.980948                   0.000985   \n",
       "mean                    0.010832     5.904840                   0.000528   \n",
       "\n",
       "        time_packing_output_response  total_server_compute_func  \n",
       "min                         0.000030                   5.846116  \n",
       "median                      0.000033                   5.914353  \n",
       "max                         0.000266                   6.010688  \n",
       "mean                        0.000070                   5.930627  "
      ]
     },
     "execution_count": 141,
     "metadata": {},
     "output_type": "execute_result"
    }
   ],
   "source": [
    "client_stats = client_wc[['time_deserialization_output', 'time_decryption_output', 'time_dequantization_output', 'total_compute_func', 'total_timing']].describe()\n",
    "client_stats = client_stats.loc[relevant_columns_stats].rename(index=rename_median).rename(columns={\"total_compute_func\": \"total_client_compute_func\"})\n",
    "\n",
    "server_stats = server_wc[['time_weight_quantization', 'time_matmul', 'time_serialization_output', 'time_packing_output_response', 'total_compute_func']].describe()\n",
    "server_stats = server_stats.loc[relevant_columns_stats].rename(index=rename_median).rename(columns={\"total_compute_func\": \"total_server_compute_func\"})\n",
    "\n",
    "combined_output_stats = pd.concat([client_stats, server_stats], axis=1)\n",
    "\n",
    "plot_stats(combined_output_stats, \"Descriptive statistics per step (client/server)\", rotation=60)\n"
   ]
  },
  {
   "cell_type": "code",
   "execution_count": 142,
   "id": "8ce38b96",
   "metadata": {},
   "outputs": [
    {
     "data": {
      "text/html": [
       "<div>\n",
       "<style scoped>\n",
       "    .dataframe tbody tr th:only-of-type {\n",
       "        vertical-align: middle;\n",
       "    }\n",
       "\n",
       "    .dataframe tbody tr th {\n",
       "        vertical-align: top;\n",
       "    }\n",
       "\n",
       "    .dataframe thead th {\n",
       "        text-align: right;\n",
       "    }\n",
       "</style>\n",
       "<table border=\"1\" class=\"dataframe\">\n",
       "  <thead>\n",
       "    <tr style=\"text-align: right;\">\n",
       "      <th></th>\n",
       "      <th>total_client_compute_func</th>\n",
       "      <th>total_server_compute_func</th>\n",
       "      <th>diff_compute_endpoint</th>\n",
       "    </tr>\n",
       "  </thead>\n",
       "  <tbody>\n",
       "    <tr>\n",
       "      <th>min</th>\n",
       "      <td>6.528906</td>\n",
       "      <td>5.846116</td>\n",
       "      <td>0.682790</td>\n",
       "    </tr>\n",
       "    <tr>\n",
       "      <th>median</th>\n",
       "      <td>6.703827</td>\n",
       "      <td>5.914353</td>\n",
       "      <td>0.789474</td>\n",
       "    </tr>\n",
       "    <tr>\n",
       "      <th>max</th>\n",
       "      <td>7.100147</td>\n",
       "      <td>6.010688</td>\n",
       "      <td>1.089459</td>\n",
       "    </tr>\n",
       "    <tr>\n",
       "      <th>mean</th>\n",
       "      <td>6.720846</td>\n",
       "      <td>5.930627</td>\n",
       "      <td>0.790219</td>\n",
       "    </tr>\n",
       "  </tbody>\n",
       "</table>\n",
       "</div>"
      ],
      "text/plain": [
       "        total_client_compute_func  total_server_compute_func  \\\n",
       "min                      6.528906                   5.846116   \n",
       "median                   6.703827                   5.914353   \n",
       "max                      7.100147                   6.010688   \n",
       "mean                     6.720846                   5.930627   \n",
       "\n",
       "        diff_compute_endpoint  \n",
       "min                  0.682790  \n",
       "median               0.789474  \n",
       "max                  1.089459  \n",
       "mean                 0.790219  "
      ]
     },
     "execution_count": 142,
     "metadata": {},
     "output_type": "execute_result"
    }
   ],
   "source": [
    "# Network Latency\n",
    "# timing-client(endpoint/compute) -  timing-server(endpoint/compute)\n",
    "\n",
    "combined_output_stats[\"diff_compute_endpoint\"] = (\n",
    "    combined_output_stats[\"total_client_compute_func\"]\n",
    "    - combined_output_stats[\"total_server_compute_func\"]\n",
    ")\n",
    "\n",
    "combined_output_stats[['total_client_compute_func', 'total_server_compute_func', 'diff_compute_endpoint']]"
   ]
  },
  {
   "cell_type": "code",
   "execution_count": 143,
   "id": "64dd1142",
   "metadata": {},
   "outputs": [
    {
     "data": {
      "text/html": [
       "<div>\n",
       "<style scoped>\n",
       "    .dataframe tbody tr th:only-of-type {\n",
       "        vertical-align: middle;\n",
       "    }\n",
       "\n",
       "    .dataframe tbody tr th {\n",
       "        vertical-align: top;\n",
       "    }\n",
       "\n",
       "    .dataframe thead th {\n",
       "        text-align: right;\n",
       "    }\n",
       "</style>\n",
       "<table border=\"1\" class=\"dataframe\">\n",
       "  <thead>\n",
       "    <tr style=\"text-align: right;\">\n",
       "      <th></th>\n",
       "      <th>total_timing</th>\n",
       "      <th>time_matmul</th>\n",
       "      <th>diff_total_timing_minus_real_matmul_timing</th>\n",
       "    </tr>\n",
       "  </thead>\n",
       "  <tbody>\n",
       "    <tr>\n",
       "      <th>min</th>\n",
       "      <td>7.098038</td>\n",
       "      <td>5.824324</td>\n",
       "      <td>1.273714</td>\n",
       "    </tr>\n",
       "    <tr>\n",
       "      <th>median</th>\n",
       "      <td>7.428466</td>\n",
       "      <td>5.889600</td>\n",
       "      <td>1.538866</td>\n",
       "    </tr>\n",
       "    <tr>\n",
       "      <th>max</th>\n",
       "      <td>11.387622</td>\n",
       "      <td>5.980948</td>\n",
       "      <td>5.406674</td>\n",
       "    </tr>\n",
       "    <tr>\n",
       "      <th>mean</th>\n",
       "      <td>7.703829</td>\n",
       "      <td>5.904840</td>\n",
       "      <td>1.798989</td>\n",
       "    </tr>\n",
       "  </tbody>\n",
       "</table>\n",
       "</div>"
      ],
      "text/plain": [
       "        total_timing  time_matmul  diff_total_timing_minus_real_matmul_timing\n",
       "min         7.098038     5.824324                                    1.273714\n",
       "median      7.428466     5.889600                                    1.538866\n",
       "max        11.387622     5.980948                                    5.406674\n",
       "mean        7.703829     5.904840                                    1.798989"
      ]
     },
     "execution_count": 143,
     "metadata": {},
     "output_type": "execute_result"
    }
   ],
   "source": [
    "# Network Latency\n",
    "\n",
    "# timing-client(forward) -  timing-server(endpoint/compute/real_matmul)\n",
    "\n",
    "# In the client forward, we include the timing of the :\n",
    "# - input encryption/serialization/transmission +\n",
    "# - all server operations +\n",
    "# - output deserialization/decryption/dequantization\n",
    "\n",
    "combined_output_stats[\"diff_total_timing_minus_real_matmul_timing\"] = (\n",
    "    combined_output_stats[\"total_timing\"]\n",
    "    - combined_output_stats[\"time_matmul\"]\n",
    ")\n",
    "\n",
    "combined_output_stats[['total_timing', 'time_matmul', 'diff_total_timing_minus_real_matmul_timing']]"
   ]
  },
  {
   "cell_type": "markdown",
   "id": "76be2881",
   "metadata": {},
   "source": [
    "The HybridFHEModel enables efficient encrypted fine-tuning and inference by preserving data privacy while minimizing the computational burden on the client side."
   ]
  },
  {
   "cell_type": "markdown",
   "id": "25428126",
   "metadata": {},
   "source": []
  }
 ],
 "metadata": {
  "execution": {
   "timeout": 10800
  },
  "kernelspec": {
   "display_name": ".venv_llama",
   "language": "python",
   "name": "python3"
  },
  "language_info": {
   "codemirror_mode": {
    "name": "ipython",
    "version": 3
   },
   "file_extension": ".py",
   "mimetype": "text/x-python",
   "name": "python",
   "nbconvert_exporter": "python",
   "pygments_lexer": "ipython3",
   "version": "3.12.8"
  }
 },
 "nbformat": 4,
 "nbformat_minor": 5
}
