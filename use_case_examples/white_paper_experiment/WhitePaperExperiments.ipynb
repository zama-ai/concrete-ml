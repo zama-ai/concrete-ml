{
 "cells": [
  {
   "cell_type": "markdown",
   "metadata": {},
   "source": [
    "# Deep MNIST classifiers\n",
    "\n",
    "## Reproducing the results from **Programmable Bootstrapping Enables Efficient Homomorphic Inference of Deep Neural Networks**\n",
    "\n",
    "This notebook replicates experiments from the paper [_Programmable Bootstrapping Enables Efficient Homomorphic Inference of Deep Neural Networks_](https://whitepaper.zama.ai/), published in 2021. This previous work did not use the Concrete compiler.\n",
    "This notebook reproduces the deep neural network architectures NN-20 and NN-50 from the whitepaper and shows how they are [quantized](https://docs.zama.ai/concrete-ml/explanations/quantization) using Post Training Quantization (PTQ) and compiled with Concrete to work on encrypted data.\n",
    "\n",
    "We compare the original paper's findings with the results from the latest version of [Concrete ML](https://pypi.org/project/concrete-ml/). \n",
    "\n",
    "The results shown at the end of this notebook show a large speed-up with respect to the results in the whitepaper."
   ]
  },
  {
   "cell_type": "code",
   "execution_count": 1,
   "metadata": {},
   "outputs": [],
   "source": [
    "import os\n",
    "import random\n",
    "import time\n",
    "import warnings\n",
    "\n",
    "import numpy as np\n",
    "import torch\n",
    "from torchvision import datasets, transforms\n",
    "from utils_experiments import MEAN, STD, format_results_df, plot_dataset, torch_inference\n",
    "\n",
    "from concrete.ml.torch.compile import compile_torch_model\n",
    "\n",
    "warnings.filterwarnings(\"ignore\", category=UserWarning)"
   ]
  },
  {
   "cell_type": "markdown",
   "metadata": {},
   "source": [
    "## Architecture\n",
    "\n",
    "All networks begin with a convolutional layer configured with `in_channel=1, out_channels=1, kernel_size=3, stride=1, padding_mode='replicate'`. \n",
    "\n",
    "This is followed by 20 linear layers of 92 neurones with ReLU activation for NN-20, and 50 layers for NN-50."
   ]
  },
  {
   "cell_type": "code",
   "execution_count": 2,
   "metadata": {},
   "outputs": [],
   "source": [
    "DEVICE = \"cpu\"\n",
    "\n",
    "# Input size, 28x28 pixels, a standard size for MNIST images\n",
    "INPUT_IMG_SIZE = 28\n",
    "\n",
    "# Batch size\n",
    "BATCH_SIZE = 64\n",
    "\n",
    "# Seed to ensure reproducibility\n",
    "SEED = 42\n",
    "\n",
    "# Whether the experiments are run on PC or other machines, like HP7C on AWS\n",
    "MACHINE = f\"{os.cpu_count()}-core machine\"\n",
    "\n",
    "# The timing and the accuracy recorded in the article\n",
    "if os.cpu_count() > 48:\n",
    "    PAPER_NOTES = {20: [21.17, 0.971], 50: [43.91, 0.947]}\n",
    "else:\n",
    "    PAPER_NOTES = {20: [115.52, 0.971], 50: [233.55, 0.947]}"
   ]
  },
  {
   "cell_type": "markdown",
   "metadata": {},
   "source": [
    "## FP32 MNIST Neural Nerwork "
   ]
  },
  {
   "cell_type": "code",
   "execution_count": 3,
   "metadata": {},
   "outputs": [],
   "source": [
    "FEATURES_MAPS = [\n",
    "    # Convolution layer, with:\n",
    "    # in_channel=1, out_channels=1, kernel_size=3, stride=1, padding_mode='replicate'\n",
    "    (\"C\", 1, 1, 3, 1, \"replicate\"),\n",
    "    (\"R\",),\n",
    "    (\"B\", 1, 30),  # 2d batch-norm for 1 channel\n",
    "]\n",
    "\n",
    "\n",
    "# The article presents 3 neural network depths. In this notebook, we focus NN-20 and NN-50\n",
    "# architectures. The parameter `nb_layers`: controls the depth of the NN.\n",
    "def LINEAR_LAYERS(nb_layers: int, output_size: int):\n",
    "    return (  # noqa: W503\n",
    "        [\n",
    "            (\"L\", INPUT_IMG_SIZE * INPUT_IMG_SIZE, 92),\n",
    "            (\"R\",),\n",
    "            (\"B\", 92),  # 1d batch norm\n",
    "        ]  # noqa: W503\n",
    "        + [  # noqa: W503\n",
    "            (\"L\", 92, 92),\n",
    "            (\"R\",),\n",
    "            (\"B\", 92),  # 1d batch norm\n",
    "        ]\n",
    "        * (nb_layers - 3)  # noqa: W503\n",
    "        + [(\"L\", 92, output_size)]  # noqa: W503\n",
    "    )\n",
    "\n",
    "\n",
    "class Fp32MNIST(torch.nn.Module):\n",
    "    \"\"\"MNIST Torch model.\"\"\"\n",
    "\n",
    "    def __init__(self, nb_layers: int, output_size: int = 10):\n",
    "        \"\"\"MNIST Torch model.\n",
    "\n",
    "        Args:\n",
    "            nb_layers (int): Number of layers.\n",
    "            output_size (int): Number of classes.\n",
    "        \"\"\"\n",
    "        super().__init__()\n",
    "\n",
    "        self.nb_layers = nb_layers\n",
    "        self.output_size = output_size\n",
    "\n",
    "        def make_layers(t):\n",
    "            if t[0] == \"C\":\n",
    "                # Workaround: stride=1, padding_mode='replicate' is replaced by\n",
    "                # transforms.Pad(1, padding_mode=\"edge\")\n",
    "                return torch.nn.Conv2d(\n",
    "                    in_channels=t[1],\n",
    "                    out_channels=t[2],\n",
    "                    kernel_size=t[3],\n",
    "                )\n",
    "            if t[0] == \"L\":\n",
    "                return torch.nn.Linear(in_features=t[1], out_features=t[2])\n",
    "            if t[0] == \"R\":\n",
    "                return torch.nn.ReLU()\n",
    "            if t[0] == \"B\":\n",
    "                if len(t) == 2:\n",
    "                    return torch.nn.BatchNorm1d(t[1])\n",
    "                if len(t) == 3:\n",
    "                    return torch.nn.BatchNorm2d(t[1])\n",
    "\n",
    "            raise NameError(f\"'{t}' not defined\")\n",
    "\n",
    "        self.features_maps = torch.nn.Sequential(*[make_layers(t) for t in FEATURES_MAPS])\n",
    "        self.linears = torch.nn.Sequential(\n",
    "            *[make_layers(t) for t in LINEAR_LAYERS(self.nb_layers, self.output_size)]\n",
    "        )\n",
    "\n",
    "    def forward(self, x):\n",
    "        x = self.features_maps(x)\n",
    "        x = torch.nn.Flatten()(x)\n",
    "        x = self.linears(x)\n",
    "        return x"
   ]
  },
  {
   "cell_type": "markdown",
   "metadata": {},
   "source": [
    "## Load and pre-process the MNIST data-set\n"
   ]
  },
  {
   "cell_type": "code",
   "execution_count": 4,
   "metadata": {},
   "outputs": [
    {
     "name": "stdout",
     "output_type": "stream",
     "text": [
      "Downloading http://yann.lecun.com/exdb/mnist/train-images-idx3-ubyte.gz\n",
      "Failed to download (trying next):\n",
      "HTTP Error 403: Forbidden\n",
      "\n",
      "Downloading https://ossci-datasets.s3.amazonaws.com/mnist/train-images-idx3-ubyte.gz\n"
     ]
    },
    {
     "name": "stdout",
     "output_type": "stream",
     "text": [
      "Downloading https://ossci-datasets.s3.amazonaws.com/mnist/train-images-idx3-ubyte.gz to ./data/MNIST/raw/train-images-idx3-ubyte.gz\n"
     ]
    },
    {
     "data": {
      "application/vnd.jupyter.widget-view+json": {
       "model_id": "db11663fea1e45f286356e7dbd1c9b15",
       "version_major": 2,
       "version_minor": 0
      },
      "text/plain": [
       "  0%|          | 0/9912422 [00:00<?, ?it/s]"
      ]
     },
     "metadata": {},
     "output_type": "display_data"
    },
    {
     "name": "stdout",
     "output_type": "stream",
     "text": [
      "Extracting ./data/MNIST/raw/train-images-idx3-ubyte.gz to ./data/MNIST/raw\n"
     ]
    },
    {
     "name": "stdout",
     "output_type": "stream",
     "text": [
      "\n",
      "Downloading http://yann.lecun.com/exdb/mnist/train-labels-idx1-ubyte.gz\n",
      "Failed to download (trying next):\n",
      "HTTP Error 403: Forbidden\n",
      "\n",
      "Downloading https://ossci-datasets.s3.amazonaws.com/mnist/train-labels-idx1-ubyte.gz\n"
     ]
    },
    {
     "name": "stdout",
     "output_type": "stream",
     "text": [
      "Downloading https://ossci-datasets.s3.amazonaws.com/mnist/train-labels-idx1-ubyte.gz to ./data/MNIST/raw/train-labels-idx1-ubyte.gz\n"
     ]
    },
    {
     "data": {
      "application/vnd.jupyter.widget-view+json": {
       "model_id": "6d31e8c56a294358821dfa2766d4f828",
       "version_major": 2,
       "version_minor": 0
      },
      "text/plain": [
       "  0%|          | 0/28881 [00:00<?, ?it/s]"
      ]
     },
     "metadata": {},
     "output_type": "display_data"
    },
    {
     "name": "stdout",
     "output_type": "stream",
     "text": [
      "Extracting ./data/MNIST/raw/train-labels-idx1-ubyte.gz to ./data/MNIST/raw\n",
      "\n",
      "Downloading http://yann.lecun.com/exdb/mnist/t10k-images-idx3-ubyte.gz\n",
      "Failed to download (trying next):\n",
      "HTTP Error 403: Forbidden\n",
      "\n",
      "Downloading https://ossci-datasets.s3.amazonaws.com/mnist/t10k-images-idx3-ubyte.gz\n"
     ]
    },
    {
     "name": "stdout",
     "output_type": "stream",
     "text": [
      "Downloading https://ossci-datasets.s3.amazonaws.com/mnist/t10k-images-idx3-ubyte.gz to ./data/MNIST/raw/t10k-images-idx3-ubyte.gz\n"
     ]
    },
    {
     "data": {
      "application/vnd.jupyter.widget-view+json": {
       "model_id": "273c4f79e2fc4f6b90cb2693326f6b87",
       "version_major": 2,
       "version_minor": 0
      },
      "text/plain": [
       "  0%|          | 0/1648877 [00:00<?, ?it/s]"
      ]
     },
     "metadata": {},
     "output_type": "display_data"
    },
    {
     "name": "stdout",
     "output_type": "stream",
     "text": [
      "Extracting ./data/MNIST/raw/t10k-images-idx3-ubyte.gz to ./data/MNIST/raw\n",
      "\n",
      "Downloading http://yann.lecun.com/exdb/mnist/t10k-labels-idx1-ubyte.gz\n",
      "Failed to download (trying next):\n",
      "HTTP Error 403: Forbidden\n",
      "\n",
      "Downloading https://ossci-datasets.s3.amazonaws.com/mnist/t10k-labels-idx1-ubyte.gz\n"
     ]
    },
    {
     "name": "stdout",
     "output_type": "stream",
     "text": [
      "Downloading https://ossci-datasets.s3.amazonaws.com/mnist/t10k-labels-idx1-ubyte.gz to ./data/MNIST/raw/t10k-labels-idx1-ubyte.gz\n"
     ]
    },
    {
     "data": {
      "application/vnd.jupyter.widget-view+json": {
       "model_id": "aa1f2e4d99bb40faaa58fbb17645dffe",
       "version_major": 2,
       "version_minor": 0
      },
      "text/plain": [
       "  0%|          | 0/4542 [00:00<?, ?it/s]"
      ]
     },
     "metadata": {},
     "output_type": "display_data"
    },
    {
     "name": "stdout",
     "output_type": "stream",
     "text": [
      "Extracting ./data/MNIST/raw/t10k-labels-idx1-ubyte.gz to ./data/MNIST/raw\n",
      "\n"
     ]
    },
    {
     "data": {
      "image/png": "[encoded data removed]",
      "text/plain": [
       "<Figure size 1200x600 with 1 Axes>"
      ]
     },
     "metadata": {},
     "output_type": "display_data"
    }
   ],
   "source": [
    "g = torch.Generator()\n",
    "g.manual_seed(SEED)\n",
    "np.random.seed(SEED)\n",
    "torch.manual_seed(SEED)\n",
    "random.seed(SEED)\n",
    "\n",
    "train_transform = transforms.Compose(\n",
    "    [  # Workaround: stride=1, padding_mode='replicate' is replaced by\n",
    "        transforms.Pad(1, padding_mode=\"edge\"),\n",
    "        transforms.ToTensor(),\n",
    "        transforms.Normalize((MEAN,), (STD,)),\n",
    "    ]\n",
    ")\n",
    "test_transform = transforms.Compose(\n",
    "    [  # Workaround: stride=1, padding_mode='replicate' is replaced by\n",
    "        transforms.Pad(1, padding_mode=\"edge\"),\n",
    "        transforms.ToTensor(),\n",
    "        transforms.Normalize((MEAN,), (STD,)),\n",
    "    ]\n",
    ")\n",
    "\n",
    "train_dataset = datasets.MNIST(download=True, root=\"./data\", train=True, transform=train_transform)\n",
    "\n",
    "test_dataset = datasets.MNIST(download=True, root=\"./data\", train=False, transform=test_transform)\n",
    "\n",
    "train_loader = torch.utils.data.DataLoader(\n",
    "    train_dataset,\n",
    "    batch_size=BATCH_SIZE,\n",
    "    shuffle=True,\n",
    "    drop_last=True,\n",
    "    generator=g,\n",
    ")\n",
    "\n",
    "test_loader = torch.utils.data.DataLoader(\n",
    "    test_dataset,\n",
    "    batch_size=BATCH_SIZE,\n",
    "    shuffle=True,\n",
    "    drop_last=True,\n",
    "    generator=g,\n",
    ")\n",
    "\n",
    "plot_dataset(train_loader)"
   ]
  },
  {
   "cell_type": "markdown",
   "metadata": {},
   "source": [
    "## Model architecture\n",
    "\n",
    "The following cell shows the architecture of the NN-20 model. It contains one convolutional layer and 19 linear ones. "
   ]
  },
  {
   "cell_type": "code",
   "execution_count": 5,
   "metadata": {},
   "outputs": [
    {
     "name": "stdout",
     "output_type": "stream",
     "text": [
      "Fp32MNIST(\n",
      "  (features_maps): Sequential(\n",
      "    (0): Conv2d(1, 1, kernel_size=(3, 3), stride=(1, 1))\n",
      "    (1): ReLU()\n",
      "    (2): BatchNorm2d(1, eps=1e-05, momentum=0.1, affine=True, track_running_stats=True)\n",
      "  )\n",
      "  (linears): Sequential(\n",
      "    (0): Linear(in_features=784, out_features=92, bias=True)\n",
      "    (1): ReLU()\n",
      "    (2): BatchNorm1d(92, eps=1e-05, momentum=0.1, affine=True, track_running_stats=True)\n",
      "    (3): Linear(in_features=92, out_features=92, bias=True)\n",
      "    (4): ReLU()\n",
      "    (5): BatchNorm1d(92, eps=1e-05, momentum=0.1, affine=True, track_running_stats=True)\n",
      "    (6): Linear(in_features=92, out_features=92, bias=True)\n",
      "    (7): ReLU()\n",
      "    (8): BatchNorm1d(92, eps=1e-05, momentum=0.1, affine=True, track_running_stats=True)\n",
      "    (9): Linear(in_features=92, out_features=92, bias=True)\n",
      "    (10): ReLU()\n",
      "    (11): BatchNorm1d(92, eps=1e-05, momentum=0.1, affine=True, track_running_stats=True)\n",
      "    (12): Linear(in_features=92, out_features=92, bias=True)\n",
      "    (13): ReLU()\n",
      "    (14): BatchNorm1d(92, eps=1e-05, momentum=0.1, affine=True, track_running_stats=True)\n",
      "    (15): Linear(in_features=92, out_features=92, bias=True)\n",
      "    (16): ReLU()\n",
      "    (17): BatchNorm1d(92, eps=1e-05, momentum=0.1, affine=True, track_running_stats=True)\n",
      "    (18): Linear(in_features=92, out_features=92, bias=True)\n",
      "    (19): ReLU()\n",
      "    (20): BatchNorm1d(92, eps=1e-05, momentum=0.1, affine=True, track_running_stats=True)\n",
      "    (21): Linear(in_features=92, out_features=92, bias=True)\n",
      "    (22): ReLU()\n",
      "    (23): BatchNorm1d(92, eps=1e-05, momentum=0.1, affine=True, track_running_stats=True)\n",
      "    (24): Linear(in_features=92, out_features=92, bias=True)\n",
      "    (25): ReLU()\n",
      "    (26): BatchNorm1d(92, eps=1e-05, momentum=0.1, affine=True, track_running_stats=True)\n",
      "    (27): Linear(in_features=92, out_features=92, bias=True)\n",
      "    (28): ReLU()\n",
      "    (29): BatchNorm1d(92, eps=1e-05, momentum=0.1, affine=True, track_running_stats=True)\n",
      "    (30): Linear(in_features=92, out_features=92, bias=True)\n",
      "    (31): ReLU()\n",
      "    (32): BatchNorm1d(92, eps=1e-05, momentum=0.1, affine=True, track_running_stats=True)\n",
      "    (33): Linear(in_features=92, out_features=92, bias=True)\n",
      "    (34): ReLU()\n",
      "    (35): BatchNorm1d(92, eps=1e-05, momentum=0.1, affine=True, track_running_stats=True)\n",
      "    (36): Linear(in_features=92, out_features=92, bias=True)\n",
      "    (37): ReLU()\n",
      "    (38): BatchNorm1d(92, eps=1e-05, momentum=0.1, affine=True, track_running_stats=True)\n",
      "    (39): Linear(in_features=92, out_features=92, bias=True)\n",
      "    (40): ReLU()\n",
      "    (41): BatchNorm1d(92, eps=1e-05, momentum=0.1, affine=True, track_running_stats=True)\n",
      "    (42): Linear(in_features=92, out_features=92, bias=True)\n",
      "    (43): ReLU()\n",
      "    (44): BatchNorm1d(92, eps=1e-05, momentum=0.1, affine=True, track_running_stats=True)\n",
      "    (45): Linear(in_features=92, out_features=92, bias=True)\n",
      "    (46): ReLU()\n",
      "    (47): BatchNorm1d(92, eps=1e-05, momentum=0.1, affine=True, track_running_stats=True)\n",
      "    (48): Linear(in_features=92, out_features=92, bias=True)\n",
      "    (49): ReLU()\n",
      "    (50): BatchNorm1d(92, eps=1e-05, momentum=0.1, affine=True, track_running_stats=True)\n",
      "    (51): Linear(in_features=92, out_features=92, bias=True)\n",
      "    (52): ReLU()\n",
      "    (53): BatchNorm1d(92, eps=1e-05, momentum=0.1, affine=True, track_running_stats=True)\n",
      "    (54): Linear(in_features=92, out_features=10, bias=True)\n",
      "  )\n",
      ")\n"
     ]
    }
   ],
   "source": [
    "fp32_mnist = Fp32MNIST(nb_layers=20).to(DEVICE)\n",
    "print(fp32_mnist)"
   ]
  },
  {
   "cell_type": "markdown",
   "metadata": {},
   "source": [
    "## Benchmark the models\n",
    "\n",
    "In the next sections of this notebook, we apply the same experimental protocol to both NN-20 and NN-50 models.\n",
    "\n",
    "To make a custom neural network FHE-compatible, it's necessary to quantize both the network and its inputs. Post-Training Quantization (PTQ) involves quantizes a pre-trained floating-point model directly, and does not require re-training. In Concrete ML, the compilation of the custom NNs is performed through `compile_torch_model` function\n"
   ]
  },
  {
   "cell_type": "markdown",
   "metadata": {},
   "source": [
    "In the compilation step, the compiler requires a representative set of data,  named `data_calibration` below, to evaluate the maximum integer bit-width within the graph."
   ]
  },
  {
   "cell_type": "code",
   "execution_count": 6,
   "metadata": {},
   "outputs": [
    {
     "name": "stdout",
     "output_type": "stream",
     "text": [
      "Running NN-20 on a 128-core machine machine:Accuracy in fp32 : 98.067% for the test set\n",
      "Accuracy with FHE-simulation mode : 95.803% for the test set\n",
      "FHE Latency on encrypted data : 1.918s per encrypted sample.\n",
      "Number of PBS: 2440\n"
     ]
    },
    {
     "name": "stdout",
     "output_type": "stream",
     "text": [
      "Running NN-50 on a 128-core machine machine:Accuracy in fp32 : 97.446% for the test set\n",
      "Accuracy with FHE-simulation mode : 94.631% for the test set\n",
      "FHE Latency on encrypted data : 4.902s per encrypted sample.\n",
      "Number of PBS: 5200\n"
     ]
    }
   ],
   "source": [
    "data_calibration = next(iter(train_loader))[0]\n",
    "\n",
    "results_cml = {}\n",
    "\n",
    "for nb_layers in [20, 50]:\n",
    "\n",
    "    fp32_mnist = Fp32MNIST(nb_layers=nb_layers).to(DEVICE)\n",
    "\n",
    "    checkpoint = torch.load(\n",
    "        f\"./checkpoints/MNIST/MLP_{nb_layers}/fp32/MNIST_fp32_state_dict.pt\", map_location=DEVICE\n",
    "    )\n",
    "    fp32_mnist.load_state_dict(checkpoint)\n",
    "    fp32_mnist.eval()\n",
    "\n",
    "    acc_test = torch_inference(fp32_mnist, test_loader, device=DEVICE)\n",
    "\n",
    "    # The model is compiled through 'compile_torch_model' method\n",
    "    # We use approximate rounding and a p_error value of 0.1\n",
    "    # These values work well for neural networks which are robust to noise\n",
    "    # in the computation of intermediate values.\n",
    "    q_module = compile_torch_model(\n",
    "        fp32_mnist.to(DEVICE),\n",
    "        torch_inputset=data_calibration,\n",
    "        n_bits=6,\n",
    "        rounding_threshold_bits={\"n_bits\": 6, \"method\": \"APPROXIMATE\"},\n",
    "        p_error=0.1,\n",
    "    )\n",
    "\n",
    "    fhe_timing = []\n",
    "    y_predictions = []\n",
    "    fhe_samples = 3\n",
    "\n",
    "    # The model is evaluated through all the test data-set in 'simulation' mode\n",
    "    for i, (data, labels) in enumerate(test_loader):\n",
    "\n",
    "        data, labels = data.detach().cpu().numpy(), labels.detach().cpu().numpy()\n",
    "        simulate_predictions = q_module.forward(data, fhe=\"simulate\")\n",
    "        y_predictions.extend(simulate_predictions.argmax(1) == labels)\n",
    "\n",
    "        # Measure FHE latency on three samples and take the minimum\n",
    "        if i <= fhe_samples:\n",
    "            start_time = time.time()\n",
    "            q_module.forward(data[0, None], fhe=\"execute\")\n",
    "            fhe_timing.append((time.time() - start_time))\n",
    "\n",
    "    results_cml[nb_layers] = [acc_test, np.mean(y_predictions), np.min(fhe_timing)]\n",
    "\n",
    "    print(\n",
    "        f\"Running NN-{nb_layers} on a {MACHINE} machine:\"\n",
    "        f\"Accuracy in fp32 : {results_cml[nb_layers][0]:.3%} for the test set\\n\"\n",
    "        f\"Accuracy with FHE-simulation mode : {results_cml[nb_layers][1]:.3%} for the test set\\n\"\n",
    "        f\"FHE Latency on encrypted data : {results_cml[nb_layers][2]:.3f}s per encrypted sample.\\n\"\n",
    "        f\"Number of PBS: {q_module.fhe_circuit.statistics['programmable_bootstrap_count']}\"\n",
    "    )"
   ]
  },
  {
   "cell_type": "markdown",
   "metadata": {},
   "source": [
    "## Conclusion\n",
    "\n",
    "Here is a recap of the results obtained by running this notebook, compared to the results in the whitepaper [1].\n",
    "\n",
    "A pre-computed comparison to a `hpc7a` instance with 192 vCPU is also shown when running this notebook on a large server machine."
   ]
  },
  {
   "cell_type": "code",
   "execution_count": 7,
   "metadata": {},
   "outputs": [
    {
     "data": {
      "text/html": [
       "<style type=\"text/css\">\n",
       "</style>\n",
       "<table id=\"T_4ba03\">\n",
       "  <thead>\n",
       "    <tr>\n",
       "      <th class=\"blank level0\" >&nbsp;</th>\n",
       "      <th id=\"T_4ba03_level0_col0\" class=\"col_heading level0 col0\" >Num Layers</th>\n",
       "      <th id=\"T_4ba03_level0_col1\" class=\"col_heading level0 col1\" >Accuracy [1]</th>\n",
       "      <th id=\"T_4ba03_level0_col2\" class=\"col_heading level0 col2\" >FHE Latency [1]</th>\n",
       "      <th id=\"T_4ba03_level0_col3\" class=\"col_heading level0 col3\" >Our Accuracy fp32</th>\n",
       "      <th id=\"T_4ba03_level0_col4\" class=\"col_heading level0 col4\" >Our Accuracy FHE</th>\n",
       "      <th id=\"T_4ba03_level0_col5\" class=\"col_heading level0 col5\" >Our FHE Latency</th>\n",
       "      <th id=\"T_4ba03_level0_col6\" class=\"col_heading level0 col6\" >Speedup</th>\n",
       "    </tr>\n",
       "  </thead>\n",
       "  <tbody>\n",
       "    <tr>\n",
       "      <th id=\"T_4ba03_level0_row0\" class=\"row_heading level0 row0\" >0</th>\n",
       "      <td id=\"T_4ba03_row0_col0\" class=\"data row0 col0\" >20</td>\n",
       "      <td id=\"T_4ba03_row0_col1\" class=\"data row0 col1\" >97.1%</td>\n",
       "      <td id=\"T_4ba03_row0_col2\" class=\"data row0 col2\" >21.17s</td>\n",
       "      <td id=\"T_4ba03_row0_col3\" class=\"data row0 col3\" >98.1%</td>\n",
       "      <td id=\"T_4ba03_row0_col4\" class=\"data row0 col4\" >95.8%</td>\n",
       "      <td id=\"T_4ba03_row0_col5\" class=\"data row0 col5\" >1.92s</td>\n",
       "      <td id=\"T_4ba03_row0_col6\" class=\"data row0 col6\" >11.0x</td>\n",
       "    </tr>\n",
       "    <tr>\n",
       "      <th id=\"T_4ba03_level0_row1\" class=\"row_heading level0 row1\" >1</th>\n",
       "      <td id=\"T_4ba03_row1_col0\" class=\"data row1 col0\" >50</td>\n",
       "      <td id=\"T_4ba03_row1_col1\" class=\"data row1 col1\" >94.7%</td>\n",
       "      <td id=\"T_4ba03_row1_col2\" class=\"data row1 col2\" >43.91s</td>\n",
       "      <td id=\"T_4ba03_row1_col3\" class=\"data row1 col3\" >97.4%</td>\n",
       "      <td id=\"T_4ba03_row1_col4\" class=\"data row1 col4\" >94.6%</td>\n",
       "      <td id=\"T_4ba03_row1_col5\" class=\"data row1 col5\" >4.90s</td>\n",
       "      <td id=\"T_4ba03_row1_col6\" class=\"data row1 col6\" >9.0x</td>\n",
       "    </tr>\n",
       "  </tbody>\n",
       "</table>\n"
      ],
      "text/plain": [
       "<pandas.io.formats.style.Styler at 0x7f99e89357c0>"
      ]
     },
     "execution_count": 7,
     "metadata": {},
     "output_type": "execute_result"
    }
   ],
   "source": [
    "df, fmt = format_results_df(PAPER_NOTES, results_cml, \"Our\")\n",
    "df.style.format(fmt)"
   ]
  },
  {
   "cell_type": "code",
   "execution_count": 8,
   "metadata": {},
   "outputs": [
    {
     "data": {
      "text/html": [
       "<style type=\"text/css\">\n",
       "</style>\n",
       "<table id=\"T_e8864\">\n",
       "  <thead>\n",
       "    <tr>\n",
       "      <th class=\"blank level0\" >&nbsp;</th>\n",
       "      <th id=\"T_e8864_level0_col0\" class=\"col_heading level0 col0\" >Num Layers</th>\n",
       "      <th id=\"T_e8864_level0_col1\" class=\"col_heading level0 col1\" >Accuracy [1]</th>\n",
       "      <th id=\"T_e8864_level0_col2\" class=\"col_heading level0 col2\" >FHE Latency [1]</th>\n",
       "      <th id=\"T_e8864_level0_col3\" class=\"col_heading level0 col3\" >hpc7a Accuracy fp32</th>\n",
       "      <th id=\"T_e8864_level0_col4\" class=\"col_heading level0 col4\" >hpc7a Accuracy FHE</th>\n",
       "      <th id=\"T_e8864_level0_col5\" class=\"col_heading level0 col5\" >hpc7a FHE Latency</th>\n",
       "      <th id=\"T_e8864_level0_col6\" class=\"col_heading level0 col6\" >Speedup</th>\n",
       "    </tr>\n",
       "  </thead>\n",
       "  <tbody>\n",
       "    <tr>\n",
       "      <th id=\"T_e8864_level0_row0\" class=\"row_heading level0 row0\" >0</th>\n",
       "      <td id=\"T_e8864_row0_col0\" class=\"data row0 col0\" >20</td>\n",
       "      <td id=\"T_e8864_row0_col1\" class=\"data row0 col1\" >97.1%</td>\n",
       "      <td id=\"T_e8864_row0_col2\" class=\"data row0 col2\" >21.17s</td>\n",
       "      <td id=\"T_e8864_row0_col3\" class=\"data row0 col3\" >98.7%</td>\n",
       "      <td id=\"T_e8864_row0_col4\" class=\"data row0 col4\" >95.9%</td>\n",
       "      <td id=\"T_e8864_row0_col5\" class=\"data row0 col5\" >0.99s</td>\n",
       "      <td id=\"T_e8864_row0_col6\" class=\"data row0 col6\" >21.3x</td>\n",
       "    </tr>\n",
       "    <tr>\n",
       "      <th id=\"T_e8864_level0_row1\" class=\"row_heading level0 row1\" >1</th>\n",
       "      <td id=\"T_e8864_row1_col0\" class=\"data row1 col0\" >50</td>\n",
       "      <td id=\"T_e8864_row1_col1\" class=\"data row1 col1\" >94.7%</td>\n",
       "      <td id=\"T_e8864_row1_col2\" class=\"data row1 col2\" >43.91s</td>\n",
       "      <td id=\"T_e8864_row1_col3\" class=\"data row1 col3\" >97.5%</td>\n",
       "      <td id=\"T_e8864_row1_col4\" class=\"data row1 col4\" >94.8%</td>\n",
       "      <td id=\"T_e8864_row1_col5\" class=\"data row1 col5\" >3.03s</td>\n",
       "      <td id=\"T_e8864_row1_col6\" class=\"data row1 col6\" >14.5x</td>\n",
       "    </tr>\n",
       "  </tbody>\n",
       "</table>\n"
      ],
      "text/plain": [
       "<pandas.io.formats.style.Styler at 0x7f984811f550>"
      ]
     },
     "execution_count": 8,
     "metadata": {},
     "output_type": "execute_result"
    }
   ],
   "source": [
    "# This benchmark was done on a hpc7 machine with 192-cores\n",
    "BENCH_HPC7A = {20: [0.987, 0.959, 0.995], 50: [0.9745, 0.9477, 3.03]}\n",
    "\n",
    "df, fmt = format_results_df(PAPER_NOTES, BENCH_HPC7A, \"hpc7a\")\n",
    "df.style.format(fmt)"
   ]
  },
  {
   "cell_type": "markdown",
   "metadata": {},
   "source": [
    "As shown in the table above, on the `hpc7` instance, Concrete ML achieves a ~20x speed-up compared to the whitepaper."
   ]
  }
 ],
 "metadata": {
  "execution": {
   "timeout": 10800
  }
 },
 "nbformat": 4,
 "nbformat_minor": 2
}
