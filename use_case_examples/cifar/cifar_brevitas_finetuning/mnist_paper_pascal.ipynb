{
 "cells": [
  {
   "cell_type": "code",
   "execution_count": 1,
   "metadata": {},
   "outputs": [],
   "source": [
    "import pickle as pkl\n",
    "import random\n",
    "import sys\n",
    "import warnings\n",
    "from collections import OrderedDict\n",
    "from glob import glob\n",
    "from pathlib import Path\n",
    "from time import time\n",
    "from typing import Callable, Dict, Optional, Tuple\n",
    "\n",
    "import brevitas\n",
    "import brevitas.nn as qnn\n",
    "import matplotlib.pyplot as plt\n",
    "import numpy as np\n",
    "import torch\n",
    "import torch.nn as nn\n",
    "from brevitas import config\n",
    "from brevitas.quant import Int8ActPerTensorFloat, Int8WeightPerTensorFloat\n",
    "from concrete.fhe.compilation import Configuration\n",
    "from sklearn.metrics import top_k_accuracy_score\n",
    "from torch.utils.data import DataLoader\n",
    "from torch.utils.data.dataloader import DataLoader\n",
    "from torchvision import datasets, transforms\n",
    "from torchvision.utils import make_grid\n",
    "from tqdm import tqdm\n",
    "\n",
    "from concrete.ml.torch.compile import compile_brevitas_qat_model\n",
    "\n",
    "warnings.filterwarnings(\"ignore\", category=UserWarning)\n",
    "\n",
    "\n",
    "from cifar_utils import (\n",
    "    fhe_compatibility,\n",
    "    get_dataloader,\n",
    "    mapping_keys,\n",
    "    plot_baseline,\n",
    "    plot_dataset,\n",
    "    torch_inference,\n",
    "    train,\n",
    ")"
   ]
  },
  {
   "cell_type": "code",
   "execution_count": 2,
   "metadata": {},
   "outputs": [],
   "source": [
    "# class Flatten(torch.nn.Module):\n",
    "#     def forward(self, x):\n",
    "#         batch_size = x.shape[0]\n",
    "#         return x.view(batch_size, -1)\n",
    "\n",
    "# m = torch.diag(torch.full((92,92), 3.))\n",
    "# class Diag(torch.nn.Module):\n",
    "#     def forward(self, x):\n",
    "#         print(x.shape, \"Diag\")\n",
    "#         diag = torch.matmul(x, m)\n",
    "\n",
    "#         print(diag.shape, \"after Diag\")\n",
    "#         return torch.matmul(x, m)"
   ]
  },
  {
   "cell_type": "code",
   "execution_count": 3,
   "metadata": {},
   "outputs": [],
   "source": [
    "input_size = 28\n",
    "\n",
    "FEATURES_MAPS = [\n",
    "    (\"I\",),\n",
    "    # Layer 1: input_size, out_size, kernel_size=t[3], stride=t[4], padding=t[5], padding_mode=\"replicate\")\n",
    "    (\"C\", 1, 1, 3, 1, 1, \"replicate\"),\n",
    "    (\"R\",),\n",
    "]\n",
    "\n",
    "# In the paper, we have 17 identity layers (frozen layers)\n",
    "LINEAR_LAYERS = (\n",
    "    [(\"L\", input_size * input_size, 92), \"R\"] + [(\"L\", 92, 92), (\"R\",)] * 17 + [(\"L\", 92, 10)]\n",
    ")"
   ]
  },
  {
   "cell_type": "markdown",
   "metadata": {},
   "source": [
    "<!> Since MNIST is a relatively simple task, training a floating-point model and then fine-tuning the quantized model yields the same results as training the quantized model from scratch.\n",
    "\n",
    "- If we train first the FP32, then assign the weights to the Brevitas model, and finally finetune it, we save like  10 epochs \n",
    "\n",
    "<!> That's why the following cell is disabled."
   ]
  },
  {
   "cell_type": "code",
   "execution_count": 14,
   "metadata": {},
   "outputs": [],
   "source": [
    "class Fp32MNIST(nn.Module):\n",
    "    def __init__(self, output_size: int):\n",
    "        super(Fp32MNIST, self).__init__()\n",
    "        \"\"\" Torch model.\n",
    "\n",
    "        Args:\n",
    "            output_size (int): Number of classes.\n",
    "        \"\"\"\n",
    "        self.output_size = output_size\n",
    "\n",
    "        def make_layers(t):\n",
    "\n",
    "            if t[0] == \"C\":\n",
    "                return nn.Conv2d(t[1], t[2], kernel_size=t[3], stride=t[4], padding=t[5], padding_mode=t[6])\n",
    "            elif t[0] == \"L\":\n",
    "                return nn.Linear(in_features=t[1], out_features=t[2])\n",
    "            elif t[0] == \"R\":\n",
    "                return nn.ReLU()\n",
    "            elif t[0] == \"F\":\n",
    "                return nn.Flatten(1, -1)\n",
    "            elif t[0] == \"ID\":\n",
    "\n",
    "                return Diag()\n",
    "            else:\n",
    "                raise NameError(f\"{t} not defined\")\n",
    "\n",
    "        self.features_maps = nn.Sequential(*[make_layers(t) for t in FEATURES_MAPS if t[0] != \"I\"])\n",
    "        self.linears = nn.Sequential(*[make_layers(t) for t in LINEAR_LAYERS if t[0] != \"I\"])\n",
    "\n",
    "    def forward(self, x):\n",
    "        x = self.features_maps(x)\n",
    "        x = nn.Flatten()(x)\n",
    "        x = self.linears(x)\n",
    "        return x"
   ]
  },
  {
   "cell_type": "code",
   "execution_count": 5,
   "metadata": {},
   "outputs": [],
   "source": [
    "class QuantMNIST(nn.Module):\n",
    "    def __init__(\n",
    "        self,\n",
    "        bit: int,\n",
    "        output_size: int = 3,\n",
    "        act_quant: brevitas.quant = Int8ActPerTensorFloat,\n",
    "        weight_quant: brevitas.quant = Int8WeightPerTensorFloat,\n",
    "    ):\n",
    "        \"\"\"A quantized network with Brevitas.\n",
    "\n",
    "        Args:\n",
    "            bit (int): Bit of quantization.\n",
    "            output_size (int): Number of classes.\n",
    "            act_quant (brevitas.quant): Quantization protocol of activations.\n",
    "            weight_quant (brevitas.quant): Quantization protocol of the weights.\n",
    "\n",
    "        \"\"\"\n",
    "        super(QuantMNIST, self).__init__()\n",
    "        self.bit = bit\n",
    "\n",
    "        def tuple2quantlayer(t):\n",
    "            if t[0] == \"R\":\n",
    "                return qnn.QuantReLU(return_quant_tensor=True, bit_width=bit, act_quant=act_quant)\n",
    "            if t[0] == \"C\":\n",
    "                return qnn.QuantConv2d(\n",
    "                    t[1],\n",
    "                    t[2],\n",
    "                    kernel_size=t[3],\n",
    "                    stride=t[4],\n",
    "                    padding=t[5],\n",
    "                    weight_bit_width=2,\n",
    "                    weight_quant=weight_quant,\n",
    "                    return_quant_tensor=True,\n",
    "                )\n",
    "            if t[0] == \"L\":\n",
    "                return qnn.QuantLinear(\n",
    "                    in_features=t[1],\n",
    "                    out_features=t[2],\n",
    "                    weight_bit_width=bit,\n",
    "                    weight_quant=weight_quant,\n",
    "                    bias=True,\n",
    "                    return_quant_tensor=True,\n",
    "                )\n",
    "            if t[0] == \"I\":\n",
    "                identity_quant = t[1] if len(t) == 2 else bit\n",
    "                return qnn.QuantIdentity(\n",
    "                    bit_width=identity_quant, act_quant=act_quant, return_quant_tensor=True\n",
    "                )\n",
    "\n",
    "        self.features_maps = nn.Sequential(\n",
    "            *[tuple2quantlayer(t) for t in FEATURES_MAPS if t[0] != \"I\"]\n",
    "        )\n",
    "\n",
    "        # self.identity1 and self.identity2 are used to encapsulate the `torch.flatten`.\n",
    "        self.identity1 = qnn.QuantIdentity(\n",
    "            bit_width=bit, act_quant=act_quant, return_quant_tensor=True\n",
    "        )\n",
    "\n",
    "        self.identity2 = qnn.QuantIdentity(\n",
    "            bit_width=bit, act_quant=act_quant, return_quant_tensor=True\n",
    "        )\n",
    "\n",
    "        self.linears = nn.Sequential(*[tuple2quantlayer(t) for t in LINEAR_LAYERS if t[0] != \"I\"])\n",
    "\n",
    "    def forward(self, x):\n",
    "        x = self.features_maps(x)\n",
    "        x = self.identity1(x)\n",
    "        # As `torch.flatten` is a PyTorch layer, you must place it between two `QuantIdentity`\n",
    "        # layers to ensure that all intermediate values of the network are properly quantized.\n",
    "        x = torch.flatten(x, 1)\n",
    "        # Replace `x.view(x.shape[0], -1)` by `torch.flatten(x, 1)` which is an equivalent\n",
    "        # But is compatible with Concrete ML.\n",
    "        x = self.identity2(x)\n",
    "        x = self.linears(x)\n",
    "        return x.value"
   ]
  },
  {
   "cell_type": "markdown",
   "metadata": {},
   "source": [
    "Train the model"
   ]
  },
  {
   "cell_type": "code",
   "execution_count": 6,
   "metadata": {},
   "outputs": [
    {
     "data": {
      "image/png": "[encoded data removed]",
      "text/plain": [
       "<Figure size 1200x600 with 1 Axes>"
      ]
     },
     "metadata": {},
     "output_type": "display_data"
    }
   ],
   "source": [
    "param = {\n",
    "    \"output_size\": 10,\n",
    "    \"batch_size\": 64,\n",
    "    \"dataset_name\": \"MNIST\",\n",
    "    \"dataset\": datasets.MNIST,\n",
    "    \"dir\": \"./checkpoints/MNIST_V747\",\n",
    "    \"training\": \"fp32\",\n",
    "    \"criterion\": torch.nn.CrossEntropyLoss(),\n",
    "    \"accuracy_test\": [],\n",
    "    \"accuracy_train\": [],\n",
    "    \"loss_test_history\": [],\n",
    "    \"loss_train_history\": [],\n",
    "    \"seed\": 42,\n",
    "}\n",
    "\n",
    "device = \"cuda\" if torch.cuda.is_available() else \"cpu\"\n",
    "\n",
    "train_loader, test_loader = get_dataloader(param=param)\n",
    "\n",
    "plot_dataset(test_loader, param)"
   ]
  },
  {
   "cell_type": "code",
   "execution_count": 7,
   "metadata": {},
   "outputs": [
    {
     "data": {
      "text/plain": [
       "torch.Size([64, 1, 28, 28])"
      ]
     },
     "execution_count": 7,
     "metadata": {},
     "output_type": "execute_result"
    }
   ],
   "source": [
    "for x, y in train_loader:\n",
    "    break\n",
    "\n",
    "x.shape"
   ]
  },
  {
   "cell_type": "code",
   "execution_count": 15,
   "metadata": {},
   "outputs": [
    {
     "name": "stdout",
     "output_type": "stream",
     "text": [
      "features_maps.0.weight True\n",
      "features_maps.0.bias True\n",
      "linears.0.weight True\n",
      "linears.0.bias True\n",
      "linears.2.weight False\n",
      "linears.2.bias False\n",
      "linears.4.weight False\n",
      "linears.4.bias False\n",
      "linears.6.weight False\n",
      "linears.6.bias False\n",
      "linears.8.weight False\n",
      "linears.8.bias False\n",
      "linears.10.weight False\n",
      "linears.10.bias False\n",
      "linears.12.weight False\n",
      "linears.12.bias False\n",
      "linears.14.weight False\n",
      "linears.14.bias False\n",
      "linears.16.weight False\n",
      "linears.16.bias False\n",
      "linears.18.weight False\n",
      "linears.18.bias False\n",
      "linears.20.weight False\n",
      "linears.20.bias False\n",
      "linears.22.weight False\n",
      "linears.22.bias False\n",
      "linears.24.weight False\n",
      "linears.24.bias False\n",
      "linears.26.weight False\n",
      "linears.26.bias False\n",
      "linears.28.weight False\n",
      "linears.28.bias False\n",
      "linears.30.weight False\n",
      "linears.30.bias False\n",
      "linears.32.weight False\n",
      "linears.32.bias False\n",
      "linears.34.weight False\n",
      "linears.34.bias False\n",
      "linears.36.weight True\n",
      "linears.36.bias True\n"
     ]
    }
   ],
   "source": [
    "# Instantiation of the custom VGG-11 network.\n",
    "\n",
    "fp32_mnist = Fp32MNIST(param['output_size']).to(device)\n",
    "\n",
    "# # We freeze all the layers.\n",
    "for n, p in list(fp32_mnist.named_parameters())[4: -2]:\n",
    "        p.requires_grad = False\n",
    "        #print(n, p.requires_grad)\n",
    "\n",
    "# # We freeze all the layers.\n",
    "for n, p in fp32_mnist.named_parameters():\n",
    "        print(n, p.requires_grad)"
   ]
  },
  {
   "cell_type": "code",
   "execution_count": null,
   "metadata": {},
   "outputs": [],
   "source": [
    "# # # We freeze all the layers.\n",
    "# # for n, p in fp32_mnist.named_parameters():\n",
    "# #         print(n, p.requires_grad)"
   ]
  },
  {
   "cell_type": "code",
   "execution_count": 22,
   "metadata": {},
   "outputs": [],
   "source": [
    "# len(list(fp32_mnist.parameters())[2:-1]), len(list(fp32_mnist.parameters()))"
   ]
  },
  {
   "cell_type": "code",
   "execution_count": 26,
   "metadata": {},
   "outputs": [],
   "source": [
    "# # We freeze all the layers.\n",
    "\n",
    "quant_mnist = QuantMNIST(bit=6, output_size=param[\"output_size\"]).to(\"cpu\")\n",
    "\n",
    "for n, p in list(quant_mnist.named_parameters())[7: -2]:\n",
    "        p.requires_grad = False\n",
    "        #print(n, p.requires_grad)\n",
    "\n",
    "# for n, p in list(quant_mnist.named_parameters()):\n",
    "#         print(n, p.requires_grad)"
   ]
  },
  {
   "cell_type": "markdown",
   "metadata": {},
   "source": [
    "|x| -> 2 relus \n",
    "faster absolute value ? "
   ]
  },
  {
   "cell_type": "code",
   "execution_count": 27,
   "metadata": {},
   "outputs": [
    {
     "name": "stdout",
     "output_type": "stream",
     "text": [
      "Epoch  0: Train loss = 1.0226 VS Test loss = 0.4957 - Accuracy train: 0.6490 VS Accuracy test: 0.8512\n",
      "Epoch  1: Train loss = 0.5312 VS Test loss = 0.4840 - Accuracy train: 0.8423 VS Accuracy test: 0.8583\n",
      "Epoch  2: Train loss = 0.4839 VS Test loss = 0.4608 - Accuracy train: 0.8578 VS Accuracy test: 0.8667\n",
      "Epoch  3: Train loss = 0.4463 VS Test loss = 0.4447 - Accuracy train: 0.8704 VS Accuracy test: 0.8733\n",
      "Epoch  4: Train loss = 0.4159 VS Test loss = 0.4048 - Accuracy train: 0.8811 VS Accuracy test: 0.8832\n",
      " 12%|█▎        | 5/40 [02:51<19:47, 33.93s/it]"
     ]
    }
   ],
   "source": [
    "if True:\n",
    "    param[\"training\"] = \"quant\"\n",
    "    param[\"epochs\"] = 40\n",
    "    param[\"lr\"] = 0.6\n",
    "    param[\"milestones\"] = [25]\n",
    "    param[\"gamma\"] = 0.1\n",
    "\n",
    "    quant_mnist = train(quant_mnist, train_loader, test_loader, param, device=device)"
   ]
  },
  {
   "cell_type": "code",
   "execution_count": 11,
   "metadata": {},
   "outputs": [
    {
     "name": "stdout",
     "output_type": "stream",
     "text": [
      "Epoch  0: Train loss = 1.1537 VS Test loss = 0.5069 - Accuracy train: 0.6001 VS Accuracy test: 0.8585\n",
      "Epoch  1: Train loss = 0.4118 VS Test loss = 0.3476 - Accuracy train: 0.8816 VS Accuracy test: 0.9021\n",
      "Epoch  2: Train loss = 0.3048 VS Test loss = 0.2766 - Accuracy train: 0.9132 VS Accuracy test: 0.9209\n",
      "Epoch  3: Train loss = 0.2596 VS Test loss = 0.2674 - Accuracy train: 0.9248 VS Accuracy test: 0.9236\n",
      "Epoch  4: Train loss = 0.2328 VS Test loss = 0.2431 - Accuracy train: 0.9326 VS Accuracy test: 0.9287\n",
      "Epoch  5: Train loss = 0.2086 VS Test loss = 0.2351 - Accuracy train: 0.9403 VS Accuracy test: 0.9336\n",
      "Epoch  6: Train loss = 0.1943 VS Test loss = 0.2230 - Accuracy train: 0.9439 VS Accuracy test: 0.9358\n",
      "Epoch  7: Train loss = 0.1791 VS Test loss = 0.2203 - Accuracy train: 0.9484 VS Accuracy test: 0.9372\n",
      "Epoch  8: Train loss = 0.1703 VS Test loss = 0.2270 - Accuracy train: 0.9515 VS Accuracy test: 0.9375\n",
      "Epoch  9: Train loss = 0.1604 VS Test loss = 0.2156 - Accuracy train: 0.9546 VS Accuracy test: 0.9417\n",
      "Epoch 10: Train loss = 0.1515 VS Test loss = 0.2116 - Accuracy train: 0.9564 VS Accuracy test: 0.9431\n",
      "Epoch 11: Train loss = 0.1447 VS Test loss = 0.2158 - Accuracy train: 0.9575 VS Accuracy test: 0.9421\n",
      "Epoch 12: Train loss = 0.1383 VS Test loss = 0.2107 - Accuracy train: 0.9602 VS Accuracy test: 0.9430\n",
      "Epoch 13: Train loss = 0.1104 VS Test loss = 0.1949 - Accuracy train: 0.9690 VS Accuracy test: 0.9464\n",
      "Epoch 14: Train loss = 0.1064 VS Test loss = 0.1920 - Accuracy train: 0.9703 VS Accuracy test: 0.9474\n",
      "Epoch 15: Train loss = 0.1047 VS Test loss = 0.1969 - Accuracy train: 0.9712 VS Accuracy test: 0.9458\n",
      "Epoch 16: Train loss = 0.1037 VS Test loss = 0.1923 - Accuracy train: 0.9714 VS Accuracy test: 0.9467\n",
      "Epoch 17: Train loss = 0.1025 VS Test loss = 0.1913 - Accuracy train: 0.9717 VS Accuracy test: 0.9491\n",
      "Epoch 18: Train loss = 0.1014 VS Test loss = 0.1923 - Accuracy train: 0.9720 VS Accuracy test: 0.9492\n",
      "Epoch 19: Train loss = 0.1007 VS Test loss = 0.1921 - Accuracy train: 0.9725 VS Accuracy test: 0.9476\n",
      "Epoch 20: Train loss = 0.0997 VS Test loss = 0.1932 - Accuracy train: 0.9726 VS Accuracy test: 0.9475\n",
      "Epoch 21: Train loss = 0.0987 VS Test loss = 0.1919 - Accuracy train: 0.9728 VS Accuracy test: 0.9475\n",
      "Epoch 22: Train loss = 0.0979 VS Test loss = 0.1937 - Accuracy train: 0.9734 VS Accuracy test: 0.9477\n",
      "Epoch 23: Train loss = 0.0970 VS Test loss = 0.1923 - Accuracy train: 0.9732 VS Accuracy test: 0.9478\n",
      "Epoch 24: Train loss = 0.0961 VS Test loss = 0.1929 - Accuracy train: 0.9742 VS Accuracy test: 0.9474\n",
      "100%|██████████| 25/25 [01:56<00:00,  4.66s/it]\n"
     ]
    }
   ],
   "source": [
    "if False:\n",
    "    param[\"training\"] = \"quant\"\n",
    "    param[\"epochs\"] = 20\n",
    "    param[\"lr\"] = 0.1\n",
    "    param[\"milestones\"] = [60]\n",
    "    param[\"gamma\"] = 0.1\n",
    "\n",
    "    quant_mnist = train(quant_mnist, train_loader, test_loader, param, device=device)"
   ]
  },
  {
   "cell_type": "code",
   "execution_count": 20,
   "metadata": {},
   "outputs": [
    {
     "name": "stdout",
     "output_type": "stream",
     "text": [
      "Top 1 accuracy before fine-tuning = 94.1206%\n"
     ]
    }
   ],
   "source": [
    "path = \"./checkpoints/MNIST_V727/quant/MNIST_quant_state_dict.pt\"\n",
    "\n",
    "checkpoint = torch.load(path, map_location=device)\n",
    "\n",
    "quant_mnist = QuantMNIST(bit=6, output_size=param[\"output_size\"]).to(\"cpu\")\n",
    "\n",
    "quant_mnist.load_state_dict(checkpoint)\n",
    "\n",
    "# We freeze all the layers.\n",
    "for i, (n, p) in enumerate(list(quant_mnist.named_parameters())[7:-2]):\n",
    "    p.requires_grad = False\n",
    "\n",
    "\n",
    "acc_before_ft = torch_inference(quant_mnist, test_loader, device=device)\n",
    "param[\"accuracy_test\"].append(acc_before_ft)\n",
    "print(f\"Top 1 accuracy before fine-tuning = {acc_before_ft * 100:.4f}%\")"
   ]
  },
  {
   "cell_type": "code",
   "execution_count": 39,
   "metadata": {},
   "outputs": [
    {
     "name": "stdout",
     "output_type": "stream",
     "text": [
      "Maximum bit-width in the circuit: 17\n"
     ]
    }
   ],
   "source": [
    "data_calibration, _ = next(iter(train_loader))\n",
    "\n",
    "\n",
    "def fhe_compatibility(model: Callable, data: DataLoader, rounding=5, mlir=False) -> Callable:\n",
    "    \"\"\"Test if the model is FHE-compatible.\n",
    "\n",
    "    Args:\n",
    "        model (Callable): The Brevitas model.\n",
    "        data (DataLoader): The data loader.\n",
    "\n",
    "    Returns:\n",
    "        Callable: Quantized model.\n",
    "    \"\"\"\n",
    "\n",
    "    qmodel = compile_brevitas_qat_model(\n",
    "        model.to(\"cpu\"),\n",
    "        # Training\n",
    "        torch_inputset=data,\n",
    "        show_mlir=mlir,\n",
    "        output_onnx_file=\"test.onnx\",\n",
    "        rounding_threshold_bits=rounding,\n",
    "    )\n",
    "\n",
    "    return qmodel\n",
    "\n",
    "\n",
    "qmodel = fhe_compatibility(quant_mnist, data_calibration, mlir=False, rounding=4)\n",
    "\n",
    "print(f\"Maximum bit-width in the circuit: {qmodel.fhe_circuit.graph.maximum_integer_bit_width()}\")"
   ]
  },
  {
   "cell_type": "code",
   "execution_count": 42,
   "metadata": {},
   "outputs": [
    {
     "name": "stderr",
     "output_type": "stream",
     "text": [
      "100%|██████████| 156/156 [12:55<00:00,  4.97s/it]\n",
      "100%|██████████| 156/156 [12:53<00:00,  4.96s/it]\n",
      "100%|██████████| 156/156 [13:23<00:00,  5.15s/it]\n",
      "100%|██████████| 156/156 [14:42<00:00,  5.65s/it]\n"
     ]
    }
   ],
   "source": [
    "data_calibration, _ = next(iter(train_loader))\n",
    "\n",
    "history = {}\n",
    "\n",
    "for thresold in range(quant_mnist.bit - 1, 1, -1):\n",
    "    history_yhats, history_timing = [], []\n",
    "\n",
    "    for data, labels in tqdm(test_loader):\n",
    "\n",
    "        data, labels = data.detach().cpu().numpy(), labels.detach().cpu().numpy()\n",
    "\n",
    "        history[thresold] = []\n",
    "        try:\n",
    "\n",
    "            qmodel = compile_brevitas_qat_model(\n",
    "                quant_mnist.to(\"cpu\"),\n",
    "                torch_inputset=data_calibration,\n",
    "                rounding_threshold_bits=thresold,\n",
    "            )\n",
    "            start_time = time()\n",
    "            predictions = qmodel.forward(data, fhe=\"simulate\")\n",
    "            end_time = ((time() - start_time) / 60.0) / data.shape[0]\n",
    "\n",
    "            history_yhats.extend(predictions.argmax(1) == labels)\n",
    "            history_timing.append(end_time)\n",
    "        except:\n",
    "            print(thresold)\n",
    "\n",
    "            history_yhats.extend(None)\n",
    "            history_timing.append(None)\n",
    "\n",
    "    history[thresold].append([history_yhats, history_timing])"
   ]
  },
  {
   "cell_type": "code",
   "execution_count": 73,
   "metadata": {},
   "outputs": [
    {
     "name": "stdout",
     "output_type": "stream",
     "text": [
      "5: accuracy = 0.6098758012820513, 0.00021265146330508406\n",
      "4: accuracy = 0.23888221153846154, 0.00021482940532394453\n",
      "3: accuracy = 0.11828926282051282, 0.0002150003475925097\n",
      "2: accuracy = 0.10586939102564102, 0.00021364874461204068\n"
     ]
    }
   ],
   "source": [
    "for threshold in history.keys():\n",
    "    print(\n",
    "        f\"{threshold=}: accuracy = {np.mean(history[threshold][0][0])}, {np.mean(history[threshold][0][1])}\"\n",
    "    )"
   ]
  }
 ],
 "metadata": {
  "execution": {
   "timeout": 10800
  },
  "kernelspec": {
   "display_name": "Python 3.8.16 ('.venv': poetry)",
   "language": "python",
   "name": "python3"
  },
  "language_info": {
   "codemirror_mode": {
    "name": "ipython",
    "version": 3
   },
   "file_extension": ".py",
   "mimetype": "text/x-python",
   "name": "python",
   "nbconvert_exporter": "python",
   "pygments_lexer": "ipython3",
   "version": "3.8.16"
  },
  "vscode": {
   "interpreter": {
    "hash": "1069ca3ee43010eb0dc75ae1023d43c37aff1ecf2400458a3da60effb006872e"
   }
  }
 },
 "nbformat": 4,
 "nbformat_minor": 2
}
