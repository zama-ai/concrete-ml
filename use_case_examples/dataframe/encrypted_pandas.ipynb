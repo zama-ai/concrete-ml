{
 "cells": [
  {
   "cell_type": "code",
   "execution_count": 1,
   "metadata": {},
   "outputs": [],
   "source": [
    "import json\n",
    "import shutil\n",
    "from pathlib import Path\n",
    "\n",
    "import numpy\n",
    "import pandas\n",
    "from pandas.testing import assert_frame_equal\n",
    "\n",
    "from concrete.ml.pandas import (\n",
    "    encrypt_from_pandas,\n",
    "    get_client_and_eval_keys,\n",
    "    load_encrypted_dataframe,\n",
    "    load_server,\n",
    ")\n",
    "\n",
    "pandas.set_option(\"display.max_columns\", None)\n",
    "pandas.set_option(\"display.width\", 1000)\n",
    "numpy.random.seed(0)"
   ]
  },
  {
   "cell_type": "markdown",
   "metadata": {},
   "source": [
    "# Clients"
   ]
  },
  {
   "cell_type": "code",
   "execution_count": 2,
   "metadata": {},
   "outputs": [],
   "source": [
    "# Path directory for client and server files\n",
    "INPUTS_OUTPUTS_DIR = Path(\"inputs_outputs\")\n",
    "DATA_DIR = Path(\"data\")\n",
    "\n",
    "if INPUTS_OUTPUTS_DIR.is_dir():\n",
    "    shutil.rmtree(INPUTS_OUTPUTS_DIR)\n",
    "\n",
    "INPUTS_OUTPUTS_DIR.mkdir(exist_ok=True)\n",
    "\n",
    "# Pandas kwargs\n",
    "HOW = \"left\"\n",
    "ON = \"id\"\n",
    "\n",
    "# TODO: remove this if possible\n",
    "OPERATOR = \"left_right_join\""
   ]
  },
  {
   "cell_type": "code",
   "execution_count": 3,
   "metadata": {},
   "outputs": [
    {
     "name": "stdout",
     "output_type": "stream",
     "text": [
      "   id  feat_left_1  feat_left_2  feat_left_3\n",
      "0   1           13            3            8\n",
      "1   2            6            5            8\n",
      "2   3            1            8            9\n",
      "3   4            4            7            2\n",
      "4   5           12            9            6\n",
      "5   6            4            9           10\n",
      "6   7            8           13           14\n",
      "7   8           10           11            9\n",
      "8   9            4            2           10\n",
      "9  10            6            7            5\n"
     ]
    }
   ],
   "source": [
    "df_left = pandas.read_csv(DATA_DIR / \"df_left.csv\", index_col=0)\n",
    "df_right = pandas.read_csv(DATA_DIR / \"df_right.csv\", index_col=0)\n",
    "\n",
    "print(df_left)"
   ]
  },
  {
   "cell_type": "code",
   "execution_count": 4,
   "metadata": {},
   "outputs": [
    {
     "name": "stdout",
     "output_type": "stream",
     "text": [
      "   id  feat_right_1  feat_right_2  feat_right_3  feat_right_4  feat_right_5\n",
      "0   4             4             6             4             4             4\n",
      "1   5             1             1             9            14             8\n",
      "2   6             4             3             2             4             1\n"
     ]
    }
   ],
   "source": [
    "print(df_right)"
   ]
  },
  {
   "cell_type": "code",
   "execution_count": 5,
   "metadata": {},
   "outputs": [],
   "source": [
    "client_1, evaluation_keys_1 = get_client_and_eval_keys(OPERATOR)"
   ]
  },
  {
   "cell_type": "code",
   "execution_count": 6,
   "metadata": {},
   "outputs": [],
   "source": [
    "df_left_enc = encrypt_from_pandas(df_left, client_1, evaluation_keys_1, OPERATOR)\n",
    "df_right_enc = encrypt_from_pandas(df_right, client_1, evaluation_keys_1, OPERATOR)"
   ]
  },
  {
   "cell_type": "code",
   "execution_count": 7,
   "metadata": {},
   "outputs": [],
   "source": [
    "df_left_enc_path = INPUTS_OUTPUTS_DIR / \"df_left_enc.json\"\n",
    "df_right_enc_path = INPUTS_OUTPUTS_DIR / \"df_right_enc.json\"\n",
    "\n",
    "df_left_enc.to_json(df_left_enc_path)\n",
    "df_right_enc.to_json(df_right_enc_path)"
   ]
  },
  {
   "cell_type": "markdown",
   "metadata": {},
   "source": [
    "# Server"
   ]
  },
  {
   "cell_type": "code",
   "execution_count": 8,
   "metadata": {},
   "outputs": [],
   "source": [
    "server = load_server(\"left_right_join\")"
   ]
  },
  {
   "cell_type": "code",
   "execution_count": 9,
   "metadata": {},
   "outputs": [],
   "source": [
    "df_left_enc_server = load_encrypted_dataframe(df_left_enc_path)\n",
    "df_right_enc_server = load_encrypted_dataframe(df_right_enc_path)"
   ]
  },
  {
   "cell_type": "code",
   "execution_count": 10,
   "metadata": {},
   "outputs": [],
   "source": [
    "df_joined_enc_server = df_left_enc_server.merge(df_right_enc_server, server, how=HOW, on=ON)"
   ]
  },
  {
   "cell_type": "code",
   "execution_count": 11,
   "metadata": {},
   "outputs": [],
   "source": [
    "df_joined_enc_server_path = INPUTS_OUTPUTS_DIR / \"df_joined_enc.json\"\n",
    "\n",
    "df_joined_enc_server.to_json(df_joined_enc_server_path)"
   ]
  },
  {
   "cell_type": "markdown",
   "metadata": {},
   "source": [
    "# Client"
   ]
  },
  {
   "cell_type": "code",
   "execution_count": 12,
   "metadata": {},
   "outputs": [],
   "source": [
    "df_joined_enc = load_encrypted_dataframe(df_joined_enc_server_path)"
   ]
  },
  {
   "cell_type": "code",
   "execution_count": 13,
   "metadata": {},
   "outputs": [],
   "source": [
    "df_joined_cml = df_joined_enc.decrypt_to_pandas(client_1)"
   ]
  },
  {
   "cell_type": "markdown",
   "metadata": {},
   "source": [
    "## Concrete ML vs Pandas comparison\n"
   ]
  },
  {
   "cell_type": "code",
   "execution_count": 14,
   "metadata": {},
   "outputs": [],
   "source": [
    "def df_are_equal(df_1, df_2):\n",
    "    \"\"\"Determines if both data-frames are identical, including NaN values.\n",
    "\n",
    "    NaN values have the property of no being equal to one another (ie NaN != NaN). In the following\n",
    "    notebook we want to be able to determine if the CP result is identical to Pandas, including the\n",
    "    NaNs positions (meaning we want to have NaN == NaN)\n",
    "    \"\"\"\n",
    "    try:\n",
    "        assert_frame_equal(df_1, df_2, check_dtype=False)\n",
    "        return True\n",
    "    except AssertionError:\n",
    "        return False"
   ]
  },
  {
   "cell_type": "code",
   "execution_count": 15,
   "metadata": {},
   "outputs": [
    {
     "name": "stdout",
     "output_type": "stream",
     "text": [
      "   id  feat_left_1  feat_left_2  feat_left_3  feat_right_1  feat_right_2  feat_right_3  feat_right_4  feat_right_5\n",
      "0   1           13            3            8           NaN           NaN           NaN           NaN           NaN\n",
      "1   2            6            5            8           NaN           NaN           NaN           NaN           NaN\n",
      "2   3            1            8            9           NaN           NaN           NaN           NaN           NaN\n",
      "3   4            4            7            2           4.0           6.0           4.0           4.0           4.0\n",
      "4   5           12            9            6           1.0           1.0           9.0          14.0           8.0\n",
      "5   6            4            9           10           4.0           3.0           2.0           4.0           1.0\n",
      "6   7            8           13           14           NaN           NaN           NaN           NaN           NaN\n",
      "7   8           10           11            9           NaN           NaN           NaN           NaN           NaN\n",
      "8   9            4            2           10           NaN           NaN           NaN           NaN           NaN\n",
      "9  10            6            7            5           NaN           NaN           NaN           NaN           NaN\n"
     ]
    }
   ],
   "source": [
    "# Compute the left-joined data-frame using Pandas\n",
    "df_joined_pandas = pandas.merge(df_left, df_right, on=ON, how=HOW)\n",
    "\n",
    "print(df_joined_pandas)"
   ]
  },
  {
   "cell_type": "code",
   "execution_count": 16,
   "metadata": {},
   "outputs": [
    {
     "name": "stdout",
     "output_type": "stream",
     "text": [
      "Concrete ML result is equal to Pandas: True \n",
      "\n",
      "     id  feat_left_1  feat_left_2  feat_left_3  feat_right_1  feat_right_2  feat_right_3  feat_right_4  feat_right_5\n",
      "0   1.0         13.0          3.0          8.0           NaN           NaN           NaN           NaN           NaN\n",
      "1   2.0          6.0          5.0          8.0           NaN           NaN           NaN           NaN           NaN\n",
      "2   3.0          1.0          8.0          9.0           NaN           NaN           NaN           NaN           NaN\n",
      "3   4.0          4.0          7.0          2.0           4.0           6.0           4.0           4.0           4.0\n",
      "4   5.0         12.0          9.0          6.0           1.0           1.0           9.0          14.0           8.0\n",
      "5   6.0          4.0          9.0         10.0           4.0           3.0           2.0           4.0           1.0\n",
      "6   7.0          8.0         13.0         14.0           NaN           NaN           NaN           NaN           NaN\n",
      "7   8.0         10.0         11.0          9.0           NaN           NaN           NaN           NaN           NaN\n",
      "8   9.0          4.0          2.0         10.0           NaN           NaN           NaN           NaN           NaN\n",
      "9  10.0          6.0          7.0          5.0           NaN           NaN           NaN           NaN           NaN\n"
     ]
    }
   ],
   "source": [
    "# Compte the joined Pandas data-frame to the Concrete ML result\n",
    "print(\"Concrete ML result is equal to Pandas:\", df_are_equal(df_joined_pandas, df_joined_cml), \"\\n\")\n",
    "\n",
    "print(df_joined_cml)"
   ]
  },
  {
   "cell_type": "code",
   "execution_count": null,
   "metadata": {},
   "outputs": [],
   "source": []
  }
 ],
 "metadata": {
  "execution": {
   "timeout": 10800
  }
 },
 "nbformat": 4,
 "nbformat_minor": 2
}
